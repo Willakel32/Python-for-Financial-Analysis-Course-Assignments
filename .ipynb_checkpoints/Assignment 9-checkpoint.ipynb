{
 "cells": [
  {
   "cell_type": "markdown",
   "id": "7d4ab69e-fdc4-4a70-b3cc-21bbf2b5e9c9",
   "metadata": {},
   "source": [
    "# Assignment 9 #"
   ]
  },
  {
   "cell_type": "markdown",
   "id": "2d91e6fd-8b5e-4e26-93f8-0dde709695ef",
   "metadata": {},
   "source": [
    "### Imports and Cleaning ###"
   ]
  },
  {
   "cell_type": "code",
   "execution_count": 9,
   "id": "676beecf-304c-409b-aa7b-2080c037ab61",
   "metadata": {},
   "outputs": [],
   "source": [
    "import pandas as pd\n",
    "import seaborn as sns\n",
    "import matplotlib.pyplot as plt\n",
    "from tiingo import TiingoClient\n",
    "import numpy as np\n",
    "from datetime import date\n",
    "import statsmodels.api as sm\n",
    "from statsmodels import regression\n",
    "import warnings\n",
    "warnings.filterwarnings('ignore')\n",
    "from dateutil.relativedelta import relativedelta\n",
    "config = {}\n",
    "\n",
    "config['session'] = True\n",
    "\n",
    "config['api_key'] = \"110ee73e29ec4269f49eb85cfb4b976ab8e73361\"\n",
    "\n",
    "client = TiingoClient(config)"
   ]
  },
  {
   "cell_type": "code",
   "execution_count": 5,
   "id": "d19e1e93-4c58-44e0-9479-f4894cd1a0f9",
   "metadata": {},
   "outputs": [],
   "source": [
    "def download_financial_data(ticker):\n",
    "    fin_data = client.get_ticker_price(ticker,\n",
    "                                       fmt='csv',\n",
    "                                       startDate = date.today() - relativedelta(years=1),\n",
    "                                       endDate = date.today(),\n",
    "                                       frequency = 'daily')\n",
    "    file_name = f\"{ticker}.csv\"\n",
    "    with open(file_name,'w') as outfile:\n",
    "        outfile.write(fin_data)\n",
    "    print(f'{ticker}.csv created')\n",
    "    return pd.read_csv(f\"{ticker}.csv\")"
   ]
  },
  {
   "cell_type": "code",
   "execution_count": 3,
   "id": "915bf605-0d9a-472d-a57a-ef2360ab7536",
   "metadata": {},
   "outputs": [],
   "source": [
    "def compute_lin_reg(index,stock):\n",
    "    x = index\n",
    "    y = stock\n",
    "    \n",
    "    x = sm.add_constant(x)\n",
    "    model = regression.linear_model.OLS(y,x).fit()\n",
    "    \n",
    "    x = x.drop(columns = 'const')\n",
    "    return model.params[0],model.params[1]"
   ]
  },
  {
   "cell_type": "code",
   "execution_count": 6,
   "id": "baf68bed-ede1-4d68-aa8d-9975fd410e2d",
   "metadata": {},
   "outputs": [
    {
     "name": "stdout",
     "output_type": "stream",
     "text": [
      "SPY.csv created\n",
      "AAPL.csv created\n",
      "WFC.csv created\n",
      "IBM.csv created\n",
      "GE.csv created\n",
      "TLSA.csv created\n"
     ]
    }
   ],
   "source": [
    "spy_df = download_financial_data(\"SPY\")\n",
    "aapl_df = download_financial_data(\"AAPL\")\n",
    "wfc_df = download_financial_data(\"WFC\")\n",
    "ibm_df = download_financial_data(\"IBM\")\n",
    "ge_df = download_financial_data(\"GE\")\n",
    "tlsa_df = download_financial_data(\"TLSA\")"
   ]
  },
  {
   "cell_type": "code",
   "execution_count": 7,
   "id": "004100b8-a21e-4fb9-adc3-720fa6d8af9c",
   "metadata": {},
   "outputs": [],
   "source": [
    "spy_df['date'] = pd.to_datetime(spy_df['date'])\n",
    "aapl_df['date'] = pd.to_datetime(aapl_df['date'])\n",
    "wfc_df['date'] = pd.to_datetime(wfc_df['date'])\n",
    "ibm_df['date'] = pd.to_datetime(ibm_df['date'])\n",
    "ge_df['date'] = pd.to_datetime(ge_df['date'])\n",
    "tlsa_df['date'] = pd.to_datetime(tlsa_df['date'])"
   ]
  },
  {
   "cell_type": "code",
   "execution_count": 12,
   "id": "239120c4-41d5-4e07-b6bc-d01b4e97f9a1",
   "metadata": {},
   "outputs": [],
   "source": [
    "spy_df = spy_df[['date','adjClose']]\n",
    "aapl_df = aapl_df[['date','adjClose']]\n",
    "wfc_df = wfc_df[['date','adjClose']]\n",
    "ibm_df = ibm_df[['date','adjClose']]\n",
    "ge_df = ge_df[['date','adjClose']]\n",
    "tlsa_df = tlsa_df[['date','adjClose']]"
   ]
  },
  {
   "cell_type": "code",
   "execution_count": 13,
   "id": "4540ff4e-be52-4154-803c-701353505229",
   "metadata": {},
   "outputs": [],
   "source": [
    "spy_df = spy_df.rename(columns = {'adjClose':'spy_adjClose'})\n",
    "aapl_df = aapl_df.rename(columns = {'adjClose':'aapl_adjClose'})\n",
    "wfc_df = wfc_df.rename(columns = {'adjClose':'wfc_adjClose'})\n",
    "ibm_df = ibm_df.rename(columns = {'adjClose':'ibm_adjClose'})\n",
    "ge_df = ge_df.rename(columns = {'adjClose':'ge_adjClose'})\n",
    "tlsa_df = tlsa_df.rename(columns = {'adjClose':'tlsa_adjClose'})"
   ]
  },
  {
   "cell_type": "code",
   "execution_count": 14,
   "id": "d2ff53ba-f89c-47f0-aa70-ed5d7eaf2590",
   "metadata": {},
   "outputs": [
    {
     "data": {
      "text/html": [
       "<div>\n",
       "<style scoped>\n",
       "    .dataframe tbody tr th:only-of-type {\n",
       "        vertical-align: middle;\n",
       "    }\n",
       "\n",
       "    .dataframe tbody tr th {\n",
       "        vertical-align: top;\n",
       "    }\n",
       "\n",
       "    .dataframe thead th {\n",
       "        text-align: right;\n",
       "    }\n",
       "</style>\n",
       "<table border=\"1\" class=\"dataframe\">\n",
       "  <thead>\n",
       "    <tr style=\"text-align: right;\">\n",
       "      <th></th>\n",
       "      <th>date</th>\n",
       "      <th>spy_adjClose</th>\n",
       "      <th>aapl_adjClose</th>\n",
       "      <th>wfc_adjClose</th>\n",
       "      <th>ibm_adjClose</th>\n",
       "      <th>ge_adjClose</th>\n",
       "      <th>tlsa_adjClose</th>\n",
       "    </tr>\n",
       "  </thead>\n",
       "  <tbody>\n",
       "    <tr>\n",
       "      <th>0</th>\n",
       "      <td>2021-06-08</td>\n",
       "      <td>416.761382</td>\n",
       "      <td>126.020377</td>\n",
       "      <td>45.765644</td>\n",
       "      <td>135.641204</td>\n",
       "      <td>110.827522</td>\n",
       "      <td>2.30</td>\n",
       "    </tr>\n",
       "    <tr>\n",
       "      <th>1</th>\n",
       "      <td>2021-06-09</td>\n",
       "      <td>416.139615</td>\n",
       "      <td>126.408162</td>\n",
       "      <td>45.088144</td>\n",
       "      <td>137.097070</td>\n",
       "      <td>109.472077</td>\n",
       "      <td>2.31</td>\n",
       "    </tr>\n",
       "    <tr>\n",
       "      <th>2</th>\n",
       "      <td>2021-06-10</td>\n",
       "      <td>418.074001</td>\n",
       "      <td>125.393954</td>\n",
       "      <td>44.273179</td>\n",
       "      <td>136.978781</td>\n",
       "      <td>108.674757</td>\n",
       "      <td>2.41</td>\n",
       "    </tr>\n",
       "    <tr>\n",
       "      <th>3</th>\n",
       "      <td>2021-06-11</td>\n",
       "      <td>418.764853</td>\n",
       "      <td>126.626913</td>\n",
       "      <td>44.852491</td>\n",
       "      <td>137.652119</td>\n",
       "      <td>109.153149</td>\n",
       "      <td>2.49</td>\n",
       "    </tr>\n",
       "    <tr>\n",
       "      <th>4</th>\n",
       "      <td>2021-06-14</td>\n",
       "      <td>419.702438</td>\n",
       "      <td>129.739141</td>\n",
       "      <td>44.332092</td>\n",
       "      <td>136.514724</td>\n",
       "      <td>107.399045</td>\n",
       "      <td>2.61</td>\n",
       "    </tr>\n",
       "  </tbody>\n",
       "</table>\n",
       "</div>"
      ],
      "text/plain": [
       "        date  spy_adjClose  aapl_adjClose  wfc_adjClose  ibm_adjClose  \\\n",
       "0 2021-06-08    416.761382     126.020377     45.765644    135.641204   \n",
       "1 2021-06-09    416.139615     126.408162     45.088144    137.097070   \n",
       "2 2021-06-10    418.074001     125.393954     44.273179    136.978781   \n",
       "3 2021-06-11    418.764853     126.626913     44.852491    137.652119   \n",
       "4 2021-06-14    419.702438     129.739141     44.332092    136.514724   \n",
       "\n",
       "   ge_adjClose  tlsa_adjClose  \n",
       "0   110.827522           2.30  \n",
       "1   109.472077           2.31  \n",
       "2   108.674757           2.41  \n",
       "3   109.153149           2.49  \n",
       "4   107.399045           2.61  "
      ]
     },
     "execution_count": 14,
     "metadata": {},
     "output_type": "execute_result"
    }
   ],
   "source": [
    "df = spy_df.merge(aapl_df,on='date')\n",
    "df = df.merge(wfc_df, on='date')\n",
    "df = df.merge(ibm_df, on='date')\n",
    "df = df.merge(ge_df,on='date')\n",
    "df = df.merge(tlsa_df,on='date')\n",
    "df = df.dropna()\n",
    "df.head()"
   ]
  },
  {
   "cell_type": "code",
   "execution_count": 16,
   "id": "9f07bdb6-5631-4313-98fc-54e9a5db57c6",
   "metadata": {},
   "outputs": [],
   "source": [
    "df['spy_ret'] = df['spy_adjClose'].pct_change(1)\n",
    "df['aapl_ret'] = df['aapl_adjClose'].pct_change(1)\n",
    "df['wfc_ret'] = df['wfc_adjClose'].pct_change(1)\n",
    "df['ibm_ret'] = df['ibm_adjClose'].pct_change(1)\n",
    "df['ge_ret'] = df['ge_adjClose'].pct_change(1)\n",
    "df['tlsa_ret'] = df['tlsa_adjClose'].pct_change(1)\n",
    "df = df.dropna()"
   ]
  },
  {
   "cell_type": "markdown",
   "id": "2d1fb76a-c6a2-4be0-981f-0fa3c8fd97f0",
   "metadata": {},
   "source": [
    "### Alpha and Beta Calculations ###"
   ]
  },
  {
   "cell_type": "code",
   "execution_count": 17,
   "id": "5ec8a7b0-d59b-465c-8d61-13fc93e399a1",
   "metadata": {},
   "outputs": [],
   "source": [
    "aapl_a,aapl_b = compute_lin_reg(df['spy_ret'],df['aapl_ret'])\n",
    "wfc_a,wfc_b = compute_lin_reg(df['spy_ret'],df['wfc_ret'])\n",
    "ibm_a,ibm_b = compute_lin_reg(df['spy_ret'],df['ibm_ret'])\n",
    "ge_a,ge_b = compute_lin_reg(df['spy_ret'],df['ge_ret'])\n",
    "tlsa_a,tlsa_b = compute_lin_reg(df['spy_ret'],df['tlsa_ret'])"
   ]
  },
  {
   "cell_type": "code",
   "execution_count": 18,
   "id": "21866fdb-76a7-4b0b-8e4f-bd61f5f64f18",
   "metadata": {},
   "outputs": [
    {
     "name": "stdout",
     "output_type": "stream",
     "text": [
      "AAPL alpha: 0.0007261221720641733 beta: 1.2798157567984034 \n",
      "WFC alpha: 0.00015941099031578502 beta: 1.0930878744237227 \n",
      "IBM alpha: 0.0003003383816437539 beta: 0.47573655124201997 \n",
      "GE alpha: -0.001259438904604089 beta: 1.0877589307030582 \n",
      "TLSA alpha: -0.0026456335675754433 beta: 0.4256723620047255\n"
     ]
    }
   ],
   "source": [
    "print(f\"AAPL alpha: {aapl_a} beta: {aapl_b} \\n\" \n",
    "      f\"WFC alpha: {wfc_a} beta: {wfc_b} \\n\"\n",
    "      f\"IBM alpha: {ibm_a} beta: {ibm_b} \\n\"\n",
    "      f\"GE alpha: {ge_a} beta: {ge_b} \\n\"\n",
    "      f\"TLSA alpha: {tlsa_a} beta: {tlsa_b}\")"
   ]
  },
  {
   "cell_type": "code",
   "execution_count": 19,
   "id": "d335630d-26bf-4639-ad6e-f4fc7665d2b0",
   "metadata": {},
   "outputs": [],
   "source": [
    "df['high_risk_ret'] = (df['aapl_ret'] + df['wfc_ret'] + df['ge_ret']) /  3\n",
    "df['low_risk_ret'] = (df['ibm_ret'] + df['tlsa_ret']) / 2"
   ]
  },
  {
   "cell_type": "code",
   "execution_count": 20,
   "id": "b8c90b75-d957-49db-8839-50733dc49be8",
   "metadata": {},
   "outputs": [],
   "source": [
    "high_risk_a,high_risk_b = compute_lin_reg(df['spy_ret'],df['high_risk_ret'])\n",
    "low_risk_a,low_risk_b = compute_lin_reg(df['spy_ret'],df['low_risk_ret'])"
   ]
  },
  {
   "cell_type": "code",
   "execution_count": 21,
   "id": "27e0ebd3-bdde-4ebb-8454-b68124a9b3e0",
   "metadata": {},
   "outputs": [
    {
     "name": "stdout",
     "output_type": "stream",
     "text": [
      "High Risk alpha: -0.00012463524740804368 beta: 1.1535541873083948 \n",
      "Low Risk alpha: -0.0011726475929658446 beta: 0.4507044566233728\n"
     ]
    }
   ],
   "source": [
    "print(f\"High Risk alpha: {high_risk_a} beta: {high_risk_b} \\n\" \n",
    "      f\"Low Risk alpha: {low_risk_a} beta: {low_risk_b}\")"
   ]
  },
  {
   "cell_type": "code",
   "execution_count": 24,
   "id": "ac650efc-e42c-4f3b-9429-ec8a92860e3a",
   "metadata": {},
   "outputs": [],
   "source": [
    "df['middle_risk_ret'] = (.7 * df['aapl_ret']) + (.3 * df['ibm_ret'])"
   ]
  },
  {
   "cell_type": "code",
   "execution_count": 25,
   "id": "7f6cf53a-c4cc-42ff-8384-4412e89c99e6",
   "metadata": {},
   "outputs": [],
   "source": [
    "mid_risk_a,mid_risk_b = compute_lin_reg(df['spy_ret'],df['middle_risk_ret'])"
   ]
  },
  {
   "cell_type": "code",
   "execution_count": 32,
   "id": "2e9da865-a9bc-4415-a6b4-f7e8d3bb6259",
   "metadata": {},
   "outputs": [
    {
     "name": "stdout",
     "output_type": "stream",
     "text": [
      "Optimized Risk alpha: 0.0005983870349380477 beta: 1.0385919951314886 \n",
      "Contrast with High Risk Alpha: 580.11% beta: -9.97% \n",
      "Contrast with Low Risk Alpha: 151.03% beta: 130.44%\n"
     ]
    }
   ],
   "source": [
    "print(f\"Optimized Risk alpha: {mid_risk_a} beta: {mid_risk_b} \\n\"\n",
    "      f\"Contrast with High Risk Alpha: {round(((mid_risk_a-high_risk_a)/abs(high_risk_a))*100,2)}% beta: {round(((mid_risk_b-high_risk_b)/abs(high_risk_b))*100,2)}% \\n\"\n",
    "      f\"Contrast with Low Risk Alpha: {round(((mid_risk_a-low_risk_a)/abs(low_risk_a))*100,2)}% beta: {round(((mid_risk_b-low_risk_b)/abs(low_risk_b))*100,2)}%\")\n"
   ]
  }
 ],
 "metadata": {
  "kernelspec": {
   "display_name": "Python 3 (ipykernel)",
   "language": "python",
   "name": "python3"
  },
  "language_info": {
   "codemirror_mode": {
    "name": "ipython",
    "version": 3
   },
   "file_extension": ".py",
   "mimetype": "text/x-python",
   "name": "python",
   "nbconvert_exporter": "python",
   "pygments_lexer": "ipython3",
   "version": "3.9.7"
  }
 },
 "nbformat": 4,
 "nbformat_minor": 5
}
