{
 "cells": [
  {
   "cell_type": "markdown",
   "id": "7f948876-5809-4dcb-9400-1ffe721feabd",
   "metadata": {},
   "source": [
    "# Assignment 3 #"
   ]
  },
  {
   "cell_type": "code",
   "execution_count": 8,
   "id": "6bf9a9c7-d579-41e4-8c9f-c4ef14c4acc8",
   "metadata": {},
   "outputs": [],
   "source": [
    "from tiingo import TiingoClient\n",
    "import pandas as pd\n",
    "from datetime import date\n",
    "from dateutil.relativedelta import relativedelta\n",
    "config = {}\n",
    "\n",
    "config['session'] = True\n",
    "\n",
    "config['api_key'] = \"110ee73e29ec4269f49eb85cfb4b976ab8e73361\"\n",
    "\n",
    "client = TiingoClient(config)"
   ]
  },
  {
   "cell_type": "code",
   "execution_count": 9,
   "id": "ab2a78f2-e7a8-470b-9340-23fb5ef880fa",
   "metadata": {},
   "outputs": [],
   "source": [
    "#Testing the process\n",
    "historical_prices = client.get_ticker_price(\"GOOGL\",\n",
    "    fmt='csv',\n",
    "    startDate= date.today() - relativedelta(years=1),\n",
    "    endDate=date.today(),\n",
    "    frequency='daily')"
   ]
  },
  {
   "cell_type": "code",
   "execution_count": 10,
   "id": "15aebd93-f1e5-448e-bde6-73b353d5c34b",
   "metadata": {},
   "outputs": [],
   "source": [
    "file_name = \"GOOG.csv\"\n",
    "with open(file_name, 'w') as outfile:\n",
    "    outfile.write(historical_prices)"
   ]
  },
  {
   "cell_type": "code",
   "execution_count": 11,
   "id": "55ae4ce8-40a2-4655-beb7-0717aa75449b",
   "metadata": {},
   "outputs": [],
   "source": [
    "#Function\n",
    "def download_financial_data(ticker,startDate,endDate):\n",
    "    fin_data = client.get_ticker_price(ticker,\n",
    "                                       fmt='csv',\n",
    "                                       startDate = startDate,\n",
    "                                       endDate = endDate,\n",
    "                                       frequency = 'daily')\n",
    "    file_name = f\"{ticker}.csv\"\n",
    "    with open(file_name,'w') as outfile:\n",
    "        outfile.write(fin_data)\n",
    "    print(f'{ticker}.csv created')"
   ]
  },
  {
   "cell_type": "code",
   "execution_count": 26,
   "id": "6428187a-c385-42de-ad74-d56ee6164a5a",
   "metadata": {},
   "outputs": [],
   "source": [
    "def financial_data_summary(data):\n",
    "    return f\"Average closing price: {round(data['close'].mean(),2)} \\n Max closing price: {data['close'].max()} \\n Min closing price: {data['close'].min()}\"\n",
    "            \n",
    "           \n",
    "  "
   ]
  },
  {
   "cell_type": "code",
   "execution_count": 14,
   "id": "3d272045-6855-4d7a-b7c8-c7abceacf018",
   "metadata": {},
   "outputs": [
    {
     "name": "stdout",
     "output_type": "stream",
     "text": [
      "IBM.csv created\n",
      "ORCL.csv created\n",
      "BLK.csv created\n"
     ]
    }
   ],
   "source": [
    "download_financial_data('IBM',date.today() - relativedelta(years=1),date.today())\n",
    "download_financial_data('ORCL',date.today() - relativedelta(years=1),date.today())\n",
    "download_financial_data('BLK',date.today() - relativedelta(years=1),date.today())"
   ]
  },
  {
   "cell_type": "code",
   "execution_count": 15,
   "id": "5b1c0738-7e36-422d-bc0c-2c61b6945bc7",
   "metadata": {},
   "outputs": [],
   "source": [
    "blk_df = pd.read_csv('BLK.csv')\n",
    "ibm_df = pd.read_csv('IBM.csv')\n",
    "orcl_df = pd.read_csv('ORCL.csv')"
   ]
  },
  {
   "cell_type": "code",
   "execution_count": 27,
   "id": "0a8d071d-adc2-4a7b-b032-c9812c4e63e6",
   "metadata": {},
   "outputs": [
    {
     "name": "stdout",
     "output_type": "stream",
     "text": [
      "IBM \n",
      " Average closing price: 134.36 \n",
      " Max closing price: 151.28 \n",
      " Min closing price: 115.81\n",
      "\n",
      "BlackRock \n",
      " Average closing price: 842.48 \n",
      " Max closing price: 971.49 \n",
      " Min closing price: 600.35\n",
      "\n",
      "Oracle \n",
      " Average closing price: 85.46 \n",
      " Max closing price: 103.65 \n",
      " Min closing price: 70.73\n",
      "\n"
     ]
    }
   ],
   "source": [
    "print(f\"IBM \\n {financial_data_summary(ibm_df)}\\n\")\n",
    "print(f\"BlackRock \\n {financial_data_summary(blk_df)}\\n\")\n",
    "print(f\"Oracle \\n {financial_data_summary(orcl_df)}\\n\")"
   ]
  }
 ],
 "metadata": {
  "kernelspec": {
   "display_name": "Python 3 (ipykernel)",
   "language": "python",
   "name": "python3"
  },
  "language_info": {
   "codemirror_mode": {
    "name": "ipython",
    "version": 3
   },
   "file_extension": ".py",
   "mimetype": "text/x-python",
   "name": "python",
   "nbconvert_exporter": "python",
   "pygments_lexer": "ipython3",
   "version": "3.9.7"
  }
 },
 "nbformat": 4,
 "nbformat_minor": 5
}
