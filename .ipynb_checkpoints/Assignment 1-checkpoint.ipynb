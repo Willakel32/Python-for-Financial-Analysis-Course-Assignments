{
 "cells": [
  {
   "cell_type": "markdown",
   "id": "e78847e2-c16f-409c-a8f8-146fda72f370",
   "metadata": {},
   "source": [
    "# Assignment 1 #"
   ]
  },
  {
   "cell_type": "markdown",
   "id": "909d2816-d4c7-4d49-b6e2-6f377249a8f5",
   "metadata": {
    "tags": []
   },
   "source": [
    "### 1. Versions ###"
   ]
  },
  {
   "cell_type": "code",
   "execution_count": 4,
   "id": "f36db9d4-9a7e-4a17-84b7-25c51f8469ca",
   "metadata": {},
   "outputs": [],
   "source": [
    "from platform import python_version\n",
    "import pandas as pd\n",
    "import numpy as np"
   ]
  },
  {
   "cell_type": "code",
   "execution_count": 5,
   "id": "25e31cee-b6c0-43e9-afd9-dbfc2c53483a",
   "metadata": {},
   "outputs": [
    {
     "name": "stdout",
     "output_type": "stream",
     "text": [
      "Python Version:  3.9.7\n"
     ]
    }
   ],
   "source": [
    "print(\"Python Version: \",python_version())"
   ]
  },
  {
   "cell_type": "code",
   "execution_count": 7,
   "id": "59bf6402-f673-4b3f-9856-522a448bf3f7",
   "metadata": {},
   "outputs": [
    {
     "name": "stdout",
     "output_type": "stream",
     "text": [
      "Pandas Version:  1.3.4\n",
      "Numpy Version:  1.20.3\n"
     ]
    }
   ],
   "source": [
    "print(\"Pandas Version: \",pd.__version__)\n",
    "print(\"Numpy Version: \",np.__version__)"
   ]
  },
  {
   "cell_type": "markdown",
   "id": "cf6643d2-9981-4ccf-83de-879a486a3b6f",
   "metadata": {
    "tags": []
   },
   "source": [
    "### 2. Ints and Floats ###"
   ]
  },
  {
   "cell_type": "code",
   "execution_count": 10,
   "id": "dff74517-18d5-482f-a6cf-fca152640809",
   "metadata": {},
   "outputs": [
    {
     "name": "stdout",
     "output_type": "stream",
     "text": [
      "Final Amount: $ 21724.52\n"
     ]
    }
   ],
   "source": [
    "p = 1000\n",
    "i = .08\n",
    "T = 40\n",
    "def comp_interest(principle,interest,period):\n",
    "    A = principle * (1 + interest) ** period\n",
    "    return round(A,2)\n",
    "print(\"Final Amount: $\",comp_interest(p,i,T))"
   ]
  },
  {
   "cell_type": "markdown",
   "id": "e866f358-0cc8-44ec-bc13-1bf10c338779",
   "metadata": {
    "tags": []
   },
   "source": [
    "### 3. ###"
   ]
  },
  {
   "cell_type": "code",
   "execution_count": 11,
   "id": "daa7a8db-0117-4ad0-8551-5febe263e691",
   "metadata": {},
   "outputs": [],
   "source": [
    "#Defer to week 2"
   ]
  },
  {
   "cell_type": "markdown",
   "id": "c023ac2b-c3a5-4e71-ae8a-9620cbe6880c",
   "metadata": {
    "tags": []
   },
   "source": [
    "### 4. Booleans ###"
   ]
  },
  {
   "cell_type": "code",
   "execution_count": 14,
   "id": "a2bdf70e-7d9d-4b5a-ba18-e674592e1004",
   "metadata": {
    "tags": []
   },
   "outputs": [
    {
     "name": "stdout",
     "output_type": "stream",
     "text": [
      "Happy Home 1:  False\n",
      "Happy Home 2:  True\n"
     ]
    }
   ],
   "source": [
    "cat_count = 1\n",
    "dog_count = 2\n",
    "has_dogs = dog_count > 0\n",
    "has_cats = cat_count > 0\n",
    "Happy_home1 = has_cats == True & has_dogs == False\n",
    "Happy_home2 = has_cats == True | has_dogs == True\n",
    "print(\"Happy Home 1: \",Happy_home1)\n",
    "print(\"Happy Home 2: \",Happy_home2)"
   ]
  },
  {
   "cell_type": "markdown",
   "id": "0b4b1a01-bcff-4249-8bf6-c098b7d4d1d4",
   "metadata": {
    "tags": []
   },
   "source": [
    "### 5. Lists ###"
   ]
  },
  {
   "cell_type": "code",
   "execution_count": 32,
   "id": "69e16f2e-f2d9-4392-b3d3-4a93abcd4f6f",
   "metadata": {},
   "outputs": [
    {
     "name": "stdout",
     "output_type": "stream",
     "text": [
      "Appended List:  [2, 3, 5, 7, [11, 13, 17, 19]]\n",
      "Extended List:  [2, 3, 5, 7, 11, 13, 17, 19]\n"
     ]
    }
   ],
   "source": [
    "list_1 = [i for i in range(1,11)]\n",
    "list_2 = [j for j in range(10,21)]\n",
    "\n",
    "non_prime = [1,4,6,8,9,10,12,14,15,16,18,20]\n",
    "\n",
    "for i in non_prime:\n",
    "    if i in list_1:\n",
    "        list_1.remove(i)\n",
    "for i in non_prime:\n",
    "    if i in list_2:\n",
    "        list_2.remove(i)\n",
    "        \n",
    "        \n",
    "list_1.append(list_2)\n",
    "print(\"Appended List: \", list_1)\n",
    "\n",
    "\n",
    "del list_1[4]\n",
    "list_1.extend(list_2)\n",
    "print(\"Extended List: \", list_1)\n"
   ]
  },
  {
   "cell_type": "markdown",
   "id": "b762803c-adcb-4bbd-8be2-8986da220894",
   "metadata": {
    "tags": []
   },
   "source": [
    "### 6. Dictionaries ###"
   ]
  },
  {
   "cell_type": "code",
   "execution_count": 41,
   "id": "4c44e7b6-99c4-41b3-8093-ca75f671244a",
   "metadata": {},
   "outputs": [
    {
     "name": "stdout",
     "output_type": "stream",
     "text": [
      "Swiss Franc : 0.99\n",
      "Exchange rate between EUR and CHF is: 0.87476\n"
     ]
    },
    {
     "ename": "KeyError",
     "evalue": "'CAD'",
     "output_type": "error",
     "traceback": [
      "\u001b[1;31m---------------------------------------------------------------------------\u001b[0m",
      "\u001b[1;31mKeyError\u001b[0m                                  Traceback (most recent call last)",
      "\u001b[1;32m~\\AppData\\Local\\Temp/ipykernel_24544/1724641225.py\u001b[0m in \u001b[0;36m<module>\u001b[1;34m\u001b[0m\n\u001b[0;32m      9\u001b[0m \u001b[0mcurrency_exchange\u001b[0m\u001b[1;33m(\u001b[0m\u001b[1;34m'EUR'\u001b[0m\u001b[1;33m,\u001b[0m\u001b[1;34m'CHF'\u001b[0m\u001b[1;33m,\u001b[0m\u001b[0md1\u001b[0m\u001b[1;33m)\u001b[0m\u001b[1;33m\u001b[0m\u001b[1;33m\u001b[0m\u001b[0m\n\u001b[0;32m     10\u001b[0m \u001b[1;33m\u001b[0m\u001b[0m\n\u001b[1;32m---> 11\u001b[1;33m \u001b[0mcurrency_exchange\u001b[0m\u001b[1;33m(\u001b[0m\u001b[1;34m'CAD'\u001b[0m\u001b[1;33m,\u001b[0m\u001b[1;34m'EUR'\u001b[0m\u001b[1;33m,\u001b[0m\u001b[0md1\u001b[0m\u001b[1;33m)\u001b[0m\u001b[1;33m\u001b[0m\u001b[1;33m\u001b[0m\u001b[0m\n\u001b[0m",
      "\u001b[1;32m~\\AppData\\Local\\Temp/ipykernel_24544/1724641225.py\u001b[0m in \u001b[0;36mcurrency_exchange\u001b[1;34m(c1, c2, lookup)\u001b[0m\n\u001b[0;32m      5\u001b[0m \u001b[1;33m\u001b[0m\u001b[0m\n\u001b[0;32m      6\u001b[0m \u001b[1;32mdef\u001b[0m \u001b[0mcurrency_exchange\u001b[0m\u001b[1;33m(\u001b[0m\u001b[0mc1\u001b[0m\u001b[1;33m,\u001b[0m\u001b[0mc2\u001b[0m\u001b[1;33m,\u001b[0m\u001b[0mlookup\u001b[0m\u001b[1;33m)\u001b[0m\u001b[1;33m:\u001b[0m\u001b[1;33m\u001b[0m\u001b[1;33m\u001b[0m\u001b[0m\n\u001b[1;32m----> 7\u001b[1;33m     \u001b[0mrate\u001b[0m \u001b[1;33m=\u001b[0m \u001b[0mlookup\u001b[0m\u001b[1;33m[\u001b[0m\u001b[0mc2\u001b[0m\u001b[1;33m]\u001b[0m\u001b[1;33m/\u001b[0m\u001b[0mlookup\u001b[0m\u001b[1;33m[\u001b[0m\u001b[0mc1\u001b[0m\u001b[1;33m]\u001b[0m\u001b[1;33m\u001b[0m\u001b[1;33m\u001b[0m\u001b[0m\n\u001b[0m\u001b[0;32m      8\u001b[0m     \u001b[0mprint\u001b[0m\u001b[1;33m(\u001b[0m\u001b[1;34mf\"Exchange rate between {c1} and {c2} is: {round(rate,5)}\"\u001b[0m\u001b[1;33m)\u001b[0m\u001b[1;33m\u001b[0m\u001b[1;33m\u001b[0m\u001b[0m\n\u001b[0;32m      9\u001b[0m \u001b[0mcurrency_exchange\u001b[0m\u001b[1;33m(\u001b[0m\u001b[1;34m'EUR'\u001b[0m\u001b[1;33m,\u001b[0m\u001b[1;34m'CHF'\u001b[0m\u001b[1;33m,\u001b[0m\u001b[0md1\u001b[0m\u001b[1;33m)\u001b[0m\u001b[1;33m\u001b[0m\u001b[1;33m\u001b[0m\u001b[0m\n",
      "\u001b[1;31mKeyError\u001b[0m: 'CAD'"
     ]
    }
   ],
   "source": [
    "d1 = {'USD':1,'BTC':51013.93,'EUR':1.131735}\n",
    "d1['CHF'] = .99\n",
    "print(\"Swiss Franc :\",d1['CHF'])\n",
    "\n",
    "\n",
    "def currency_exchange(c1,c2,lookup):\n",
    "    rate = lookup[c2]/lookup[c1]\n",
    "    print(f\"Exchange rate between {c1} and {c2} is: {round(rate,5)}\")\n",
    "currency_exchange('EUR','CHF',d1)\n",
    "    \n",
    "currency_exchange('CAD','EUR',d1)"
   ]
  },
  {
   "cell_type": "markdown",
   "id": "0072836b-62df-4111-bcf8-e8080a985606",
   "metadata": {
    "tags": []
   },
   "source": [
    "### 7. Tuples ###"
   ]
  },
  {
   "cell_type": "code",
   "execution_count": 42,
   "id": "508cb515-bb3d-4b29-ae5d-2062245fb529",
   "metadata": {},
   "outputs": [
    {
     "name": "stdout",
     "output_type": "stream",
     "text": [
      "p1 magnitude is: 13.0\n",
      "p1 magnitude is: 10.44030650891055\n"
     ]
    }
   ],
   "source": [
    "from math import sqrt\n",
    "p1 = (5,12)\n",
    "p2 = (3,10)\n",
    "def magnitude(point):\n",
    "    return sqrt(point[0]**2 + point[1]**2)\n",
    "print(f\"p1 magnitude is: {magnitude(p1)}\")\n",
    "print(f\"p1 magnitude is: {magnitude(p2)}\")"
   ]
  }
 ],
 "metadata": {
  "kernelspec": {
   "display_name": "Python 3 (ipykernel)",
   "language": "python",
   "name": "python3"
  },
  "language_info": {
   "codemirror_mode": {
    "name": "ipython",
    "version": 3
   },
   "file_extension": ".py",
   "mimetype": "text/x-python",
   "name": "python",
   "nbconvert_exporter": "python",
   "pygments_lexer": "ipython3",
   "version": "3.9.7"
  }
 },
 "nbformat": 4,
 "nbformat_minor": 5
}
