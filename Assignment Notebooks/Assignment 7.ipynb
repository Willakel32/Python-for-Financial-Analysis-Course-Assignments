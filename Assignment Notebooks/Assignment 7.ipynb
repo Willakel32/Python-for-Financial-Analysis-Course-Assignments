{
 "cells": [
  {
   "cell_type": "markdown",
   "id": "343b3a84-a097-4c80-8f88-99f9d74ebf69",
   "metadata": {},
   "source": [
    "# Assignment 7 #"
   ]
  },
  {
   "cell_type": "code",
   "execution_count": 1,
   "id": "8df3e108-167b-4e0b-84d5-a9afb5a2397b",
   "metadata": {},
   "outputs": [],
   "source": [
    "import pandas as pd\n",
    "import seaborn as sns\n",
    "import matplotlib.pyplot as plt\n",
    "from tiingo import TiingoClient\n",
    "import numpy as np\n",
    "from datetime import date\n",
    "import warnings\n",
    "warnings.filterwarnings('ignore')\n",
    "from dateutil.relativedelta import relativedelta\n",
    "config = {}\n",
    "\n",
    "config['session'] = True\n",
    "\n",
    "config['api_key'] = \"110ee73e29ec4269f49eb85cfb4b976ab8e73361\"\n",
    "\n",
    "client = TiingoClient(config)"
   ]
  },
  {
   "cell_type": "code",
   "execution_count": 14,
   "id": "2925f6d0-b9ee-4dbc-99a3-c198723532b5",
   "metadata": {},
   "outputs": [],
   "source": [
    "def download_financial_data(ticker):\n",
    "    fin_data = client.get_ticker_price(ticker,\n",
    "                                       fmt='csv',\n",
    "                                       startDate = date.today() - relativedelta(years=5),\n",
    "                                       endDate = date.today(),\n",
    "                                       frequency = 'daily')\n",
    "    file_name = f\"{ticker}.csv\"\n",
    "    with open(file_name,'w') as outfile:\n",
    "        outfile.write(fin_data)\n",
    "    print(f'{ticker}.csv created')\n",
    "    return pd.read_csv(f\"{ticker}.csv\")"
   ]
  },
  {
   "cell_type": "code",
   "execution_count": 15,
   "id": "bccd6061-dd8a-4d00-b79a-b4e27160a164",
   "metadata": {},
   "outputs": [
    {
     "name": "stdout",
     "output_type": "stream",
     "text": [
      "SPY.csv created\n"
     ]
    }
   ],
   "source": [
    "df = download_financial_data(\"SPY\")"
   ]
  },
  {
   "cell_type": "code",
   "execution_count": 16,
   "id": "5e3e2ec3-e5d2-41c1-9b5f-fdb29682702d",
   "metadata": {},
   "outputs": [
    {
     "data": {
      "text/html": [
       "<div>\n",
       "<style scoped>\n",
       "    .dataframe tbody tr th:only-of-type {\n",
       "        vertical-align: middle;\n",
       "    }\n",
       "\n",
       "    .dataframe tbody tr th {\n",
       "        vertical-align: top;\n",
       "    }\n",
       "\n",
       "    .dataframe thead th {\n",
       "        text-align: right;\n",
       "    }\n",
       "</style>\n",
       "<table border=\"1\" class=\"dataframe\">\n",
       "  <thead>\n",
       "    <tr style=\"text-align: right;\">\n",
       "      <th></th>\n",
       "      <th>date</th>\n",
       "      <th>close</th>\n",
       "      <th>high</th>\n",
       "      <th>low</th>\n",
       "      <th>open</th>\n",
       "      <th>volume</th>\n",
       "      <th>adjClose</th>\n",
       "      <th>adjHigh</th>\n",
       "      <th>adjLow</th>\n",
       "      <th>adjOpen</th>\n",
       "      <th>adjVolume</th>\n",
       "      <th>divCash</th>\n",
       "      <th>splitFactor</th>\n",
       "    </tr>\n",
       "  </thead>\n",
       "  <tbody>\n",
       "    <tr>\n",
       "      <th>0</th>\n",
       "      <td>2017-05-31</td>\n",
       "      <td>241.440002</td>\n",
       "      <td>241.880005</td>\n",
       "      <td>240.639999</td>\n",
       "      <td>241.839996</td>\n",
       "      <td>91796000</td>\n",
       "      <td>221.138419</td>\n",
       "      <td>221.541424</td>\n",
       "      <td>220.405685</td>\n",
       "      <td>221.504779</td>\n",
       "      <td>91796000</td>\n",
       "      <td>0.0</td>\n",
       "      <td>1.0</td>\n",
       "    </tr>\n",
       "    <tr>\n",
       "      <th>1</th>\n",
       "      <td>2017-06-01</td>\n",
       "      <td>243.360001</td>\n",
       "      <td>243.380005</td>\n",
       "      <td>241.639999</td>\n",
       "      <td>241.970001</td>\n",
       "      <td>68962000</td>\n",
       "      <td>222.896974</td>\n",
       "      <td>222.915296</td>\n",
       "      <td>221.321599</td>\n",
       "      <td>221.623853</td>\n",
       "      <td>68962000</td>\n",
       "      <td>0.0</td>\n",
       "      <td>1.0</td>\n",
       "    </tr>\n",
       "    <tr>\n",
       "      <th>2</th>\n",
       "      <td>2017-06-02</td>\n",
       "      <td>244.169998</td>\n",
       "      <td>244.350006</td>\n",
       "      <td>243.080002</td>\n",
       "      <td>243.419998</td>\n",
       "      <td>88666100</td>\n",
       "      <td>223.638862</td>\n",
       "      <td>223.803734</td>\n",
       "      <td>222.640519</td>\n",
       "      <td>222.951926</td>\n",
       "      <td>88666100</td>\n",
       "      <td>0.0</td>\n",
       "      <td>1.0</td>\n",
       "    </tr>\n",
       "    <tr>\n",
       "      <th>3</th>\n",
       "      <td>2017-06-05</td>\n",
       "      <td>243.990005</td>\n",
       "      <td>244.300003</td>\n",
       "      <td>243.759995</td>\n",
       "      <td>243.970001</td>\n",
       "      <td>44698800</td>\n",
       "      <td>223.474004</td>\n",
       "      <td>223.757936</td>\n",
       "      <td>223.263334</td>\n",
       "      <td>223.455682</td>\n",
       "      <td>44698800</td>\n",
       "      <td>0.0</td>\n",
       "      <td>1.0</td>\n",
       "    </tr>\n",
       "    <tr>\n",
       "      <th>4</th>\n",
       "      <td>2017-06-06</td>\n",
       "      <td>243.210007</td>\n",
       "      <td>243.979996</td>\n",
       "      <td>243.119995</td>\n",
       "      <td>243.339996</td>\n",
       "      <td>50375400</td>\n",
       "      <td>222.759592</td>\n",
       "      <td>223.464837</td>\n",
       "      <td>222.677149</td>\n",
       "      <td>222.878651</td>\n",
       "      <td>50375400</td>\n",
       "      <td>0.0</td>\n",
       "      <td>1.0</td>\n",
       "    </tr>\n",
       "  </tbody>\n",
       "</table>\n",
       "</div>"
      ],
      "text/plain": [
       "         date       close        high         low        open    volume  \\\n",
       "0  2017-05-31  241.440002  241.880005  240.639999  241.839996  91796000   \n",
       "1  2017-06-01  243.360001  243.380005  241.639999  241.970001  68962000   \n",
       "2  2017-06-02  244.169998  244.350006  243.080002  243.419998  88666100   \n",
       "3  2017-06-05  243.990005  244.300003  243.759995  243.970001  44698800   \n",
       "4  2017-06-06  243.210007  243.979996  243.119995  243.339996  50375400   \n",
       "\n",
       "     adjClose     adjHigh      adjLow     adjOpen  adjVolume  divCash  \\\n",
       "0  221.138419  221.541424  220.405685  221.504779   91796000      0.0   \n",
       "1  222.896974  222.915296  221.321599  221.623853   68962000      0.0   \n",
       "2  223.638862  223.803734  222.640519  222.951926   88666100      0.0   \n",
       "3  223.474004  223.757936  223.263334  223.455682   44698800      0.0   \n",
       "4  222.759592  223.464837  222.677149  222.878651   50375400      0.0   \n",
       "\n",
       "   splitFactor  \n",
       "0          1.0  \n",
       "1          1.0  \n",
       "2          1.0  \n",
       "3          1.0  \n",
       "4          1.0  "
      ]
     },
     "execution_count": 16,
     "metadata": {},
     "output_type": "execute_result"
    }
   ],
   "source": [
    "df.head()"
   ]
  },
  {
   "cell_type": "code",
   "execution_count": 32,
   "id": "999b3385-9b43-41bd-9057-c6254e449e82",
   "metadata": {},
   "outputs": [],
   "source": [
    "def Calculate_Statistics(df,ticker):\n",
    "    df['Close_lag'] = df['close'].shift(periods=1)\n",
    "    df['date'] = pd.to_datetime(df['date'])\n",
    "    \n",
    "    df['ret_daily'] = df['close'] / df['Close_lag']\n",
    "    df['ret_pct'] = (df['ret_daily'] - 1.0) * 100\n",
    "    \n",
    "    df['Close_lag252'] = df['close'].shift(periods=252)\n",
    "    df['ret_annual'] = df['close'] / df['Close_lag252']\n",
    "    df['ret_daily_ln'] = np.log(df['ret_daily'])\n",
    "    \n",
    "    \n",
    "    sd = df['ret_pct'].std(ddof=0)\n",
    "    mean = df['ret_pct'].mean()\n",
    "    print(f'68% of the daily returns for {ticker} will be between {mean - sd:.4f}% and {mean + sd:.4f}%')\n",
    "    return df['ret_pct'].describe()"
   ]
  },
  {
   "cell_type": "code",
   "execution_count": 29,
   "id": "7c571261-7327-4e0c-ae3f-9621890600ca",
   "metadata": {},
   "outputs": [
    {
     "name": "stdout",
     "output_type": "stream",
     "text": [
      "68% of the daily returns for SPY will be between -1.2134% and 1.3147%\n"
     ]
    },
    {
     "data": {
      "text/plain": [
       "count    1259.000000\n",
       "mean        0.050678\n",
       "std         1.264559\n",
       "min       -10.942373\n",
       "25%        -0.370693\n",
       "50%         0.086201\n",
       "75%         0.627458\n",
       "max         9.060327\n",
       "Name: ret_pct, dtype: float64"
      ]
     },
     "execution_count": 29,
     "metadata": {},
     "output_type": "execute_result"
    }
   ],
   "source": [
    "Calculate_Statistics(df,\"SPY\")"
   ]
  },
  {
   "cell_type": "code",
   "execution_count": 30,
   "id": "9e97ac15-7a51-43df-805e-3f270f96595a",
   "metadata": {},
   "outputs": [
    {
     "name": "stdout",
     "output_type": "stream",
     "text": [
      "FB.csv created\n",
      "68% of the daily returns for FB will be between -2.3639% and 2.4627%\n"
     ]
    },
    {
     "data": {
      "text/plain": [
       "count    1259.000000\n",
       "mean        0.049385\n",
       "std         2.414257\n",
       "min       -26.390093\n",
       "25%        -0.971510\n",
       "50%         0.100083\n",
       "75%         1.270603\n",
       "max        17.593598\n",
       "Name: ret_pct, dtype: float64"
      ]
     },
     "execution_count": 30,
     "metadata": {},
     "output_type": "execute_result"
    }
   ],
   "source": [
    "df2 = download_financial_data(\"FB\")\n",
    "Calculate_Statistics(df2,\"FB\")"
   ]
  },
  {
   "cell_type": "code",
   "execution_count": 33,
   "id": "e640d7c0-3c96-4cbc-8de1-b1d628c5a208",
   "metadata": {},
   "outputs": [
    {
     "name": "stdout",
     "output_type": "stream",
     "text": [
      "WE.csv created\n",
      "68% of the daily returns for WE will be between -3.8994% and 3.9056%\n"
     ]
    },
    {
     "data": {
      "text/plain": [
       "count    404.000000\n",
       "mean       0.003108\n",
       "std        3.907349\n",
       "min      -22.312704\n",
       "25%       -1.288059\n",
       "50%        0.000000\n",
       "75%        1.128745\n",
       "max       20.287622\n",
       "Name: ret_pct, dtype: float64"
      ]
     },
     "execution_count": 33,
     "metadata": {},
     "output_type": "execute_result"
    }
   ],
   "source": [
    "df3 = download_financial_data(\"WE\")\n",
    "Calculate_Statistics(df3,\"WE\")"
   ]
  }
 ],
 "metadata": {
  "kernelspec": {
   "display_name": "Python 3 (ipykernel)",
   "language": "python",
   "name": "python3"
  },
  "language_info": {
   "codemirror_mode": {
    "name": "ipython",
    "version": 3
   },
   "file_extension": ".py",
   "mimetype": "text/x-python",
   "name": "python",
   "nbconvert_exporter": "python",
   "pygments_lexer": "ipython3",
   "version": "3.9.7"
  }
 },
 "nbformat": 4,
 "nbformat_minor": 5
}
