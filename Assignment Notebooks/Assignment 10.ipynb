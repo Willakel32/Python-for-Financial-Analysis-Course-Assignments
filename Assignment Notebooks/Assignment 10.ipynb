{
 "cells": [
  {
   "cell_type": "markdown",
   "id": "147c9e68-ce65-4e80-8520-2dca2d7e26c7",
   "metadata": {},
   "source": [
    "# Assignment 10 #"
   ]
  },
  {
   "cell_type": "code",
   "execution_count": 1,
   "id": "6ad9cb33-eec4-4e9b-841f-26d85953bf1f",
   "metadata": {},
   "outputs": [],
   "source": [
    "import pandas as pd\n",
    "import seaborn as sns\n",
    "import matplotlib.pyplot as plt\n",
    "from tiingo import TiingoClient\n",
    "import numpy as np\n",
    "from datetime import date\n",
    "import warnings\n",
    "warnings.filterwarnings('ignore')\n",
    "from dateutil.relativedelta import relativedelta\n",
    "config = {}\n",
    "\n",
    "config['session'] = True\n",
    "\n",
    "config['api_key'] = \"110ee73e29ec4269f49eb85cfb4b976ab8e73361\"\n",
    "\n",
    "client = TiingoClient(config)"
   ]
  },
  {
   "cell_type": "code",
   "execution_count": 21,
   "id": "50dcd946-b5f9-4537-b143-48fb8c199f2d",
   "metadata": {},
   "outputs": [],
   "source": [
    "def download_financial_data(ticker):\n",
    "    fin_data = client.get_ticker_price(ticker,\n",
    "                                       fmt='csv',\n",
    "                                       startDate = date.today() - relativedelta(years=2),\n",
    "                                       endDate = date.today(),\n",
    "                                       frequency = 'daily')\n",
    "    file_name = f\"{ticker}.csv\"\n",
    "    with open(file_name,'w') as outfile:\n",
    "        outfile.write(fin_data)\n",
    "    print(f'{ticker}.csv created')\n",
    "    return pd.read_csv(f\"{ticker}.csv\")"
   ]
  },
  {
   "cell_type": "code",
   "execution_count": 22,
   "id": "46c130bd-1378-425f-b0f8-34de4305f024",
   "metadata": {},
   "outputs": [
    {
     "name": "stdout",
     "output_type": "stream",
     "text": [
      "CPI.csv created\n"
     ]
    },
    {
     "data": {
      "text/html": [
       "<div>\n",
       "<style scoped>\n",
       "    .dataframe tbody tr th:only-of-type {\n",
       "        vertical-align: middle;\n",
       "    }\n",
       "\n",
       "    .dataframe tbody tr th {\n",
       "        vertical-align: top;\n",
       "    }\n",
       "\n",
       "    .dataframe thead th {\n",
       "        text-align: right;\n",
       "    }\n",
       "</style>\n",
       "<table border=\"1\" class=\"dataframe\">\n",
       "  <thead>\n",
       "    <tr style=\"text-align: right;\">\n",
       "      <th></th>\n",
       "      <th>date</th>\n",
       "      <th>close</th>\n",
       "      <th>high</th>\n",
       "      <th>low</th>\n",
       "      <th>open</th>\n",
       "      <th>volume</th>\n",
       "      <th>adjClose</th>\n",
       "      <th>adjHigh</th>\n",
       "      <th>adjLow</th>\n",
       "      <th>adjOpen</th>\n",
       "      <th>adjVolume</th>\n",
       "      <th>divCash</th>\n",
       "      <th>splitFactor</th>\n",
       "    </tr>\n",
       "  </thead>\n",
       "  <tbody>\n",
       "    <tr>\n",
       "      <th>0</th>\n",
       "      <td>2020-06-11</td>\n",
       "      <td>27.07</td>\n",
       "      <td>27.09</td>\n",
       "      <td>27.07</td>\n",
       "      <td>27.09</td>\n",
       "      <td>1236</td>\n",
       "      <td>26.458009</td>\n",
       "      <td>26.477557</td>\n",
       "      <td>26.458009</td>\n",
       "      <td>26.477557</td>\n",
       "      <td>1236</td>\n",
       "      <td>0.0</td>\n",
       "      <td>1.0</td>\n",
       "    </tr>\n",
       "    <tr>\n",
       "      <th>1</th>\n",
       "      <td>2020-06-12</td>\n",
       "      <td>27.16</td>\n",
       "      <td>27.16</td>\n",
       "      <td>27.12</td>\n",
       "      <td>27.14</td>\n",
       "      <td>736</td>\n",
       "      <td>26.545974</td>\n",
       "      <td>26.545974</td>\n",
       "      <td>26.506879</td>\n",
       "      <td>26.526426</td>\n",
       "      <td>736</td>\n",
       "      <td>0.0</td>\n",
       "      <td>1.0</td>\n",
       "    </tr>\n",
       "    <tr>\n",
       "      <th>2</th>\n",
       "      <td>2020-06-15</td>\n",
       "      <td>27.17</td>\n",
       "      <td>27.19</td>\n",
       "      <td>27.17</td>\n",
       "      <td>27.19</td>\n",
       "      <td>313</td>\n",
       "      <td>26.555748</td>\n",
       "      <td>26.575296</td>\n",
       "      <td>26.555748</td>\n",
       "      <td>26.575296</td>\n",
       "      <td>313</td>\n",
       "      <td>0.0</td>\n",
       "      <td>1.0</td>\n",
       "    </tr>\n",
       "    <tr>\n",
       "      <th>3</th>\n",
       "      <td>2020-06-16</td>\n",
       "      <td>27.21</td>\n",
       "      <td>27.21</td>\n",
       "      <td>27.21</td>\n",
       "      <td>27.21</td>\n",
       "      <td>67</td>\n",
       "      <td>26.594844</td>\n",
       "      <td>26.594844</td>\n",
       "      <td>26.594844</td>\n",
       "      <td>26.594844</td>\n",
       "      <td>67</td>\n",
       "      <td>0.0</td>\n",
       "      <td>1.0</td>\n",
       "    </tr>\n",
       "    <tr>\n",
       "      <th>4</th>\n",
       "      <td>2020-06-17</td>\n",
       "      <td>27.19</td>\n",
       "      <td>27.20</td>\n",
       "      <td>27.18</td>\n",
       "      <td>27.20</td>\n",
       "      <td>2509</td>\n",
       "      <td>26.575296</td>\n",
       "      <td>26.585070</td>\n",
       "      <td>26.565522</td>\n",
       "      <td>26.585070</td>\n",
       "      <td>2509</td>\n",
       "      <td>0.0</td>\n",
       "      <td>1.0</td>\n",
       "    </tr>\n",
       "  </tbody>\n",
       "</table>\n",
       "</div>"
      ],
      "text/plain": [
       "         date  close   high    low   open  volume   adjClose    adjHigh  \\\n",
       "0  2020-06-11  27.07  27.09  27.07  27.09    1236  26.458009  26.477557   \n",
       "1  2020-06-12  27.16  27.16  27.12  27.14     736  26.545974  26.545974   \n",
       "2  2020-06-15  27.17  27.19  27.17  27.19     313  26.555748  26.575296   \n",
       "3  2020-06-16  27.21  27.21  27.21  27.21      67  26.594844  26.594844   \n",
       "4  2020-06-17  27.19  27.20  27.18  27.20    2509  26.575296  26.585070   \n",
       "\n",
       "      adjLow    adjOpen  adjVolume  divCash  splitFactor  \n",
       "0  26.458009  26.477557       1236      0.0          1.0  \n",
       "1  26.506879  26.526426        736      0.0          1.0  \n",
       "2  26.555748  26.575296        313      0.0          1.0  \n",
       "3  26.594844  26.594844         67      0.0          1.0  \n",
       "4  26.565522  26.585070       2509      0.0          1.0  "
      ]
     },
     "execution_count": 22,
     "metadata": {},
     "output_type": "execute_result"
    }
   ],
   "source": [
    "cpi_df = download_financial_data('CPI')\n",
    "cpi_df.head()"
   ]
  },
  {
   "cell_type": "markdown",
   "id": "e6c15f10-4940-4903-b3d6-4e1a18109c83",
   "metadata": {},
   "source": [
    "### Using Numpy ###"
   ]
  },
  {
   "cell_type": "code",
   "execution_count": 23,
   "id": "82eb7295-7354-41e6-80d2-6904ff51d78a",
   "metadata": {},
   "outputs": [
    {
     "data": {
      "text/plain": [
       "array([26.45800902, 26.54597433, 26.55574825, 26.59484394, 26.57529609,\n",
       "       26.55574825, 26.54597433, 26.54597433, 26.52642648, 26.50687863,\n",
       "       26.48733079, 26.46778294, 26.51303621, 26.5362004 , 26.62416571,\n",
       "       26.57529609, 26.57558931, 26.5362004 , 26.56552217, 26.5362004 ,\n",
       "       26.53131344, 26.51665256, 26.52642648, 26.54597433, 26.52642648,\n",
       "       26.56552217, 26.5362004 , 26.54597433, 26.58536323, 26.57744636,\n",
       "       26.56034199, 26.58634063, 26.62416571, 26.69610178, 26.68388438,\n",
       "       26.67166697, 26.65368295, 26.69698143, 26.67753133, 26.68261377,\n",
       "       26.71692024, 26.7218072 , 26.66834384, 26.69747013, 26.6627727 ,\n",
       "       26.66296818, 26.68906456, 26.67577202, 26.59933994, 26.63872885,\n",
       "       26.64361581, 26.66316366, 26.66648679, 26.64371355, 26.66814836,\n",
       "       26.69737239, 26.68984647, 26.69747013, 26.72170946, 26.68632786,\n",
       "       26.6632614 , 26.61839909, 26.67381724, 26.60764778, 26.60452012,\n",
       "       26.68769621, 26.70890562, 26.73656582, 26.69072612, 26.61908327,\n",
       "       26.56073295, 26.59494168, 26.5312157 , 26.54568111, 26.59015246,\n",
       "       26.64293164, 26.6278798 , 26.63296224, 26.67674941, 26.70704857,\n",
       "       26.71692024, 26.70343222, 26.72034111, 26.75601593, 26.75591819,\n",
       "       26.78514222, 26.74614426, 26.72190494, 26.72649868, 26.73167886,\n",
       "       26.66316366, 26.67802002, 26.67059184, 26.52017117, 26.68251603,\n",
       "       26.65251008, 26.62631597, 26.54841781, 26.57959662, 26.52828353,\n",
       "       26.59064115, 26.64772086, 26.7013797 , 26.71701797, 26.69287639,\n",
       "       26.74145278, 26.78152587, 26.7953071 , 26.77702986, 26.83577114,\n",
       "       26.85913081, 26.87349848, 26.84368801, 26.85404837, 26.85346194,\n",
       "       26.85346194, 26.85952177, 26.8633336 , 26.87340074, 26.85219133,\n",
       "       26.8633336 , 26.84896593, 26.87369396, 26.88786615, 26.88258823,\n",
       "       26.89285085, 26.86343134, 26.81534364, 26.85873986, 26.86079238,\n",
       "       26.89226441, 26.9091733 , 26.91718791, 26.90252703, 26.88307692,\n",
       "       26.8905051 , 26.89676041, 26.90252703, 26.92197714, 26.91718791,\n",
       "       26.92143957, 26.9438454 , 26.92627607, 26.93130998, 26.91127305,\n",
       "       26.94137779, 26.92114346, 26.88245146, 26.87504865, 26.85629488,\n",
       "       26.84119315, 26.86705362, 26.93634389, 26.89094001, 26.94601689,\n",
       "       26.86428991, 26.96072379, 26.955986  , 26.84770762, 26.90406765,\n",
       "       26.7118908 , 26.87346939, 26.73627071, 26.85728192, 26.89686225,\n",
       "       26.92647348, 26.86399379, 26.98056331, 26.97730608, 26.99092724,\n",
       "       26.99023631, 26.94305576, 26.93861408, 26.94206872, 26.92134087,\n",
       "       26.94621429, 26.93150739, 26.9341724 , 26.85293894, 26.84336464,\n",
       "       26.86438861, 26.85738062, 26.8206627 , 26.77002751, 26.79805947,\n",
       "       26.80822599, 26.80812728, 26.82322901, 26.83783721, 26.81513527,\n",
       "       26.81789899, 26.82470957, 26.82697976, 26.79292686, 26.791545  ,\n",
       "       26.81266767, 26.81523398, 26.80812728, 26.7939139 , 26.8086208 ,\n",
       "       26.79302556, 26.77604846, 26.7747653 , 26.79332167, 26.84020611,\n",
       "       26.85402468, 26.85895989, 26.88866981, 26.8932102 , 26.89824411,\n",
       "       26.92617737, 26.91393806, 26.96654734, 26.94473373, 26.95568989,\n",
       "       26.94690522, 26.96585641, 26.94799097, 26.97720738, 26.97562811,\n",
       "       26.96398103, 26.96664604, 26.97108772, 26.94660911, 26.9609212 ,\n",
       "       26.93950242, 26.96595511, 26.9802672 , 27.01017454, 26.97809571,\n",
       "       26.95677563, 26.89390113, 26.91808363, 26.94621429, 26.9511495 ,\n",
       "       26.9512482 , 26.92153827, 26.96595511, 26.9609212 , 26.99053243,\n",
       "       26.99556634, 26.99102595, 26.99388837, 27.00060024, 27.00040284,\n",
       "       27.004351  , 26.96121731, 27.02665812, 27.03001406, 27.02063717,\n",
       "       27.04363522, 27.06031621, 27.04995228, 27.02024236, 27.02547367,\n",
       "       26.9560847 , 27.00040284, 26.9560847 , 26.97089031, 26.98076072,\n",
       "       27.01037195, 27.014024  , 27.01066806, 27.03978576, 27.0745296 ,\n",
       "       27.03998317, 27.02024236, 27.08440001, 27.0794648 , 27.0987121 ,\n",
       "       27.09417171, 27.1301987 , 27.09910692, 27.06456049, 27.09969914,\n",
       "       27.12111793, 27.08834817, 27.05686157, 27.08163629, 27.06613975,\n",
       "       27.11884773, 27.13523261, 27.12881685, 27.14322764, 27.15220971,\n",
       "       27.16770625, 27.15329546, 27.17323368, 27.19800841, 27.16375809,\n",
       "       27.15842807, 27.09427042, 27.11401123, 27.10907603, 27.12891555,\n",
       "       27.13385075, 27.1640542 , 27.16583088, 27.15724362, 27.04491838,\n",
       "       27.03149462, 26.94621429, 27.17816889, 27.17816889, 27.15349287,\n",
       "       27.15349287, 27.1979097 , 27.21577514, 27.20787881, 27.20195657,\n",
       "       27.22159868, 27.22416499, 27.17895852, 27.188138  , 27.20778011,\n",
       "       27.08321556, 27.16336327, 27.09772506, 27.1446095 , 27.19800841,\n",
       "       27.15625658, 27.12931037, 27.15842807, 27.16859459, 27.15418379,\n",
       "       27.15753973, 27.0745296 , 27.06179677, 27.08114277, 27.10917473,\n",
       "       27.14381987, 27.12092052, 27.14855766, 27.11065529, 27.16069826,\n",
       "       27.10295638, 27.09920562, 27.13039611, 27.15003822, 27.18734837,\n",
       "       26.98569593, 27.15349287, 27.1519136 , 27.12615184, 27.20778011,\n",
       "       27.24755786, 27.25752697, 27.26186995, 27.26700256, 27.2921721 ,\n",
       "       27.28230169, 27.27726778, 27.30154899, 27.27697167, 27.3163546 ,\n",
       "       27.36807554, 27.38061096, 27.39551527, 27.3260276 , 27.3018451 ,\n",
       "       27.33116021, 27.29671249, 27.26759478, 27.28674338, 27.30648419,\n",
       "       27.29927879, 27.24232654, 27.27687297, 27.27183906, 27.20472028,\n",
       "       27.22900149, 27.18310409, 27.13691058, 27.1882367 , 27.16760755,\n",
       "       27.22159868, 27.2196246 , 27.25950105, 27.22258572, 27.3210924 ,\n",
       "       27.22752093, 27.23245613, 27.24726174, 27.22544814, 27.19623173,\n",
       "       27.17915593, 27.19386284, 27.24657081, 27.29661378, 27.32000665,\n",
       "       27.33422004, 27.32200047, 27.36946099, 27.29514912, 27.26710877,\n",
       "       27.32200047, 27.20538037, 27.21162256, 27.21300972, 27.19576936,\n",
       "       27.26473079, 27.28246656, 27.23778035, 27.2675051 , 27.1830868 ,\n",
       "       27.19249964, 27.16346847, 27.13840059, 27.11333272, 27.10124466,\n",
       "       27.07082633, 27.05953092, 27.08975108, 27.09787585, 27.08915659,\n",
       "       27.17337672, 27.03961534, 27.07954559, 27.08469788, 27.02475296,\n",
       "       27.15851434, 27.08975108, 27.11888134, 27.07924834, 27.1077841 ,\n",
       "       27.11036025, 27.12740244, 27.11392722, 27.06934009, 27.05943184,\n",
       "       27.07478963, 27.1044153 , 27.11888134, 27.27741335, 27.68216538,\n",
       "       27.39621327, 27.52511961, 27.84218362, 27.59447736, 27.34687018,\n",
       "       27.2476886 , 27.28761885, 27.03971442, 27.01494379, 27.06468321,\n",
       "       27.4719123 , 27.57485902, 27.56703151, 27.6055746 , 27.74329928,\n",
       "       27.78075247, 27.79264237, 27.62717459, 27.69355986, 27.74349745,\n",
       "       27.53354162, 27.4157028 , 27.57127051, 27.35695486, 27.1978086 ,\n",
       "       27.25496606, 27.28538378, 27.12504466, 27.20924009, 27.35606022,\n",
       "       27.28647722, 27.2906522 , 27.30635808, 27.38588151, 27.28687484,\n",
       "       26.98408938, 26.94850264, 26.86897921, 26.76957492, 27.10088942,\n",
       "       26.72772572, 26.63108487, 26.67206574, 27.0234443 , 26.64035791,\n",
       "       26.61094342, 26.16882862, 26.08965876, 26.18059442, 26.15466978,\n",
       "       26.4240866 , 26.45330167, 26.52698747, 26.23593355, 26.18887036,\n",
       "       26.16733297, 26.31241123, 26.34142689, 26.44871501, 26.6697724 ,\n",
       "       26.90179792, 26.74664893, 26.705     , 26.926     , 26.8977    ,\n",
       "       26.8598    , 27.        , 26.925     , 26.7381    , 26.4453    ])"
      ]
     },
     "execution_count": 23,
     "metadata": {},
     "output_type": "execute_result"
    }
   ],
   "source": [
    "close = cpi_df['adjClose'].to_numpy()\n",
    "close"
   ]
  },
  {
   "cell_type": "code",
   "execution_count": 24,
   "id": "43cd4b06-25e3-40a7-8138-a7fe810a17fa",
   "metadata": {},
   "outputs": [
    {
     "data": {
      "text/plain": [
       "dtype('float64')"
      ]
     },
     "execution_count": 24,
     "metadata": {},
     "output_type": "execute_result"
    }
   ],
   "source": [
    "cpi_df['adjClose'].dtype"
   ]
  },
  {
   "cell_type": "code",
   "execution_count": 25,
   "id": "6509463a-a498-4a5d-bb9e-12ffd3f22dbc",
   "metadata": {},
   "outputs": [
    {
     "data": {
      "text/plain": [
       "array([[  0.,   1.],\n",
       "       [  1.,   1.],\n",
       "       [  2.,   1.],\n",
       "       ...,\n",
       "       [502.,   1.],\n",
       "       [503.,   1.],\n",
       "       [504.,   1.]])"
      ]
     },
     "execution_count": 25,
     "metadata": {},
     "output_type": "execute_result"
    }
   ],
   "source": [
    "year = list(range(len(close)))\n",
    "A = np.vstack([year, np.ones(len(year))]).T\n",
    "A"
   ]
  },
  {
   "cell_type": "code",
   "execution_count": 26,
   "id": "c890a1e2-46c6-44f6-a2d7-90a6d398b507",
   "metadata": {},
   "outputs": [
    {
     "data": {
      "text/plain": [
       "<matplotlib.collections.PathCollection at 0x29359cd1d90>"
      ]
     },
     "execution_count": 26,
     "metadata": {},
     "output_type": "execute_result"
    },
    {
     "data": {
      "image/png": "[encoded data removed]",
      "text/plain": [
       "<Figure size 432x288 with 1 Axes>"
      ]
     },
     "metadata": {
      "needs_background": "light"
     },
     "output_type": "display_data"
    }
   ],
   "source": [
    "plt.scatter(x=year, y=close)"
   ]
  },
  {
   "cell_type": "code",
   "execution_count": 31,
   "id": "bf37bf41-7e56-42bc-9dbe-2e6db2e3e06c",
   "metadata": {},
   "outputs": [
    {
     "name": "stdout",
     "output_type": "stream",
     "text": [
      "OLS is y = 0.0011365998 x + 26.67\n"
     ]
    }
   ],
   "source": [
    "m, b = np.linalg.lstsq(A, close, rcond=None)[0]\n",
    "print(f'OLS is y = {m:.10f} x + {b:.2f}')"
   ]
  },
  {
   "cell_type": "markdown",
   "id": "afb94340-6e54-49d3-b93f-94b04db7fe1d",
   "metadata": {},
   "source": [
    "### Using Sklearn ###"
   ]
  },
  {
   "cell_type": "code",
   "execution_count": 35,
   "id": "b70f13ee-cd7b-409b-b5e8-193518a94564",
   "metadata": {},
   "outputs": [],
   "source": [
    "from sklearn.linear_model import LinearRegression\n",
    "yhat = close\n",
    "year = np.array(year)\n",
    "x_years = year.reshape((-1, 1))\n"
   ]
  },
  {
   "cell_type": "code",
   "execution_count": 36,
   "id": "84a05b9d-37c1-494d-bdaf-c6f8510736fb",
   "metadata": {},
   "outputs": [
    {
     "data": {
      "text/plain": [
       "LinearRegression()"
      ]
     },
     "execution_count": 36,
     "metadata": {},
     "output_type": "execute_result"
    }
   ],
   "source": [
    "model = LinearRegression()\n",
    "model.fit(x_years, yhat)"
   ]
  },
  {
   "cell_type": "code",
   "execution_count": 37,
   "id": "eeed1ba0-41ed-437a-8bf1-deeff34342ae",
   "metadata": {},
   "outputs": [
    {
     "name": "stdout",
     "output_type": "stream",
     "text": [
      "OLS is y = 0.0011365998 x + 26.67\n"
     ]
    }
   ],
   "source": [
    "mm = model.coef_\n",
    "bb = model.intercept_\n",
    "mm[0]\n",
    "bb\n",
    "print(f'OLS is y = {mm[0]:.10f} x + {bb:.2f}')"
   ]
  },
  {
   "cell_type": "markdown",
   "id": "887a03ad-94d6-4964-96b0-e1edfe713b50",
   "metadata": {},
   "source": [
    "### Other Stocks ###"
   ]
  },
  {
   "cell_type": "code",
   "execution_count": 42,
   "id": "3fda0f21-f3a2-40d0-815b-514fb4c369fe",
   "metadata": {},
   "outputs": [
    {
     "data": {
      "text/html": [
       "<div>\n",
       "<style scoped>\n",
       "    .dataframe tbody tr th:only-of-type {\n",
       "        vertical-align: middle;\n",
       "    }\n",
       "\n",
       "    .dataframe tbody tr th {\n",
       "        vertical-align: top;\n",
       "    }\n",
       "\n",
       "    .dataframe thead tr th {\n",
       "        text-align: left;\n",
       "    }\n",
       "\n",
       "    .dataframe thead tr:last-of-type th {\n",
       "        text-align: right;\n",
       "    }\n",
       "</style>\n",
       "<table border=\"1\" class=\"dataframe\">\n",
       "  <thead>\n",
       "    <tr>\n",
       "      <th>Attributes</th>\n",
       "      <th colspan=\"4\" halign=\"left\">Adj Close</th>\n",
       "      <th colspan=\"4\" halign=\"left\">Close</th>\n",
       "      <th colspan=\"2\" halign=\"left\">High</th>\n",
       "      <th>...</th>\n",
       "      <th colspan=\"2\" halign=\"left\">Low</th>\n",
       "      <th colspan=\"4\" halign=\"left\">Open</th>\n",
       "      <th colspan=\"4\" halign=\"left\">Volume</th>\n",
       "    </tr>\n",
       "    <tr>\n",
       "      <th>Symbols</th>\n",
       "      <th>GE</th>\n",
       "      <th>IBM</th>\n",
       "      <th>WFC</th>\n",
       "      <th>^GSPC</th>\n",
       "      <th>GE</th>\n",
       "      <th>IBM</th>\n",
       "      <th>WFC</th>\n",
       "      <th>^GSPC</th>\n",
       "      <th>GE</th>\n",
       "      <th>IBM</th>\n",
       "      <th>...</th>\n",
       "      <th>WFC</th>\n",
       "      <th>^GSPC</th>\n",
       "      <th>GE</th>\n",
       "      <th>IBM</th>\n",
       "      <th>WFC</th>\n",
       "      <th>^GSPC</th>\n",
       "      <th>GE</th>\n",
       "      <th>IBM</th>\n",
       "      <th>WFC</th>\n",
       "      <th>^GSPC</th>\n",
       "    </tr>\n",
       "    <tr>\n",
       "      <th>Date</th>\n",
       "      <th></th>\n",
       "      <th></th>\n",
       "      <th></th>\n",
       "      <th></th>\n",
       "      <th></th>\n",
       "      <th></th>\n",
       "      <th></th>\n",
       "      <th></th>\n",
       "      <th></th>\n",
       "      <th></th>\n",
       "      <th></th>\n",
       "      <th></th>\n",
       "      <th></th>\n",
       "      <th></th>\n",
       "      <th></th>\n",
       "      <th></th>\n",
       "      <th></th>\n",
       "      <th></th>\n",
       "      <th></th>\n",
       "      <th></th>\n",
       "      <th></th>\n",
       "    </tr>\n",
       "  </thead>\n",
       "  <tbody>\n",
       "    <tr>\n",
       "      <th>2021-01-04</th>\n",
       "      <td>83.421616</td>\n",
       "      <td>110.134727</td>\n",
       "      <td>29.011139</td>\n",
       "      <td>3700.649902</td>\n",
       "      <td>83.760002</td>\n",
       "      <td>118.489487</td>\n",
       "      <td>29.700001</td>\n",
       "      <td>3700.649902</td>\n",
       "      <td>87.199997</td>\n",
       "      <td>120.382408</td>\n",
       "      <td>...</td>\n",
       "      <td>29.400000</td>\n",
       "      <td>3662.709961</td>\n",
       "      <td>87.120003</td>\n",
       "      <td>120.315491</td>\n",
       "      <td>30.320000</td>\n",
       "      <td>3764.610107</td>\n",
       "      <td>9993688.0</td>\n",
       "      <td>5417443.0</td>\n",
       "      <td>31421600.0</td>\n",
       "      <td>5.006680e+09</td>\n",
       "    </tr>\n",
       "    <tr>\n",
       "      <th>2021-01-05</th>\n",
       "      <td>85.811913</td>\n",
       "      <td>112.089684</td>\n",
       "      <td>29.821888</td>\n",
       "      <td>3726.860107</td>\n",
       "      <td>86.160004</td>\n",
       "      <td>120.592735</td>\n",
       "      <td>30.530001</td>\n",
       "      <td>3726.860107</td>\n",
       "      <td>87.040001</td>\n",
       "      <td>121.108986</td>\n",
       "      <td>...</td>\n",
       "      <td>29.820000</td>\n",
       "      <td>3695.070068</td>\n",
       "      <td>83.440002</td>\n",
       "      <td>119.512428</td>\n",
       "      <td>30.090000</td>\n",
       "      <td>3698.020020</td>\n",
       "      <td>10462538.0</td>\n",
       "      <td>6395872.0</td>\n",
       "      <td>37360000.0</td>\n",
       "      <td>4.582620e+09</td>\n",
       "    </tr>\n",
       "    <tr>\n",
       "      <th>2021-01-06</th>\n",
       "      <td>90.512833</td>\n",
       "      <td>114.888817</td>\n",
       "      <td>31.931789</td>\n",
       "      <td>3748.139893</td>\n",
       "      <td>90.879997</td>\n",
       "      <td>123.604210</td>\n",
       "      <td>32.689999</td>\n",
       "      <td>3748.139893</td>\n",
       "      <td>92.959999</td>\n",
       "      <td>126.080307</td>\n",
       "      <td>...</td>\n",
       "      <td>31.790001</td>\n",
       "      <td>3705.340088</td>\n",
       "      <td>86.639999</td>\n",
       "      <td>121.319313</td>\n",
       "      <td>31.900000</td>\n",
       "      <td>3712.199951</td>\n",
       "      <td>16448075.0</td>\n",
       "      <td>8322708.0</td>\n",
       "      <td>73507500.0</td>\n",
       "      <td>6.049970e+09</td>\n",
       "    </tr>\n",
       "    <tr>\n",
       "      <th>2021-01-07</th>\n",
       "      <td>89.795746</td>\n",
       "      <td>114.622231</td>\n",
       "      <td>32.654629</td>\n",
       "      <td>3803.790039</td>\n",
       "      <td>90.160004</td>\n",
       "      <td>123.317398</td>\n",
       "      <td>33.430000</td>\n",
       "      <td>3803.790039</td>\n",
       "      <td>92.559998</td>\n",
       "      <td>124.722755</td>\n",
       "      <td>...</td>\n",
       "      <td>33.320000</td>\n",
       "      <td>3764.709961</td>\n",
       "      <td>92.480003</td>\n",
       "      <td>124.321220</td>\n",
       "      <td>33.580002</td>\n",
       "      <td>3764.709961</td>\n",
       "      <td>9411225.0</td>\n",
       "      <td>4714740.0</td>\n",
       "      <td>50634100.0</td>\n",
       "      <td>5.080870e+09</td>\n",
       "    </tr>\n",
       "    <tr>\n",
       "      <th>2021-01-08</th>\n",
       "      <td>90.353493</td>\n",
       "      <td>114.213470</td>\n",
       "      <td>32.420189</td>\n",
       "      <td>3824.679932</td>\n",
       "      <td>90.720001</td>\n",
       "      <td>122.877632</td>\n",
       "      <td>33.189999</td>\n",
       "      <td>3824.679932</td>\n",
       "      <td>91.519997</td>\n",
       "      <td>123.632889</td>\n",
       "      <td>...</td>\n",
       "      <td>32.669998</td>\n",
       "      <td>3783.600098</td>\n",
       "      <td>90.320000</td>\n",
       "      <td>122.915871</td>\n",
       "      <td>33.610001</td>\n",
       "      <td>3815.050049</td>\n",
       "      <td>9089963.0</td>\n",
       "      <td>4891305.0</td>\n",
       "      <td>32324700.0</td>\n",
       "      <td>4.764180e+09</td>\n",
       "    </tr>\n",
       "  </tbody>\n",
       "</table>\n",
       "<p>5 rows × 24 columns</p>\n",
       "</div>"
      ],
      "text/plain": [
       "Attributes  Adj Close                                          Close  \\\n",
       "Symbols            GE         IBM        WFC        ^GSPC         GE   \n",
       "Date                                                                   \n",
       "2021-01-04  83.421616  110.134727  29.011139  3700.649902  83.760002   \n",
       "2021-01-05  85.811913  112.089684  29.821888  3726.860107  86.160004   \n",
       "2021-01-06  90.512833  114.888817  31.931789  3748.139893  90.879997   \n",
       "2021-01-07  89.795746  114.622231  32.654629  3803.790039  90.160004   \n",
       "2021-01-08  90.353493  114.213470  32.420189  3824.679932  90.720001   \n",
       "\n",
       "Attributes                                           High              ...  \\\n",
       "Symbols            IBM        WFC        ^GSPC         GE         IBM  ...   \n",
       "Date                                                                   ...   \n",
       "2021-01-04  118.489487  29.700001  3700.649902  87.199997  120.382408  ...   \n",
       "2021-01-05  120.592735  30.530001  3726.860107  87.040001  121.108986  ...   \n",
       "2021-01-06  123.604210  32.689999  3748.139893  92.959999  126.080307  ...   \n",
       "2021-01-07  123.317398  33.430000  3803.790039  92.559998  124.722755  ...   \n",
       "2021-01-08  122.877632  33.189999  3824.679932  91.519997  123.632889  ...   \n",
       "\n",
       "Attributes        Low                    Open                         \\\n",
       "Symbols           WFC        ^GSPC         GE         IBM        WFC   \n",
       "Date                                                                   \n",
       "2021-01-04  29.400000  3662.709961  87.120003  120.315491  30.320000   \n",
       "2021-01-05  29.820000  3695.070068  83.440002  119.512428  30.090000   \n",
       "2021-01-06  31.790001  3705.340088  86.639999  121.319313  31.900000   \n",
       "2021-01-07  33.320000  3764.709961  92.480003  124.321220  33.580002   \n",
       "2021-01-08  32.669998  3783.600098  90.320000  122.915871  33.610001   \n",
       "\n",
       "Attributes                   Volume                                       \n",
       "Symbols           ^GSPC          GE        IBM         WFC         ^GSPC  \n",
       "Date                                                                      \n",
       "2021-01-04  3764.610107   9993688.0  5417443.0  31421600.0  5.006680e+09  \n",
       "2021-01-05  3698.020020  10462538.0  6395872.0  37360000.0  4.582620e+09  \n",
       "2021-01-06  3712.199951  16448075.0  8322708.0  73507500.0  6.049970e+09  \n",
       "2021-01-07  3764.709961   9411225.0  4714740.0  50634100.0  5.080870e+09  \n",
       "2021-01-08  3815.050049   9089963.0  4891305.0  32324700.0  4.764180e+09  \n",
       "\n",
       "[5 rows x 24 columns]"
      ]
     },
     "execution_count": 42,
     "metadata": {},
     "output_type": "execute_result"
    }
   ],
   "source": [
    "import datetime as dt\n",
    "import pandas_datareader as pdr\n",
    "tickers = ['GE','IBM','WFC','^GSPC']\n",
    "start = dt.datetime(2021, 1, 1)\n",
    "end = dt.datetime(2022, 1, 1)\n",
    "\n",
    "df1 = pdr.get_data_yahoo(tickers, start, end, interval=\"d\")\n",
    "df1.head()"
   ]
  },
  {
   "cell_type": "code",
   "execution_count": 44,
   "id": "fafc3f29-5c6c-47fd-9a2f-d760699bc436",
   "metadata": {},
   "outputs": [],
   "source": [
    "price_df = df1['Adj Close']\n",
    "ret_df = price_df.pct_change()\n",
    "ret_df.dropna(inplace=True)"
   ]
  },
  {
   "cell_type": "code",
   "execution_count": 45,
   "id": "c5b14d23-9437-42e4-b6fa-ec062ebbb79e",
   "metadata": {},
   "outputs": [],
   "source": [
    "ret_df = ret_df[ret_df['^GSPC'] != 0.0]"
   ]
  },
  {
   "cell_type": "code",
   "execution_count": 58,
   "id": "376d29cd-0452-43d2-a33c-f0c7b8c65711",
   "metadata": {},
   "outputs": [
    {
     "data": {
      "text/plain": [
       "(251, 4)"
      ]
     },
     "execution_count": 58,
     "metadata": {},
     "output_type": "execute_result"
    }
   ],
   "source": [
    "ret_df.head()\n",
    "ret_df.shape"
   ]
  },
  {
   "cell_type": "code",
   "execution_count": 47,
   "id": "f79647a7-5fd0-4295-b2a6-efc6d631bcce",
   "metadata": {},
   "outputs": [
    {
     "data": {
      "text/plain": [
       "<matplotlib.collections.PathCollection at 0x2935bfc0f70>"
      ]
     },
     "execution_count": 47,
     "metadata": {},
     "output_type": "execute_result"
    },
    {
     "data": {
      "image/png": "[encoded data removed]",
      "text/plain": [
       "<Figure size 432x288 with 1 Axes>"
      ]
     },
     "metadata": {
      "needs_background": "light"
     },
     "output_type": "display_data"
    }
   ],
   "source": [
    "plt.scatter(x=ret_df['^GSPC'], y=ret_df['^GSPC'])"
   ]
  },
  {
   "cell_type": "code",
   "execution_count": 49,
   "id": "cf119753-f8e0-4f05-90e5-03d7b5298d65",
   "metadata": {},
   "outputs": [
    {
     "data": {
      "text/plain": [
       "<AxesSubplot:xlabel='^GSPC', ylabel='Count'>"
      ]
     },
     "execution_count": 49,
     "metadata": {},
     "output_type": "execute_result"
    },
    {
     "data": {
      "image/png": "[encoded data removed]",
      "text/plain": [
       "<Figure size 432x288 with 1 Axes>"
      ]
     },
     "metadata": {
      "needs_background": "light"
     },
     "output_type": "display_data"
    }
   ],
   "source": [
    "sns.histplot(ret_df['^GSPC'])"
   ]
  },
  {
   "cell_type": "code",
   "execution_count": 50,
   "id": "f33f0161-7ce6-4814-81fd-597668a61ed5",
   "metadata": {},
   "outputs": [
    {
     "data": {
      "text/plain": [
       "<matplotlib.collections.PathCollection at 0x2935c2f3fa0>"
      ]
     },
     "execution_count": 50,
     "metadata": {},
     "output_type": "execute_result"
    },
    {
     "data": {
      "image/png": "[encoded data removed]",
      "text/plain": [
       "<Figure size 432x288 with 1 Axes>"
      ]
     },
     "metadata": {
      "needs_background": "light"
     },
     "output_type": "display_data"
    }
   ],
   "source": [
    "plt.scatter(x=ret_df['^GSPC'], y=ret_df['WFC'], c='r')"
   ]
  },
  {
   "cell_type": "code",
   "execution_count": 51,
   "id": "db1b0a07-6263-4267-aeb4-ca1fab5f20f3",
   "metadata": {},
   "outputs": [
    {
     "data": {
      "text/plain": [
       "<matplotlib.collections.PathCollection at 0x2935c076a90>"
      ]
     },
     "execution_count": 51,
     "metadata": {},
     "output_type": "execute_result"
    },
    {
     "data": {
      "image/png": "[encoded data removed]",
      "text/plain": [
       "<Figure size 432x288 with 1 Axes>"
      ]
     },
     "metadata": {
      "needs_background": "light"
     },
     "output_type": "display_data"
    }
   ],
   "source": [
    "plt.scatter(x=ret_df['^GSPC'], y=ret_df['IBM'], c='g')"
   ]
  },
  {
   "cell_type": "code",
   "execution_count": 52,
   "id": "ed050fe8-184d-438e-b793-3adeca15a58a",
   "metadata": {},
   "outputs": [
    {
     "data": {
      "text/plain": [
       "<matplotlib.collections.PathCollection at 0x2935c028550>"
      ]
     },
     "execution_count": 52,
     "metadata": {},
     "output_type": "execute_result"
    },
    {
     "data": {
      "image/png": "[encoded data removed]",
      "text/plain": [
       "<Figure size 432x288 with 1 Axes>"
      ]
     },
     "metadata": {
      "needs_background": "light"
     },
     "output_type": "display_data"
    }
   ],
   "source": [
    "plt.scatter(x=ret_df['^GSPC'], y=ret_df['GE'], c='b')"
   ]
  },
  {
   "cell_type": "code",
   "execution_count": 53,
   "id": "c1b5c761-91a6-46ec-9a31-e1e5bd808f35",
   "metadata": {},
   "outputs": [
    {
     "data": {
      "text/plain": [
       "<AxesSubplot:xlabel='^GSPC', ylabel='WFC'>"
      ]
     },
     "execution_count": 53,
     "metadata": {},
     "output_type": "execute_result"
    },
    {
     "data": {
      "image/png": "[encoded data removed]",
      "text/plain": [
       "<Figure size 432x288 with 1 Axes>"
      ]
     },
     "metadata": {
      "needs_background": "light"
     },
     "output_type": "display_data"
    }
   ],
   "source": [
    "sns.regplot(data=ret_df, x='^GSPC', y='WFC', color='tab:red', fit_reg=True)"
   ]
  },
  {
   "cell_type": "code",
   "execution_count": 54,
   "id": "e33a0c1c-9154-42b1-8c7b-4ac4dd72c5ad",
   "metadata": {},
   "outputs": [
    {
     "data": {
      "text/plain": [
       "<AxesSubplot:xlabel='^GSPC', ylabel='IBM'>"
      ]
     },
     "execution_count": 54,
     "metadata": {},
     "output_type": "execute_result"
    },
    {
     "data": {
      "image/png": "[encoded data removed]",
      "text/plain": [
       "<Figure size 432x288 with 1 Axes>"
      ]
     },
     "metadata": {
      "needs_background": "light"
     },
     "output_type": "display_data"
    }
   ],
   "source": [
    "sns.regplot(data=ret_df, x='^GSPC', y='IBM', color='tab:green', fit_reg=True)"
   ]
  },
  {
   "cell_type": "code",
   "execution_count": 55,
   "id": "4ac56084-efa3-4c52-817a-16a67df5a5ad",
   "metadata": {},
   "outputs": [
    {
     "data": {
      "text/plain": [
       "<AxesSubplot:xlabel='^GSPC', ylabel='GE'>"
      ]
     },
     "execution_count": 55,
     "metadata": {},
     "output_type": "execute_result"
    },
    {
     "data": {
      "image/png": "[encoded data removed]",
      "text/plain": [
       "<Figure size 432x288 with 1 Axes>"
      ]
     },
     "metadata": {
      "needs_background": "light"
     },
     "output_type": "display_data"
    }
   ],
   "source": [
    "sns.regplot(data=ret_df, x='^GSPC', y='GE', color='tab:blue', fit_reg=True)"
   ]
  },
  {
   "cell_type": "code",
   "execution_count": 62,
   "id": "2886030d-bd85-4afd-8203-bb11c63b1657",
   "metadata": {},
   "outputs": [
    {
     "name": "stdout",
     "output_type": "stream",
     "text": [
      "OLS alpha and beta for WFC is y = 1.16 x + 0.0009818659\n",
      "OLS alpha and beta for IBM is y = 0.51 x + 0.0002477049\n",
      "OLS alpha and beta for GE is y = 1.02 x + -0.0003595743\n"
     ]
    }
   ],
   "source": [
    "ticker = ['WFC','IBM','GE']\n",
    "\n",
    "for i in ticker:\n",
    "    regr = LinearRegression()\n",
    "    X = ret_df['^GSPC'].values.reshape(-1,1)\n",
    "    y = ret_df[i].values.reshape(-1,1)\n",
    "    regr.fit(X, y)\n",
    "    bbb = regr.intercept_[0]\n",
    "    mmm = regr.coef_[0][0]\n",
    "    print(f'OLS alpha and beta for {i} is y = {mmm:.2f} x + {bbb:.10f}')"
   ]
  }
 ],
 "metadata": {
  "kernelspec": {
   "display_name": "Python 3 (ipykernel)",
   "language": "python",
   "name": "python3"
  },
  "language_info": {
   "codemirror_mode": {
    "name": "ipython",
    "version": 3
   },
   "file_extension": ".py",
   "mimetype": "text/x-python",
   "name": "python",
   "nbconvert_exporter": "python",
   "pygments_lexer": "ipython3",
   "version": "3.9.7"
  }
 },
 "nbformat": 4,
 "nbformat_minor": 5
}
