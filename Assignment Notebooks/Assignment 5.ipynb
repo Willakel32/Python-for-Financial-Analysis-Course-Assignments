{
 "cells": [
  {
   "cell_type": "markdown",
   "id": "6a7a5672-625b-4dd8-b472-94f5b8c072d1",
   "metadata": {},
   "source": [
    "# Assignment 5 #"
   ]
  },
  {
   "cell_type": "code",
   "execution_count": 1,
   "id": "1aead5b1-b265-4e48-b4f1-1be6271fba1b",
   "metadata": {},
   "outputs": [],
   "source": [
    "import pandas as pd"
   ]
  },
  {
   "cell_type": "code",
   "execution_count": 3,
   "id": "67c925e5-48c0-4901-bbfe-1f660f567e2f",
   "metadata": {},
   "outputs": [],
   "source": [
    "unemployment = pd.read_csv(\"UNRATE.csv\")\n",
    "inflation = pd.read_csv(\"T10YIE.csv\")"
   ]
  },
  {
   "cell_type": "code",
   "execution_count": 11,
   "id": "bd7fe56c-9387-4a56-b03b-dd4e48eea067",
   "metadata": {},
   "outputs": [
    {
     "data": {
      "text/plain": [
       "dtype('O')"
      ]
     },
     "execution_count": 11,
     "metadata": {},
     "output_type": "execute_result"
    }
   ],
   "source": [
    "unemployment['DATE'].dtype"
   ]
  },
  {
   "cell_type": "code",
   "execution_count": 5,
   "id": "65f94eb2-f866-4d62-bee9-a3cbdf08ee28",
   "metadata": {},
   "outputs": [
    {
     "data": {
      "text/html": [
       "<div>\n",
       "<style scoped>\n",
       "    .dataframe tbody tr th:only-of-type {\n",
       "        vertical-align: middle;\n",
       "    }\n",
       "\n",
       "    .dataframe tbody tr th {\n",
       "        vertical-align: top;\n",
       "    }\n",
       "\n",
       "    .dataframe thead th {\n",
       "        text-align: right;\n",
       "    }\n",
       "</style>\n",
       "<table border=\"1\" class=\"dataframe\">\n",
       "  <thead>\n",
       "    <tr style=\"text-align: right;\">\n",
       "      <th></th>\n",
       "      <th>DATE</th>\n",
       "      <th>T10YIE</th>\n",
       "    </tr>\n",
       "  </thead>\n",
       "  <tbody>\n",
       "    <tr>\n",
       "      <th>0</th>\n",
       "      <td>2008-09-08</td>\n",
       "      <td>1.98</td>\n",
       "    </tr>\n",
       "    <tr>\n",
       "      <th>1</th>\n",
       "      <td>2008-09-09</td>\n",
       "      <td>1.93</td>\n",
       "    </tr>\n",
       "    <tr>\n",
       "      <th>2</th>\n",
       "      <td>2008-09-10</td>\n",
       "      <td>1.95</td>\n",
       "    </tr>\n",
       "    <tr>\n",
       "      <th>3</th>\n",
       "      <td>2008-09-11</td>\n",
       "      <td>1.97</td>\n",
       "    </tr>\n",
       "    <tr>\n",
       "      <th>4</th>\n",
       "      <td>2008-09-12</td>\n",
       "      <td>1.95</td>\n",
       "    </tr>\n",
       "  </tbody>\n",
       "</table>\n",
       "</div>"
      ],
      "text/plain": [
       "         DATE T10YIE\n",
       "0  2008-09-08   1.98\n",
       "1  2008-09-09   1.93\n",
       "2  2008-09-10   1.95\n",
       "3  2008-09-11   1.97\n",
       "4  2008-09-12   1.95"
      ]
     },
     "execution_count": 5,
     "metadata": {},
     "output_type": "execute_result"
    }
   ],
   "source": [
    "inflation.head()"
   ]
  },
  {
   "cell_type": "code",
   "execution_count": 12,
   "id": "e0562d49-be70-4548-9504-93ed0d0b5502",
   "metadata": {},
   "outputs": [],
   "source": [
    "unemployment['DATE'] = pd.to_datetime(unemployment['DATE'])\n",
    "inflation['DATE'] = pd.to_datetime(inflation['DATE'])"
   ]
  },
  {
   "cell_type": "code",
   "execution_count": 15,
   "id": "fd68e312-8006-4496-8422-34f263faed7c",
   "metadata": {},
   "outputs": [
    {
     "data": {
      "text/html": [
       "<div>\n",
       "<style scoped>\n",
       "    .dataframe tbody tr th:only-of-type {\n",
       "        vertical-align: middle;\n",
       "    }\n",
       "\n",
       "    .dataframe tbody tr th {\n",
       "        vertical-align: top;\n",
       "    }\n",
       "\n",
       "    .dataframe thead th {\n",
       "        text-align: right;\n",
       "    }\n",
       "</style>\n",
       "<table border=\"1\" class=\"dataframe\">\n",
       "  <thead>\n",
       "    <tr style=\"text-align: right;\">\n",
       "      <th></th>\n",
       "      <th>DATE</th>\n",
       "      <th>UNRATE</th>\n",
       "    </tr>\n",
       "  </thead>\n",
       "  <tbody>\n",
       "    <tr>\n",
       "      <th>0</th>\n",
       "      <td>1948-01-01</td>\n",
       "      <td>3.4</td>\n",
       "    </tr>\n",
       "    <tr>\n",
       "      <th>1</th>\n",
       "      <td>1948-02-01</td>\n",
       "      <td>3.8</td>\n",
       "    </tr>\n",
       "    <tr>\n",
       "      <th>2</th>\n",
       "      <td>1948-03-01</td>\n",
       "      <td>4.0</td>\n",
       "    </tr>\n",
       "    <tr>\n",
       "      <th>3</th>\n",
       "      <td>1948-04-01</td>\n",
       "      <td>3.9</td>\n",
       "    </tr>\n",
       "    <tr>\n",
       "      <th>4</th>\n",
       "      <td>1948-05-01</td>\n",
       "      <td>3.5</td>\n",
       "    </tr>\n",
       "    <tr>\n",
       "      <th>5</th>\n",
       "      <td>1948-06-01</td>\n",
       "      <td>3.6</td>\n",
       "    </tr>\n",
       "    <tr>\n",
       "      <th>6</th>\n",
       "      <td>1948-07-01</td>\n",
       "      <td>3.6</td>\n",
       "    </tr>\n",
       "    <tr>\n",
       "      <th>7</th>\n",
       "      <td>1948-08-01</td>\n",
       "      <td>3.9</td>\n",
       "    </tr>\n",
       "    <tr>\n",
       "      <th>8</th>\n",
       "      <td>1948-09-01</td>\n",
       "      <td>3.8</td>\n",
       "    </tr>\n",
       "    <tr>\n",
       "      <th>9</th>\n",
       "      <td>1948-10-01</td>\n",
       "      <td>3.7</td>\n",
       "    </tr>\n",
       "    <tr>\n",
       "      <th>10</th>\n",
       "      <td>1948-11-01</td>\n",
       "      <td>3.8</td>\n",
       "    </tr>\n",
       "    <tr>\n",
       "      <th>11</th>\n",
       "      <td>1948-12-01</td>\n",
       "      <td>4.0</td>\n",
       "    </tr>\n",
       "    <tr>\n",
       "      <th>12</th>\n",
       "      <td>1949-01-01</td>\n",
       "      <td>4.3</td>\n",
       "    </tr>\n",
       "    <tr>\n",
       "      <th>13</th>\n",
       "      <td>1949-02-01</td>\n",
       "      <td>4.7</td>\n",
       "    </tr>\n",
       "    <tr>\n",
       "      <th>14</th>\n",
       "      <td>1949-03-01</td>\n",
       "      <td>5.0</td>\n",
       "    </tr>\n",
       "    <tr>\n",
       "      <th>15</th>\n",
       "      <td>1949-04-01</td>\n",
       "      <td>5.3</td>\n",
       "    </tr>\n",
       "    <tr>\n",
       "      <th>16</th>\n",
       "      <td>1949-05-01</td>\n",
       "      <td>6.1</td>\n",
       "    </tr>\n",
       "    <tr>\n",
       "      <th>17</th>\n",
       "      <td>1949-06-01</td>\n",
       "      <td>6.2</td>\n",
       "    </tr>\n",
       "    <tr>\n",
       "      <th>18</th>\n",
       "      <td>1949-07-01</td>\n",
       "      <td>6.7</td>\n",
       "    </tr>\n",
       "    <tr>\n",
       "      <th>19</th>\n",
       "      <td>1949-08-01</td>\n",
       "      <td>6.8</td>\n",
       "    </tr>\n",
       "  </tbody>\n",
       "</table>\n",
       "</div>"
      ],
      "text/plain": [
       "         DATE  UNRATE\n",
       "0  1948-01-01     3.4\n",
       "1  1948-02-01     3.8\n",
       "2  1948-03-01     4.0\n",
       "3  1948-04-01     3.9\n",
       "4  1948-05-01     3.5\n",
       "5  1948-06-01     3.6\n",
       "6  1948-07-01     3.6\n",
       "7  1948-08-01     3.9\n",
       "8  1948-09-01     3.8\n",
       "9  1948-10-01     3.7\n",
       "10 1948-11-01     3.8\n",
       "11 1948-12-01     4.0\n",
       "12 1949-01-01     4.3\n",
       "13 1949-02-01     4.7\n",
       "14 1949-03-01     5.0\n",
       "15 1949-04-01     5.3\n",
       "16 1949-05-01     6.1\n",
       "17 1949-06-01     6.2\n",
       "18 1949-07-01     6.7\n",
       "19 1949-08-01     6.8"
      ]
     },
     "execution_count": 15,
     "metadata": {},
     "output_type": "execute_result"
    }
   ],
   "source": [
    "unemployment.sort_values(by = 'DATE').head(20)"
   ]
  },
  {
   "cell_type": "code",
   "execution_count": 16,
   "id": "5bde4095-0d35-4c83-99dc-3eeebaaa1553",
   "metadata": {},
   "outputs": [],
   "source": [
    "df = unemployment.merge(inflation, on=\"DATE\", how=\"left\")"
   ]
  },
  {
   "cell_type": "code",
   "execution_count": 17,
   "id": "9fc64c27-6676-46a0-b01b-02e6eb4becee",
   "metadata": {},
   "outputs": [
    {
     "data": {
      "text/html": [
       "<div>\n",
       "<style scoped>\n",
       "    .dataframe tbody tr th:only-of-type {\n",
       "        vertical-align: middle;\n",
       "    }\n",
       "\n",
       "    .dataframe tbody tr th {\n",
       "        vertical-align: top;\n",
       "    }\n",
       "\n",
       "    .dataframe thead th {\n",
       "        text-align: right;\n",
       "    }\n",
       "</style>\n",
       "<table border=\"1\" class=\"dataframe\">\n",
       "  <thead>\n",
       "    <tr style=\"text-align: right;\">\n",
       "      <th></th>\n",
       "      <th>DATE</th>\n",
       "      <th>UNRATE</th>\n",
       "      <th>T10YIE</th>\n",
       "    </tr>\n",
       "  </thead>\n",
       "  <tbody>\n",
       "    <tr>\n",
       "      <th>0</th>\n",
       "      <td>1948-01-01</td>\n",
       "      <td>3.4</td>\n",
       "      <td>NaN</td>\n",
       "    </tr>\n",
       "    <tr>\n",
       "      <th>1</th>\n",
       "      <td>1948-02-01</td>\n",
       "      <td>3.8</td>\n",
       "      <td>NaN</td>\n",
       "    </tr>\n",
       "    <tr>\n",
       "      <th>2</th>\n",
       "      <td>1948-03-01</td>\n",
       "      <td>4.0</td>\n",
       "      <td>NaN</td>\n",
       "    </tr>\n",
       "    <tr>\n",
       "      <th>3</th>\n",
       "      <td>1948-04-01</td>\n",
       "      <td>3.9</td>\n",
       "      <td>NaN</td>\n",
       "    </tr>\n",
       "    <tr>\n",
       "      <th>4</th>\n",
       "      <td>1948-05-01</td>\n",
       "      <td>3.5</td>\n",
       "      <td>NaN</td>\n",
       "    </tr>\n",
       "  </tbody>\n",
       "</table>\n",
       "</div>"
      ],
      "text/plain": [
       "        DATE  UNRATE T10YIE\n",
       "0 1948-01-01     3.4    NaN\n",
       "1 1948-02-01     3.8    NaN\n",
       "2 1948-03-01     4.0    NaN\n",
       "3 1948-04-01     3.9    NaN\n",
       "4 1948-05-01     3.5    NaN"
      ]
     },
     "execution_count": 17,
     "metadata": {},
     "output_type": "execute_result"
    }
   ],
   "source": [
    "df.head()"
   ]
  },
  {
   "cell_type": "code",
   "execution_count": 18,
   "id": "01698f3c-68a8-48bd-9ee4-29e5d4c0b487",
   "metadata": {},
   "outputs": [],
   "source": [
    "df.dropna(inplace=True)"
   ]
  },
  {
   "cell_type": "code",
   "execution_count": 32,
   "id": "1d32d966-32f6-4085-a697-70db74e9996b",
   "metadata": {},
   "outputs": [],
   "source": [
    "df['T10YIE'] = df['T10YIE'].str.strip()"
   ]
  },
  {
   "cell_type": "code",
   "execution_count": 34,
   "id": "b41464c1-567c-41ba-a08d-4c7de8550545",
   "metadata": {},
   "outputs": [],
   "source": [
    "df = df[df['T10YIE'] != '.']"
   ]
  },
  {
   "cell_type": "code",
   "execution_count": null,
   "id": "e7de56d6-358d-4ec5-8ec7-ce842f596635",
   "metadata": {},
   "outputs": [],
   "source": [
    "df['T10YIE'] = df['T10YIE'].astype('float')"
   ]
  },
  {
   "cell_type": "code",
   "execution_count": 37,
   "id": "59bc431e-d094-46c2-b2d0-391ffb497af6",
   "metadata": {},
   "outputs": [
    {
     "data": {
      "text/plain": [
       "<bound method NDFrame.describe of           DATE  UNRATE  T10YIE\n",
       "729 2008-10-01     6.5    1.51\n",
       "731 2008-12-01     7.3    0.34\n",
       "735 2009-04-01     9.0    1.31\n",
       "736 2009-05-01     9.4    1.41\n",
       "737 2009-06-01     9.5    1.91\n",
       "..         ...     ...     ...\n",
       "856 2019-05-01     3.6    1.93\n",
       "858 2019-07-01     3.7    1.69\n",
       "859 2019-08-01     3.7    1.70\n",
       "861 2019-10-01     3.6    1.52\n",
       "862 2019-11-01     3.6    1.59\n",
       "\n",
       "[87 rows x 3 columns]>"
      ]
     },
     "execution_count": 37,
     "metadata": {},
     "output_type": "execute_result"
    }
   ],
   "source": [
    "df.describe"
   ]
  },
  {
   "cell_type": "code",
   "execution_count": 38,
   "id": "79fb67a2-0852-412c-9a9f-e6eb9024ebbf",
   "metadata": {},
   "outputs": [
    {
     "name": "stdout",
     "output_type": "stream",
     "text": [
      "Correlation between unemployment rate and inflation: 0.28597575434797057\n"
     ]
    }
   ],
   "source": [
    "print(f\"Correlation between unemployment rate and inflation: {df['UNRATE'].corr(df['T10YIE'])}\")"
   ]
  },
  {
   "cell_type": "code",
   "execution_count": 40,
   "id": "ee3d82f4-fa18-4c86-9999-4679f282d7f8",
   "metadata": {},
   "outputs": [
    {
     "data": {
      "image/png": "[encoded data removed]",
      "text/plain": [
       "<Figure size 432x288 with 2 Axes>"
      ]
     },
     "metadata": {
      "needs_background": "light"
     },
     "output_type": "display_data"
    }
   ],
   "source": [
    "import seaborn as sns\n",
    "import matplotlib.pyplot as plt\n",
    "\n",
    "ax = df.plot(x=\"DATE\", y=\"UNRATE\", legend=False)\n",
    "ax2 = ax.twinx()\n",
    "df.plot(x=\"DATE\", y=\"T10YIE\", ax=ax2, legend=False, color=\"r\")\n",
    "ax.figure.legend()\n",
    "plt.show()"
   ]
  },
  {
   "cell_type": "code",
   "execution_count": null,
   "id": "8a73c84c-e75a-43e3-974f-87026a16f065",
   "metadata": {},
   "outputs": [],
   "source": []
  }
 ],
 "metadata": {
  "kernelspec": {
   "display_name": "Python 3 (ipykernel)",
   "language": "python",
   "name": "python3"
  },
  "language_info": {
   "codemirror_mode": {
    "name": "ipython",
    "version": 3
   },
   "file_extension": ".py",
   "mimetype": "text/x-python",
   "name": "python",
   "nbconvert_exporter": "python",
   "pygments_lexer": "ipython3",
   "version": "3.9.7"
  }
 },
 "nbformat": 4,
 "nbformat_minor": 5
}
