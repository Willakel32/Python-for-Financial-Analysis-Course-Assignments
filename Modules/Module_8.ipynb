{
 "cells": [
  {
   "cell_type": "markdown",
   "id": "06a81075",
   "metadata": {},
   "source": [
    "# Risk-free rates\n",
    "\n",
    "Examining the RF column in Fama and French.\n"
   ]
  },
  {
   "cell_type": "code",
   "execution_count": 1,
   "id": "7325c162",
   "metadata": {},
   "outputs": [
    {
     "name": "stdout",
     "output_type": "stream",
     "text": [
      "Read in 1242 records from F-F_Research_Data_Factors.CSV.\n"
     ]
    },
    {
     "data": {
      "text/html": [
       "<div>\n",
       "<style scoped>\n",
       "    .dataframe tbody tr th:only-of-type {\n",
       "        vertical-align: middle;\n",
       "    }\n",
       "\n",
       "    .dataframe tbody tr th {\n",
       "        vertical-align: top;\n",
       "    }\n",
       "\n",
       "    .dataframe thead th {\n",
       "        text-align: right;\n",
       "    }\n",
       "</style>\n",
       "<table border=\"1\" class=\"dataframe\">\n",
       "  <thead>\n",
       "    <tr style=\"text-align: right;\">\n",
       "      <th></th>\n",
       "      <th>Unnamed: 0</th>\n",
       "      <th>Mkt-RF</th>\n",
       "      <th>SMB</th>\n",
       "      <th>HML</th>\n",
       "      <th>RF</th>\n",
       "    </tr>\n",
       "  </thead>\n",
       "  <tbody>\n",
       "    <tr>\n",
       "      <th>0</th>\n",
       "      <td>192607</td>\n",
       "      <td>2.96</td>\n",
       "      <td>-2.38</td>\n",
       "      <td>-2.73</td>\n",
       "      <td>0.22</td>\n",
       "    </tr>\n",
       "    <tr>\n",
       "      <th>1</th>\n",
       "      <td>192608</td>\n",
       "      <td>2.64</td>\n",
       "      <td>-1.47</td>\n",
       "      <td>4.14</td>\n",
       "      <td>0.25</td>\n",
       "    </tr>\n",
       "    <tr>\n",
       "      <th>2</th>\n",
       "      <td>192609</td>\n",
       "      <td>0.36</td>\n",
       "      <td>-1.39</td>\n",
       "      <td>0.12</td>\n",
       "      <td>0.23</td>\n",
       "    </tr>\n",
       "    <tr>\n",
       "      <th>3</th>\n",
       "      <td>192610</td>\n",
       "      <td>-3.24</td>\n",
       "      <td>-0.13</td>\n",
       "      <td>0.65</td>\n",
       "      <td>0.32</td>\n",
       "    </tr>\n",
       "    <tr>\n",
       "      <th>4</th>\n",
       "      <td>192611</td>\n",
       "      <td>2.53</td>\n",
       "      <td>-0.16</td>\n",
       "      <td>-0.38</td>\n",
       "      <td>0.31</td>\n",
       "    </tr>\n",
       "  </tbody>\n",
       "</table>\n",
       "</div>"
      ],
      "text/plain": [
       "  Unnamed: 0    Mkt-RF       SMB       HML        RF\n",
       "0     192607      2.96     -2.38     -2.73      0.22\n",
       "1     192608      2.64     -1.47      4.14      0.25\n",
       "2     192609      0.36     -1.39      0.12      0.23\n",
       "3     192610     -3.24     -0.13      0.65      0.32\n",
       "4     192611      2.53     -0.16     -0.38      0.31"
      ]
     },
     "execution_count": 1,
     "metadata": {},
     "output_type": "execute_result"
    }
   ],
   "source": [
    "import pandas as pd\n",
    "filename = 'F-F_Research_Data_Factors.CSV'\n",
    "ff_df = pd.read_csv(filename, skiprows=2)\n",
    "print(f'Read in {len(ff_df)} records from {filename}.')\n",
    "ff_df.head()"
   ]
  },
  {
   "cell_type": "code",
   "execution_count": 2,
   "id": "27b8e27e",
   "metadata": {},
   "outputs": [],
   "source": [
    "# Let's rename that first col to yyyymm\n",
    "ff_df.rename(columns={\"Unnamed: 0\": \"yyyymm\", \"Mkt-RF\": \"Mkt_minus_RF\"}, inplace=True)\n",
    "ff_df.dropna(axis='index', how='any', subset=['Mkt_minus_RF', 'SMB', 'HML', 'RF'], inplace=True)"
   ]
  },
  {
   "cell_type": "code",
   "execution_count": 3,
   "id": "ca098728",
   "metadata": {},
   "outputs": [
    {
     "data": {
      "text/html": [
       "<div>\n",
       "<style scoped>\n",
       "    .dataframe tbody tr th:only-of-type {\n",
       "        vertical-align: middle;\n",
       "    }\n",
       "\n",
       "    .dataframe tbody tr th {\n",
       "        vertical-align: top;\n",
       "    }\n",
       "\n",
       "    .dataframe thead th {\n",
       "        text-align: right;\n",
       "    }\n",
       "</style>\n",
       "<table border=\"1\" class=\"dataframe\">\n",
       "  <thead>\n",
       "    <tr style=\"text-align: right;\">\n",
       "      <th></th>\n",
       "      <th>yyyymm</th>\n",
       "      <th>Mkt_minus_RF</th>\n",
       "      <th>SMB</th>\n",
       "      <th>HML</th>\n",
       "      <th>RF</th>\n",
       "    </tr>\n",
       "  </thead>\n",
       "  <tbody>\n",
       "    <tr>\n",
       "      <th>1140</th>\n",
       "      <td>202107</td>\n",
       "      <td>1.27</td>\n",
       "      <td>-3.96</td>\n",
       "      <td>-1.75</td>\n",
       "      <td>0.00</td>\n",
       "    </tr>\n",
       "    <tr>\n",
       "      <th>1141</th>\n",
       "      <td>202108</td>\n",
       "      <td>2.90</td>\n",
       "      <td>-0.48</td>\n",
       "      <td>-0.13</td>\n",
       "      <td>0.00</td>\n",
       "    </tr>\n",
       "    <tr>\n",
       "      <th>1142</th>\n",
       "      <td>202109</td>\n",
       "      <td>-4.37</td>\n",
       "      <td>0.80</td>\n",
       "      <td>5.09</td>\n",
       "      <td>0.00</td>\n",
       "    </tr>\n",
       "    <tr>\n",
       "      <th>1143</th>\n",
       "      <td>202110</td>\n",
       "      <td>6.65</td>\n",
       "      <td>-2.28</td>\n",
       "      <td>-0.44</td>\n",
       "      <td>0.00</td>\n",
       "    </tr>\n",
       "    <tr>\n",
       "      <th>1144</th>\n",
       "      <td>202111</td>\n",
       "      <td>-1.55</td>\n",
       "      <td>-1.35</td>\n",
       "      <td>-0.52</td>\n",
       "      <td>0.00</td>\n",
       "    </tr>\n",
       "  </tbody>\n",
       "</table>\n",
       "</div>"
      ],
      "text/plain": [
       "      yyyymm Mkt_minus_RF       SMB       HML        RF\n",
       "1140  202107         1.27     -3.96     -1.75      0.00\n",
       "1141  202108         2.90     -0.48     -0.13      0.00\n",
       "1142  202109        -4.37      0.80      5.09      0.00\n",
       "1143  202110         6.65     -2.28     -0.44      0.00\n",
       "1144  202111        -1.55     -1.35     -0.52      0.00"
      ]
     },
     "execution_count": 3,
     "metadata": {},
     "output_type": "execute_result"
    }
   ],
   "source": [
    "# Drop if the yyyymm is just a year.\n",
    "ff_df.drop(range(1146, 1241), inplace=True)\n",
    "ff_df.tail()"
   ]
  },
  {
   "cell_type": "code",
   "execution_count": 4,
   "id": "b1de4d91",
   "metadata": {},
   "outputs": [],
   "source": [
    "# Make the yyyymm into a Python datetime\n",
    "ff_df['Date'] = pd.to_datetime(ff_df.yyyymm, format='%Y%m')\n",
    "\n",
    "# Make sure RF is numeric\n",
    "ff_df['RF'] = pd.to_numeric(ff_df['RF'])\n",
    "\n",
    "# Drop the old yyyymm column \n",
    "ff_df.drop(columns='yyyymm', inplace=True)\n"
   ]
  },
  {
   "cell_type": "code",
   "execution_count": 5,
   "id": "1e39153e",
   "metadata": {},
   "outputs": [
    {
     "data": {
      "text/html": [
       "<div>\n",
       "<style scoped>\n",
       "    .dataframe tbody tr th:only-of-type {\n",
       "        vertical-align: middle;\n",
       "    }\n",
       "\n",
       "    .dataframe tbody tr th {\n",
       "        vertical-align: top;\n",
       "    }\n",
       "\n",
       "    .dataframe thead th {\n",
       "        text-align: right;\n",
       "    }\n",
       "</style>\n",
       "<table border=\"1\" class=\"dataframe\">\n",
       "  <thead>\n",
       "    <tr style=\"text-align: right;\">\n",
       "      <th></th>\n",
       "      <th>Mkt_minus_RF</th>\n",
       "      <th>SMB</th>\n",
       "      <th>HML</th>\n",
       "      <th>RF</th>\n",
       "      <th>Date</th>\n",
       "    </tr>\n",
       "  </thead>\n",
       "  <tbody>\n",
       "    <tr>\n",
       "      <th>0</th>\n",
       "      <td>2.96</td>\n",
       "      <td>-2.38</td>\n",
       "      <td>-2.73</td>\n",
       "      <td>0.22</td>\n",
       "      <td>1926-07-01</td>\n",
       "    </tr>\n",
       "    <tr>\n",
       "      <th>1</th>\n",
       "      <td>2.64</td>\n",
       "      <td>-1.47</td>\n",
       "      <td>4.14</td>\n",
       "      <td>0.25</td>\n",
       "      <td>1926-08-01</td>\n",
       "    </tr>\n",
       "    <tr>\n",
       "      <th>2</th>\n",
       "      <td>0.36</td>\n",
       "      <td>-1.39</td>\n",
       "      <td>0.12</td>\n",
       "      <td>0.23</td>\n",
       "      <td>1926-09-01</td>\n",
       "    </tr>\n",
       "    <tr>\n",
       "      <th>3</th>\n",
       "      <td>-3.24</td>\n",
       "      <td>-0.13</td>\n",
       "      <td>0.65</td>\n",
       "      <td>0.32</td>\n",
       "      <td>1926-10-01</td>\n",
       "    </tr>\n",
       "    <tr>\n",
       "      <th>4</th>\n",
       "      <td>2.53</td>\n",
       "      <td>-0.16</td>\n",
       "      <td>-0.38</td>\n",
       "      <td>0.31</td>\n",
       "      <td>1926-11-01</td>\n",
       "    </tr>\n",
       "  </tbody>\n",
       "</table>\n",
       "</div>"
      ],
      "text/plain": [
       "  Mkt_minus_RF       SMB       HML    RF       Date\n",
       "0         2.96     -2.38     -2.73  0.22 1926-07-01\n",
       "1         2.64     -1.47      4.14  0.25 1926-08-01\n",
       "2         0.36     -1.39      0.12  0.23 1926-09-01\n",
       "3        -3.24     -0.13      0.65  0.32 1926-10-01\n",
       "4         2.53     -0.16     -0.38  0.31 1926-11-01"
      ]
     },
     "execution_count": 5,
     "metadata": {},
     "output_type": "execute_result"
    }
   ],
   "source": [
    "ff_df.head()"
   ]
  },
  {
   "cell_type": "markdown",
   "id": "94ecd951",
   "metadata": {},
   "source": [
    "# Let's put the RF rate on a graph, by year."
   ]
  },
  {
   "cell_type": "code",
   "execution_count": 6,
   "id": "cb74aeba",
   "metadata": {},
   "outputs": [
    {
     "data": {
      "text/html": [
       "<div>\n",
       "<style scoped>\n",
       "    .dataframe tbody tr th:only-of-type {\n",
       "        vertical-align: middle;\n",
       "    }\n",
       "\n",
       "    .dataframe tbody tr th {\n",
       "        vertical-align: top;\n",
       "    }\n",
       "\n",
       "    .dataframe thead th {\n",
       "        text-align: right;\n",
       "    }\n",
       "</style>\n",
       "<table border=\"1\" class=\"dataframe\">\n",
       "  <thead>\n",
       "    <tr style=\"text-align: right;\">\n",
       "      <th></th>\n",
       "      <th>Mkt_minus_RF</th>\n",
       "      <th>SMB</th>\n",
       "      <th>HML</th>\n",
       "      <th>RF</th>\n",
       "      <th>Date</th>\n",
       "    </tr>\n",
       "  </thead>\n",
       "  <tbody>\n",
       "    <tr>\n",
       "      <th>min</th>\n",
       "      <td>0.00</td>\n",
       "      <td>0.00</td>\n",
       "      <td>0.00</td>\n",
       "      <td>-0.06</td>\n",
       "      <td>1926-07-01</td>\n",
       "    </tr>\n",
       "    <tr>\n",
       "      <th>max</th>\n",
       "      <td>-29.13</td>\n",
       "      <td>-17.29</td>\n",
       "      <td>-14.02</td>\n",
       "      <td>1.35</td>\n",
       "      <td>2021-11-01</td>\n",
       "    </tr>\n",
       "  </tbody>\n",
       "</table>\n",
       "</div>"
      ],
      "text/plain": [
       "    Mkt_minus_RF       SMB       HML    RF       Date\n",
       "min         0.00      0.00      0.00 -0.06 1926-07-01\n",
       "max       -29.13    -17.29    -14.02  1.35 2021-11-01"
      ]
     },
     "execution_count": 6,
     "metadata": {},
     "output_type": "execute_result"
    }
   ],
   "source": [
    "ff_df.agg(['min', 'max'])"
   ]
  },
  {
   "cell_type": "code",
   "execution_count": 7,
   "id": "4d3fdcac",
   "metadata": {},
   "outputs": [
    {
     "data": {
      "text/plain": [
       "0      1926-07-01\n",
       "1      1926-08-01\n",
       "2      1926-09-01\n",
       "3      1926-10-01\n",
       "4      1926-11-01\n",
       "          ...    \n",
       "1140   2021-07-01\n",
       "1141   2021-08-01\n",
       "1142   2021-09-01\n",
       "1143   2021-10-01\n",
       "1144   2021-11-01\n",
       "Name: Date, Length: 1145, dtype: datetime64[ns]"
      ]
     },
     "execution_count": 7,
     "metadata": {},
     "output_type": "execute_result"
    }
   ],
   "source": [
    "ff_df['Date']"
   ]
  },
  {
   "cell_type": "code",
   "execution_count": 8,
   "id": "b54919fb",
   "metadata": {},
   "outputs": [],
   "source": [
    "# New cols for year and month. See https://pandas.pydata.org/docs/reference/api/pandas.Series.dt.month.html\n",
    "\n",
    "ff_df['year'] = ff_df['Date'].dt.year\n",
    "ff_df['month'] = ff_df['Date'].dt.month"
   ]
  },
  {
   "cell_type": "code",
   "execution_count": 9,
   "id": "be08b543",
   "metadata": {},
   "outputs": [
    {
     "data": {
      "text/html": [
       "<div>\n",
       "<style scoped>\n",
       "    .dataframe tbody tr th:only-of-type {\n",
       "        vertical-align: middle;\n",
       "    }\n",
       "\n",
       "    .dataframe tbody tr th {\n",
       "        vertical-align: top;\n",
       "    }\n",
       "\n",
       "    .dataframe thead th {\n",
       "        text-align: right;\n",
       "    }\n",
       "</style>\n",
       "<table border=\"1\" class=\"dataframe\">\n",
       "  <thead>\n",
       "    <tr style=\"text-align: right;\">\n",
       "      <th></th>\n",
       "      <th>Mkt_minus_RF</th>\n",
       "      <th>SMB</th>\n",
       "      <th>HML</th>\n",
       "      <th>RF</th>\n",
       "      <th>Date</th>\n",
       "      <th>year</th>\n",
       "      <th>month</th>\n",
       "    </tr>\n",
       "  </thead>\n",
       "  <tbody>\n",
       "    <tr>\n",
       "      <th>0</th>\n",
       "      <td>2.96</td>\n",
       "      <td>-2.38</td>\n",
       "      <td>-2.73</td>\n",
       "      <td>0.22</td>\n",
       "      <td>1926-07-01</td>\n",
       "      <td>1926</td>\n",
       "      <td>7</td>\n",
       "    </tr>\n",
       "    <tr>\n",
       "      <th>1</th>\n",
       "      <td>2.64</td>\n",
       "      <td>-1.47</td>\n",
       "      <td>4.14</td>\n",
       "      <td>0.25</td>\n",
       "      <td>1926-08-01</td>\n",
       "      <td>1926</td>\n",
       "      <td>8</td>\n",
       "    </tr>\n",
       "    <tr>\n",
       "      <th>2</th>\n",
       "      <td>0.36</td>\n",
       "      <td>-1.39</td>\n",
       "      <td>0.12</td>\n",
       "      <td>0.23</td>\n",
       "      <td>1926-09-01</td>\n",
       "      <td>1926</td>\n",
       "      <td>9</td>\n",
       "    </tr>\n",
       "    <tr>\n",
       "      <th>3</th>\n",
       "      <td>-3.24</td>\n",
       "      <td>-0.13</td>\n",
       "      <td>0.65</td>\n",
       "      <td>0.32</td>\n",
       "      <td>1926-10-01</td>\n",
       "      <td>1926</td>\n",
       "      <td>10</td>\n",
       "    </tr>\n",
       "    <tr>\n",
       "      <th>4</th>\n",
       "      <td>2.53</td>\n",
       "      <td>-0.16</td>\n",
       "      <td>-0.38</td>\n",
       "      <td>0.31</td>\n",
       "      <td>1926-11-01</td>\n",
       "      <td>1926</td>\n",
       "      <td>11</td>\n",
       "    </tr>\n",
       "  </tbody>\n",
       "</table>\n",
       "</div>"
      ],
      "text/plain": [
       "  Mkt_minus_RF       SMB       HML    RF       Date  year  month\n",
       "0         2.96     -2.38     -2.73  0.22 1926-07-01  1926      7\n",
       "1         2.64     -1.47      4.14  0.25 1926-08-01  1926      8\n",
       "2         0.36     -1.39      0.12  0.23 1926-09-01  1926      9\n",
       "3        -3.24     -0.13      0.65  0.32 1926-10-01  1926     10\n",
       "4         2.53     -0.16     -0.38  0.31 1926-11-01  1926     11"
      ]
     },
     "execution_count": 9,
     "metadata": {},
     "output_type": "execute_result"
    }
   ],
   "source": [
    "ff_df.head()"
   ]
  },
  {
   "cell_type": "code",
   "execution_count": 10,
   "id": "1ba2e6ac",
   "metadata": {},
   "outputs": [
    {
     "data": {
      "text/html": [
       "<div>\n",
       "<style scoped>\n",
       "    .dataframe tbody tr th:only-of-type {\n",
       "        vertical-align: middle;\n",
       "    }\n",
       "\n",
       "    .dataframe tbody tr th {\n",
       "        vertical-align: top;\n",
       "    }\n",
       "\n",
       "    .dataframe thead th {\n",
       "        text-align: right;\n",
       "    }\n",
       "</style>\n",
       "<table border=\"1\" class=\"dataframe\">\n",
       "  <thead>\n",
       "    <tr style=\"text-align: right;\">\n",
       "      <th></th>\n",
       "      <th>Mkt_minus_RF</th>\n",
       "      <th>SMB</th>\n",
       "      <th>HML</th>\n",
       "      <th>RF</th>\n",
       "      <th>Date</th>\n",
       "      <th>month</th>\n",
       "    </tr>\n",
       "    <tr>\n",
       "      <th>year</th>\n",
       "      <th></th>\n",
       "      <th></th>\n",
       "      <th></th>\n",
       "      <th></th>\n",
       "      <th></th>\n",
       "      <th></th>\n",
       "    </tr>\n",
       "  </thead>\n",
       "  <tbody>\n",
       "    <tr>\n",
       "      <th>2017</th>\n",
       "      <td>0.16</td>\n",
       "      <td>0.72</td>\n",
       "      <td>0.03</td>\n",
       "      <td>0.03</td>\n",
       "      <td>2017-01-01</td>\n",
       "      <td>1</td>\n",
       "    </tr>\n",
       "    <tr>\n",
       "      <th>2018</th>\n",
       "      <td>0.06</td>\n",
       "      <td>0.26</td>\n",
       "      <td>0.26</td>\n",
       "      <td>0.11</td>\n",
       "      <td>2018-01-01</td>\n",
       "      <td>1</td>\n",
       "    </tr>\n",
       "    <tr>\n",
       "      <th>2019</th>\n",
       "      <td>1.10</td>\n",
       "      <td>0.25</td>\n",
       "      <td>0.42</td>\n",
       "      <td>0.12</td>\n",
       "      <td>2019-01-01</td>\n",
       "      <td>1</td>\n",
       "    </tr>\n",
       "    <tr>\n",
       "      <th>2020</th>\n",
       "      <td>2.46</td>\n",
       "      <td>0.03</td>\n",
       "      <td>2.13</td>\n",
       "      <td>0.00</td>\n",
       "      <td>2020-01-01</td>\n",
       "      <td>1</td>\n",
       "    </tr>\n",
       "    <tr>\n",
       "      <th>2021</th>\n",
       "      <td>0.29</td>\n",
       "      <td>0.80</td>\n",
       "      <td>2.99</td>\n",
       "      <td>0.00</td>\n",
       "      <td>2021-01-01</td>\n",
       "      <td>1</td>\n",
       "    </tr>\n",
       "  </tbody>\n",
       "</table>\n",
       "</div>"
      ],
      "text/plain": [
       "     Mkt_minus_RF       SMB       HML    RF       Date  month\n",
       "year                                                         \n",
       "2017         0.16      0.72      0.03  0.03 2017-01-01      1\n",
       "2018         0.06      0.26      0.26  0.11 2018-01-01      1\n",
       "2019         1.10      0.25      0.42  0.12 2019-01-01      1\n",
       "2020         2.46      0.03      2.13  0.00 2020-01-01      1\n",
       "2021         0.29      0.80      2.99  0.00 2021-01-01      1"
      ]
     },
     "execution_count": 10,
     "metadata": {},
     "output_type": "execute_result"
    }
   ],
   "source": [
    "# ff_df2 = ff_df.groupby(by='year').agg({'RF': ['min', 'mean', 'max']})\n",
    "ff_min_df = ff_df.groupby(by='year').min()\n",
    "ff_min_df.tail()\n"
   ]
  },
  {
   "cell_type": "code",
   "execution_count": 11,
   "id": "ad6b184f",
   "metadata": {},
   "outputs": [
    {
     "data": {
      "text/html": [
       "<div>\n",
       "<style scoped>\n",
       "    .dataframe tbody tr th:only-of-type {\n",
       "        vertical-align: middle;\n",
       "    }\n",
       "\n",
       "    .dataframe tbody tr th {\n",
       "        vertical-align: top;\n",
       "    }\n",
       "\n",
       "    .dataframe thead th {\n",
       "        text-align: right;\n",
       "    }\n",
       "</style>\n",
       "<table border=\"1\" class=\"dataframe\">\n",
       "  <thead>\n",
       "    <tr style=\"text-align: right;\">\n",
       "      <th></th>\n",
       "      <th>Mkt_minus_RF</th>\n",
       "      <th>SMB</th>\n",
       "      <th>HML</th>\n",
       "      <th>RF</th>\n",
       "      <th>Date</th>\n",
       "      <th>month</th>\n",
       "    </tr>\n",
       "    <tr>\n",
       "      <th>year</th>\n",
       "      <th></th>\n",
       "      <th></th>\n",
       "      <th></th>\n",
       "      <th></th>\n",
       "      <th></th>\n",
       "      <th></th>\n",
       "    </tr>\n",
       "  </thead>\n",
       "  <tbody>\n",
       "    <tr>\n",
       "      <th>2017</th>\n",
       "      <td>3.57</td>\n",
       "      <td>-2.52</td>\n",
       "      <td>-3.75</td>\n",
       "      <td>0.09</td>\n",
       "      <td>2017-12-01</td>\n",
       "      <td>12</td>\n",
       "    </tr>\n",
       "    <tr>\n",
       "      <th>2018</th>\n",
       "      <td>-9.55</td>\n",
       "      <td>-4.82</td>\n",
       "      <td>-3.98</td>\n",
       "      <td>0.19</td>\n",
       "      <td>2018-12-01</td>\n",
       "      <td>12</td>\n",
       "    </tr>\n",
       "    <tr>\n",
       "      <th>2019</th>\n",
       "      <td>-6.94</td>\n",
       "      <td>-2.98</td>\n",
       "      <td>-4.95</td>\n",
       "      <td>0.21</td>\n",
       "      <td>2019-12-01</td>\n",
       "      <td>12</td>\n",
       "    </tr>\n",
       "    <tr>\n",
       "      <th>2020</th>\n",
       "      <td>-13.38</td>\n",
       "      <td>-4.89</td>\n",
       "      <td>-14.02</td>\n",
       "      <td>0.13</td>\n",
       "      <td>2020-12-01</td>\n",
       "      <td>12</td>\n",
       "    </tr>\n",
       "    <tr>\n",
       "      <th>2021</th>\n",
       "      <td>-4.37</td>\n",
       "      <td>-3.96</td>\n",
       "      <td>-7.76</td>\n",
       "      <td>0.00</td>\n",
       "      <td>2021-11-01</td>\n",
       "      <td>11</td>\n",
       "    </tr>\n",
       "  </tbody>\n",
       "</table>\n",
       "</div>"
      ],
      "text/plain": [
       "     Mkt_minus_RF       SMB       HML    RF       Date  month\n",
       "year                                                         \n",
       "2017         3.57     -2.52     -3.75  0.09 2017-12-01     12\n",
       "2018        -9.55     -4.82     -3.98  0.19 2018-12-01     12\n",
       "2019        -6.94     -2.98     -4.95  0.21 2019-12-01     12\n",
       "2020       -13.38     -4.89    -14.02  0.13 2020-12-01     12\n",
       "2021        -4.37     -3.96     -7.76  0.00 2021-11-01     11"
      ]
     },
     "execution_count": 11,
     "metadata": {},
     "output_type": "execute_result"
    }
   ],
   "source": [
    "ff_max_df = ff_df.groupby(by='year').max()\n",
    "ff_max_df.tail()"
   ]
  },
  {
   "cell_type": "code",
   "execution_count": 12,
   "id": "5fbcea99",
   "metadata": {},
   "outputs": [
    {
     "data": {
      "text/plain": [
       "<AxesSubplot:xlabel='year', ylabel='RF'>"
      ]
     },
     "execution_count": 12,
     "metadata": {},
     "output_type": "execute_result"
    },
    {
     "data": {
      "image/png": "[encoded data removed]",
      "text/plain": [
       "<Figure size 432x288 with 1 Axes>"
      ]
     },
     "metadata": {},
     "output_type": "display_data"
    }
   ],
   "source": [
    "import seaborn as sns\n",
    "sns.set_theme(style=\"darkgrid\")\n",
    "\n",
    "# Plot the responses for different events and regions\n",
    "sns.lineplot(x=\"year\", y=\"RF\", data=ff_max_df)"
   ]
  },
  {
   "cell_type": "code",
   "execution_count": 13,
   "id": "3e1568b0",
   "metadata": {},
   "outputs": [
    {
     "data": {
      "text/plain": [
       "<AxesSubplot:xlabel='year', ylabel='RF'>"
      ]
     },
     "execution_count": 13,
     "metadata": {},
     "output_type": "execute_result"
    },
    {
     "data": {
      "image/png": "[encoded data removed]",
      "text/plain": [
       "<Figure size 432x288 with 1 Axes>"
      ]
     },
     "metadata": {},
     "output_type": "display_data"
    }
   ],
   "source": [
    "sns.lineplot(x=\"year\", y=\"RF\", data=ff_min_df)"
   ]
  },
  {
   "cell_type": "markdown",
   "id": "ba8fcd34",
   "metadata": {},
   "source": [
    "# The CAPM model and pricing $\\beta$ and $\\alpha$\n",
    "\n",
    "This is written quite a few different ways. \n",
    "\n",
    "Here's one from https://www.investopedia.com/terms/c/capm.asp: $ E[R_i] = R_f + \\beta_i (E[R_m] - R_f) $\n",
    "\n",
    "where:\n",
    "\n",
    "$E[R_i]$ is expected return of investment\n",
    "\n",
    "$R_f$ is risk-free rate\n",
    "\n",
    "$β_i$ is beta of the investment\n",
    "\n",
    "$(ER_m − R_f)$ is market risk premium\n",
    "\n",
    "$E[x]$ means the expectation of x. The left side is an expected value, not a certainty.\n",
    "\n",
    "But you'll more often see it written:\n",
    "\n",
    "$ R_i = R_f + \\beta_i (R_m - R_f) $"
   ]
  },
  {
   "cell_type": "markdown",
   "id": "eda6191d",
   "metadata": {},
   "source": [
    "# Calculating $\\beta$\n",
    "\n",
    "$\\beta_i = \\frac{Cov(R_m, R_i)}{Var(R_m)}$\n",
    "\n",
    "Let's use TSLA as our stock, and see how it varies (and covaries) against the S&P 500 Index."
   ]
  },
  {
   "cell_type": "code",
   "execution_count": 14,
   "id": "ae5101f1",
   "metadata": {},
   "outputs": [
    {
     "name": "stdout",
     "output_type": "stream",
     "text": [
      "Read in 61 records from TSLA and SPY.xlsx.\n"
     ]
    },
    {
     "data": {
      "text/html": [
       "<div>\n",
       "<style scoped>\n",
       "    .dataframe tbody tr th:only-of-type {\n",
       "        vertical-align: middle;\n",
       "    }\n",
       "\n",
       "    .dataframe tbody tr th {\n",
       "        vertical-align: top;\n",
       "    }\n",
       "\n",
       "    .dataframe thead th {\n",
       "        text-align: right;\n",
       "    }\n",
       "</style>\n",
       "<table border=\"1\" class=\"dataframe\">\n",
       "  <thead>\n",
       "    <tr style=\"text-align: right;\">\n",
       "      <th></th>\n",
       "      <th>Date</th>\n",
       "      <th>Open</th>\n",
       "      <th>High</th>\n",
       "      <th>Low</th>\n",
       "      <th>Close</th>\n",
       "      <th>Adj Close</th>\n",
       "      <th>Volume</th>\n",
       "    </tr>\n",
       "  </thead>\n",
       "  <tbody>\n",
       "    <tr>\n",
       "      <th>0</th>\n",
       "      <td>2017-02-01</td>\n",
       "      <td>50.610001</td>\n",
       "      <td>57.478001</td>\n",
       "      <td>48.402000</td>\n",
       "      <td>49.998001</td>\n",
       "      <td>49.998001</td>\n",
       "      <td>597700000</td>\n",
       "    </tr>\n",
       "    <tr>\n",
       "      <th>1</th>\n",
       "      <td>2017-03-01</td>\n",
       "      <td>50.835999</td>\n",
       "      <td>56.400002</td>\n",
       "      <td>48.556000</td>\n",
       "      <td>55.660000</td>\n",
       "      <td>55.660000</td>\n",
       "      <td>535176500</td>\n",
       "    </tr>\n",
       "    <tr>\n",
       "      <th>2</th>\n",
       "      <td>2017-04-01</td>\n",
       "      <td>57.380001</td>\n",
       "      <td>62.959999</td>\n",
       "      <td>56.916000</td>\n",
       "      <td>62.813999</td>\n",
       "      <td>62.813999</td>\n",
       "      <td>584753000</td>\n",
       "    </tr>\n",
       "    <tr>\n",
       "      <th>3</th>\n",
       "      <td>2017-05-01</td>\n",
       "      <td>62.976002</td>\n",
       "      <td>68.578003</td>\n",
       "      <td>58.152000</td>\n",
       "      <td>68.202003</td>\n",
       "      <td>68.202003</td>\n",
       "      <td>740231500</td>\n",
       "    </tr>\n",
       "    <tr>\n",
       "      <th>4</th>\n",
       "      <td>2017-06-01</td>\n",
       "      <td>68.800003</td>\n",
       "      <td>77.398003</td>\n",
       "      <td>66.842003</td>\n",
       "      <td>72.321999</td>\n",
       "      <td>72.321999</td>\n",
       "      <td>929755500</td>\n",
       "    </tr>\n",
       "  </tbody>\n",
       "</table>\n",
       "</div>"
      ],
      "text/plain": [
       "        Date       Open       High        Low      Close  Adj Close     Volume\n",
       "0 2017-02-01  50.610001  57.478001  48.402000  49.998001  49.998001  597700000\n",
       "1 2017-03-01  50.835999  56.400002  48.556000  55.660000  55.660000  535176500\n",
       "2 2017-04-01  57.380001  62.959999  56.916000  62.813999  62.813999  584753000\n",
       "3 2017-05-01  62.976002  68.578003  58.152000  68.202003  68.202003  740231500\n",
       "4 2017-06-01  68.800003  77.398003  66.842003  72.321999  72.321999  929755500"
      ]
     },
     "execution_count": 14,
     "metadata": {},
     "output_type": "execute_result"
    }
   ],
   "source": [
    "filename = 'TSLA and SPY.xlsx'\n",
    "tsla_df = pd.read_excel(filename, sheet_name='TSLA')\n",
    "print(f'Read in {len(tsla_df)} records from {filename}.')\n",
    "tsla_df.head()"
   ]
  },
  {
   "cell_type": "code",
   "execution_count": 15,
   "id": "3d076b5d",
   "metadata": {},
   "outputs": [
    {
     "name": "stdout",
     "output_type": "stream",
     "text": [
      "Read in 61 records from TSLA and SPY.xlsx.\n"
     ]
    },
    {
     "data": {
      "text/html": [
       "<div>\n",
       "<style scoped>\n",
       "    .dataframe tbody tr th:only-of-type {\n",
       "        vertical-align: middle;\n",
       "    }\n",
       "\n",
       "    .dataframe tbody tr th {\n",
       "        vertical-align: top;\n",
       "    }\n",
       "\n",
       "    .dataframe thead th {\n",
       "        text-align: right;\n",
       "    }\n",
       "</style>\n",
       "<table border=\"1\" class=\"dataframe\">\n",
       "  <thead>\n",
       "    <tr style=\"text-align: right;\">\n",
       "      <th></th>\n",
       "      <th>Date</th>\n",
       "      <th>Open</th>\n",
       "      <th>High</th>\n",
       "      <th>Low</th>\n",
       "      <th>Close*</th>\n",
       "      <th>Adj Close**</th>\n",
       "      <th>Volume</th>\n",
       "    </tr>\n",
       "  </thead>\n",
       "  <tbody>\n",
       "    <tr>\n",
       "      <th>0</th>\n",
       "      <td>2017-02-01</td>\n",
       "      <td>2285.59</td>\n",
       "      <td>2371.54</td>\n",
       "      <td>2271.65</td>\n",
       "      <td>2363.64</td>\n",
       "      <td>2363.64</td>\n",
       "      <td>69162420000</td>\n",
       "    </tr>\n",
       "    <tr>\n",
       "      <th>1</th>\n",
       "      <td>2017-03-01</td>\n",
       "      <td>2380.13</td>\n",
       "      <td>2400.98</td>\n",
       "      <td>2322.25</td>\n",
       "      <td>2362.72</td>\n",
       "      <td>2362.72</td>\n",
       "      <td>81547770000</td>\n",
       "    </tr>\n",
       "    <tr>\n",
       "      <th>2</th>\n",
       "      <td>2017-03-31</td>\n",
       "      <td>2362.34</td>\n",
       "      <td>2398.16</td>\n",
       "      <td>2328.95</td>\n",
       "      <td>2384.20</td>\n",
       "      <td>2384.20</td>\n",
       "      <td>65265670000</td>\n",
       "    </tr>\n",
       "    <tr>\n",
       "      <th>3</th>\n",
       "      <td>2017-04-30</td>\n",
       "      <td>2388.50</td>\n",
       "      <td>2418.71</td>\n",
       "      <td>2352.72</td>\n",
       "      <td>2411.80</td>\n",
       "      <td>2411.80</td>\n",
       "      <td>79607170000</td>\n",
       "    </tr>\n",
       "    <tr>\n",
       "      <th>4</th>\n",
       "      <td>2017-05-31</td>\n",
       "      <td>2415.65</td>\n",
       "      <td>2453.82</td>\n",
       "      <td>2405.70</td>\n",
       "      <td>2423.41</td>\n",
       "      <td>2423.41</td>\n",
       "      <td>81002490000</td>\n",
       "    </tr>\n",
       "  </tbody>\n",
       "</table>\n",
       "</div>"
      ],
      "text/plain": [
       "        Date     Open     High      Low   Close*  Adj Close**       Volume\n",
       "0 2017-02-01  2285.59  2371.54  2271.65  2363.64      2363.64  69162420000\n",
       "1 2017-03-01  2380.13  2400.98  2322.25  2362.72      2362.72  81547770000\n",
       "2 2017-03-31  2362.34  2398.16  2328.95  2384.20      2384.20  65265670000\n",
       "3 2017-04-30  2388.50  2418.71  2352.72  2411.80      2411.80  79607170000\n",
       "4 2017-05-31  2415.65  2453.82  2405.70  2423.41      2423.41  81002490000"
      ]
     },
     "execution_count": 15,
     "metadata": {},
     "output_type": "execute_result"
    }
   ],
   "source": [
    "spx_df = pd.read_excel(filename, sheet_name='GSPC')\n",
    "print(f'Read in {len(spx_df)} records from {filename}.')\n",
    "spx_df.head()"
   ]
  },
  {
   "cell_type": "code",
   "execution_count": 16,
   "id": "ff1f4b38",
   "metadata": {},
   "outputs": [],
   "source": [
    "cols_to_drop = ['Open', 'High', 'Low', 'Close', 'Volume']\n",
    "tsla_df.drop(columns=cols_to_drop, inplace=True)\n",
    "cols_to_drop.remove('Close')\n",
    "cols_to_drop.append('Close*')\n",
    "spx_df.drop(columns=cols_to_drop, inplace=True)"
   ]
  },
  {
   "cell_type": "code",
   "execution_count": 17,
   "id": "773d4ad0",
   "metadata": {},
   "outputs": [
    {
     "data": {
      "text/html": [
       "<div>\n",
       "<style scoped>\n",
       "    .dataframe tbody tr th:only-of-type {\n",
       "        vertical-align: middle;\n",
       "    }\n",
       "\n",
       "    .dataframe tbody tr th {\n",
       "        vertical-align: top;\n",
       "    }\n",
       "\n",
       "    .dataframe thead th {\n",
       "        text-align: right;\n",
       "    }\n",
       "</style>\n",
       "<table border=\"1\" class=\"dataframe\">\n",
       "  <thead>\n",
       "    <tr style=\"text-align: right;\">\n",
       "      <th></th>\n",
       "      <th>Date</th>\n",
       "      <th>Adj Close</th>\n",
       "    </tr>\n",
       "  </thead>\n",
       "  <tbody>\n",
       "    <tr>\n",
       "      <th>0</th>\n",
       "      <td>2017-02-01</td>\n",
       "      <td>49.998001</td>\n",
       "    </tr>\n",
       "    <tr>\n",
       "      <th>1</th>\n",
       "      <td>2017-03-01</td>\n",
       "      <td>55.660000</td>\n",
       "    </tr>\n",
       "    <tr>\n",
       "      <th>2</th>\n",
       "      <td>2017-04-01</td>\n",
       "      <td>62.813999</td>\n",
       "    </tr>\n",
       "    <tr>\n",
       "      <th>3</th>\n",
       "      <td>2017-05-01</td>\n",
       "      <td>68.202003</td>\n",
       "    </tr>\n",
       "    <tr>\n",
       "      <th>4</th>\n",
       "      <td>2017-06-01</td>\n",
       "      <td>72.321999</td>\n",
       "    </tr>\n",
       "  </tbody>\n",
       "</table>\n",
       "</div>"
      ],
      "text/plain": [
       "        Date  Adj Close\n",
       "0 2017-02-01  49.998001\n",
       "1 2017-03-01  55.660000\n",
       "2 2017-04-01  62.813999\n",
       "3 2017-05-01  68.202003\n",
       "4 2017-06-01  72.321999"
      ]
     },
     "execution_count": 17,
     "metadata": {},
     "output_type": "execute_result"
    }
   ],
   "source": [
    "spx_df.columns # ['Date', 'Adj Close**']\n",
    "tsla_df.head()"
   ]
  },
  {
   "cell_type": "code",
   "execution_count": 18,
   "id": "e52baad5",
   "metadata": {},
   "outputs": [],
   "source": [
    "# Prepare to join the tables on date\n",
    "def coerce_to_datetime(df: pd.DataFrame, col: str):\n",
    "    df[col] = pd.to_datetime(df[col])\n",
    "    return"
   ]
  },
  {
   "cell_type": "code",
   "execution_count": 19,
   "id": "ef02d058",
   "metadata": {},
   "outputs": [
    {
     "data": {
      "text/plain": [
       "0    2017-02-01\n",
       "1    2017-03-01\n",
       "2    2017-04-01\n",
       "3    2017-05-01\n",
       "4    2017-06-01\n",
       "        ...    \n",
       "56   2021-10-01\n",
       "57   2021-11-01\n",
       "58   2021-12-01\n",
       "59   2022-01-01\n",
       "60   2022-01-14\n",
       "Name: Date, Length: 61, dtype: datetime64[ns]"
      ]
     },
     "execution_count": 19,
     "metadata": {},
     "output_type": "execute_result"
    }
   ],
   "source": [
    "coerce_to_datetime(tsla_df, 'Date')\n",
    "coerce_to_datetime(spx_df, 'Date')\n",
    "\n",
    "tsla_df.set_index('Date')\n",
    "spx_df.set_index('Date')\n",
    "\n",
    "tsla_df.Date"
   ]
  },
  {
   "cell_type": "code",
   "execution_count": 20,
   "id": "64b873ba",
   "metadata": {},
   "outputs": [
    {
     "data": {
      "text/html": [
       "<div>\n",
       "<style scoped>\n",
       "    .dataframe tbody tr th:only-of-type {\n",
       "        vertical-align: middle;\n",
       "    }\n",
       "\n",
       "    .dataframe tbody tr th {\n",
       "        vertical-align: top;\n",
       "    }\n",
       "\n",
       "    .dataframe thead th {\n",
       "        text-align: right;\n",
       "    }\n",
       "</style>\n",
       "<table border=\"1\" class=\"dataframe\">\n",
       "  <thead>\n",
       "    <tr style=\"text-align: right;\">\n",
       "      <th></th>\n",
       "      <th>DateTSLA</th>\n",
       "      <th>Adj Close</th>\n",
       "      <th>DateSPX</th>\n",
       "      <th>Adj Close**</th>\n",
       "    </tr>\n",
       "  </thead>\n",
       "  <tbody>\n",
       "    <tr>\n",
       "      <th>0</th>\n",
       "      <td>2017-02-01</td>\n",
       "      <td>49.998001</td>\n",
       "      <td>2017-02-01</td>\n",
       "      <td>2363.64</td>\n",
       "    </tr>\n",
       "    <tr>\n",
       "      <th>1</th>\n",
       "      <td>2017-03-01</td>\n",
       "      <td>55.660000</td>\n",
       "      <td>2017-03-01</td>\n",
       "      <td>2362.72</td>\n",
       "    </tr>\n",
       "    <tr>\n",
       "      <th>2</th>\n",
       "      <td>2017-04-01</td>\n",
       "      <td>62.813999</td>\n",
       "      <td>2017-03-31</td>\n",
       "      <td>2384.20</td>\n",
       "    </tr>\n",
       "    <tr>\n",
       "      <th>3</th>\n",
       "      <td>2017-05-01</td>\n",
       "      <td>68.202003</td>\n",
       "      <td>2017-04-30</td>\n",
       "      <td>2411.80</td>\n",
       "    </tr>\n",
       "    <tr>\n",
       "      <th>4</th>\n",
       "      <td>2017-06-01</td>\n",
       "      <td>72.321999</td>\n",
       "      <td>2017-05-31</td>\n",
       "      <td>2423.41</td>\n",
       "    </tr>\n",
       "    <tr>\n",
       "      <th>...</th>\n",
       "      <td>...</td>\n",
       "      <td>...</td>\n",
       "      <td>...</td>\n",
       "      <td>...</td>\n",
       "    </tr>\n",
       "    <tr>\n",
       "      <th>56</th>\n",
       "      <td>2021-10-01</td>\n",
       "      <td>1114.000000</td>\n",
       "      <td>2021-09-30</td>\n",
       "      <td>4605.38</td>\n",
       "    </tr>\n",
       "    <tr>\n",
       "      <th>57</th>\n",
       "      <td>2021-11-01</td>\n",
       "      <td>1144.760010</td>\n",
       "      <td>2021-10-31</td>\n",
       "      <td>4567.00</td>\n",
       "    </tr>\n",
       "    <tr>\n",
       "      <th>58</th>\n",
       "      <td>2021-12-01</td>\n",
       "      <td>1056.780029</td>\n",
       "      <td>2021-12-01</td>\n",
       "      <td>4766.18</td>\n",
       "    </tr>\n",
       "    <tr>\n",
       "      <th>59</th>\n",
       "      <td>2022-01-01</td>\n",
       "      <td>1049.609985</td>\n",
       "      <td>2022-01-01</td>\n",
       "      <td>4662.85</td>\n",
       "    </tr>\n",
       "    <tr>\n",
       "      <th>60</th>\n",
       "      <td>2022-01-14</td>\n",
       "      <td>1049.609985</td>\n",
       "      <td>2022-01-14</td>\n",
       "      <td>4662.85</td>\n",
       "    </tr>\n",
       "  </tbody>\n",
       "</table>\n",
       "<p>61 rows × 4 columns</p>\n",
       "</div>"
      ],
      "text/plain": [
       "     DateTSLA    Adj Close    DateSPX  Adj Close**\n",
       "0  2017-02-01    49.998001 2017-02-01      2363.64\n",
       "1  2017-03-01    55.660000 2017-03-01      2362.72\n",
       "2  2017-04-01    62.813999 2017-03-31      2384.20\n",
       "3  2017-05-01    68.202003 2017-04-30      2411.80\n",
       "4  2017-06-01    72.321999 2017-05-31      2423.41\n",
       "..        ...          ...        ...          ...\n",
       "56 2021-10-01  1114.000000 2021-09-30      4605.38\n",
       "57 2021-11-01  1144.760010 2021-10-31      4567.00\n",
       "58 2021-12-01  1056.780029 2021-12-01      4766.18\n",
       "59 2022-01-01  1049.609985 2022-01-01      4662.85\n",
       "60 2022-01-14  1049.609985 2022-01-14      4662.85\n",
       "\n",
       "[61 rows x 4 columns]"
      ]
     },
     "execution_count": 20,
     "metadata": {},
     "output_type": "execute_result"
    }
   ],
   "source": [
    "comb_df = tsla_df.join(spx_df, lsuffix='TSLA', rsuffix='SPX')\n",
    "comb_df"
   ]
  },
  {
   "cell_type": "code",
   "execution_count": 21,
   "id": "b66e0ce7",
   "metadata": {},
   "outputs": [],
   "source": [
    "import numpy as np\n",
    "tsla_close = np.array(comb_df['Adj Close'])\n",
    "spx_close = np.array(comb_df['Adj Close**'])"
   ]
  },
  {
   "cell_type": "code",
   "execution_count": 22,
   "id": "a60ffcc1",
   "metadata": {},
   "outputs": [
    {
     "data": {
      "text/plain": [
       "array([49.998001, 55.66    , 62.813999, 68.202003, 72.321999])"
      ]
     },
     "execution_count": 22,
     "metadata": {},
     "output_type": "execute_result"
    }
   ],
   "source": [
    "tsla_close[:5]"
   ]
  },
  {
   "cell_type": "code",
   "execution_count": 23,
   "id": "466d3e97",
   "metadata": {},
   "outputs": [],
   "source": [
    "def numpy_shift(arr: np.ndarray) -> np.ndarray:\n",
    "    ans = np.roll(arr, 1) # np.roll rotates all over by 1 and the last el becomes the first\n",
    "    ans[0] = np.nan\n",
    "    return ans\n"
   ]
  },
  {
   "cell_type": "code",
   "execution_count": 24,
   "id": "ffea25a7",
   "metadata": {},
   "outputs": [
    {
     "data": {
      "text/plain": [
       "array([nan,  1.,  2.,  3.,  4.,  5.,  6.,  7.,  8.,  9., 10., 11., 12.,\n",
       "       13., 14., 15., 16., 17., 18.])"
      ]
     },
     "execution_count": 24,
     "metadata": {},
     "output_type": "execute_result"
    }
   ],
   "source": [
    "orig = np.arange(1,20, dtype=float)\n",
    "new = numpy_shift(orig)\n",
    "new"
   ]
  },
  {
   "cell_type": "code",
   "execution_count": 25,
   "id": "a25fb978",
   "metadata": {},
   "outputs": [
    {
     "data": {
      "text/plain": [
       "array([       nan, 0.69314718, 0.40546511, 0.28768207, 0.22314355,\n",
       "       0.18232156, 0.15415068, 0.13353139, 0.11778304, 0.10536052,\n",
       "       0.09531018, 0.08701138, 0.08004271, 0.07410797, 0.06899287,\n",
       "       0.06453852, 0.06062462, 0.05715841, 0.05406722])"
      ]
     },
     "execution_count": 25,
     "metadata": {},
     "output_type": "execute_result"
    }
   ],
   "source": [
    "ln_ret = np.log(orig / new)\n",
    "ln_ret"
   ]
  },
  {
   "cell_type": "code",
   "execution_count": 26,
   "id": "92bea190",
   "metadata": {},
   "outputs": [
    {
     "data": {
      "text/plain": [
       "array([        nan,  0.10727873,  0.12091621,  0.08229597,  0.05865442,\n",
       "       -0.1114599 ,  0.09554342, -0.04247409, -0.0284574 , -0.07086258,\n",
       "        0.00806196,  0.12925455, -0.03226688, -0.25392041,  0.09925461,\n",
       "       -0.03169821,  0.18604326, -0.14002146,  0.01173743, -0.13043907,\n",
       "        0.24217048,  0.03827167, -0.05176198, -0.0806288 ,  0.04103308,\n",
       "       -0.13365648, -0.15912386, -0.25394527,  0.18801211,  0.07809239,\n",
       "       -0.06851695,  0.06544948,  0.26806129,  0.04659215,  0.23735979,\n",
       "        0.44157829,  0.02642437, -0.24278154,  0.40020961,  0.0657304 ,\n",
       "        0.25710868,  0.28142067,  0.55471929, -0.1497622 , -0.1003718 ,\n",
       "        0.38030845,  0.21773078,  0.1173437 , -0.16103823, -0.01126979,\n",
       "        0.06029256, -0.12637239,  0.083548  ,  0.01097385,  0.06822418,\n",
       "        0.05263259,  0.36223025,  0.02723788, -0.07996844, -0.00680792,\n",
       "        0.        ])"
      ]
     },
     "execution_count": 26,
     "metadata": {},
     "output_type": "execute_result"
    }
   ],
   "source": [
    "tsla_lag1 = numpy_shift(tsla_close)\n",
    "tsla_ln_ret = np.log(tsla_close / tsla_lag1)\n",
    "tsla_ln_ret"
   ]
  },
  {
   "cell_type": "code",
   "execution_count": 27,
   "id": "471765bc",
   "metadata": {},
   "outputs": [
    {
     "data": {
      "text/plain": [
       "array([        nan, -0.00038931,  0.00905014,  0.01150972,  0.00480228,\n",
       "        0.01916396,  0.00054634,  0.01911896,  0.0219456 ,  0.02769552,\n",
       "        0.0097836 ,  0.05465742, -0.03972612, -0.02725251,  0.00271511,\n",
       "        0.0213782 ,  0.00483071,  0.03538798,  0.02981432,  0.00428511,\n",
       "       -0.07192935,  0.01770178, -0.09626529,  0.07574215,  0.02929559,\n",
       "        0.01776554,  0.03856034, -0.06804089,  0.06665832,  0.01304277,\n",
       "       -0.01825731,  0.01703524,  0.02022582,  0.03348029,  0.02818874,\n",
       "       -0.00162942, -0.08785952, -0.13366777,  0.1194209 ,  0.04428649,\n",
       "        0.01822138,  0.05363678,  0.0677191 , -0.0400181 , -0.02805568,\n",
       "        0.10214645,  0.036449  , -0.01119912,  0.0257569 ,  0.04156281,\n",
       "        0.05109732,  0.00547151,  0.02197084,  0.02249323,  0.02857805,\n",
       "       -0.04873776,  0.06685821, -0.00836865,  0.04268861, -0.0219183 ,\n",
       "        0.        ])"
      ]
     },
     "execution_count": 27,
     "metadata": {},
     "output_type": "execute_result"
    }
   ],
   "source": [
    "spx_lag1 = numpy_shift(spx_close)\n",
    "spx_ln_ret = np.log(spx_close / spx_lag1)\n",
    "spx_ln_ret"
   ]
  },
  {
   "cell_type": "code",
   "execution_count": 28,
   "id": "2f694863",
   "metadata": {},
   "outputs": [
    {
     "data": {
      "text/plain": [
       "array([-0.00038931,  0.00905014,  0.01150972,  0.00480228,  0.01916396,\n",
       "        0.00054634,  0.01911896,  0.0219456 ,  0.02769552,  0.0097836 ,\n",
       "        0.05465742, -0.03972612, -0.02725251,  0.00271511,  0.0213782 ,\n",
       "        0.00483071,  0.03538798,  0.02981432,  0.00428511, -0.07192935,\n",
       "        0.01770178, -0.09626529,  0.07574215,  0.02929559,  0.01776554,\n",
       "        0.03856034, -0.06804089,  0.06665832,  0.01304277, -0.01825731,\n",
       "        0.01703524,  0.02022582,  0.03348029,  0.02818874, -0.00162942,\n",
       "       -0.08785952, -0.13366777,  0.1194209 ,  0.04428649,  0.01822138,\n",
       "        0.05363678,  0.0677191 , -0.0400181 , -0.02805568,  0.10214645,\n",
       "        0.036449  , -0.01119912,  0.0257569 ,  0.04156281,  0.05109732,\n",
       "        0.00547151,  0.02197084,  0.02249323,  0.02857805, -0.04873776,\n",
       "        0.06685821, -0.00836865,  0.04268861, -0.0219183 ])"
      ]
     },
     "execution_count": 28,
     "metadata": {},
     "output_type": "execute_result"
    }
   ],
   "source": [
    "# Should drop the first el (NaN) and the last, mid-month el (which is the same as the penultimate)\n",
    "spx_ln_ret = spx_ln_ret[1:-1].copy()\n",
    "spx_ln_ret"
   ]
  },
  {
   "cell_type": "code",
   "execution_count": 29,
   "id": "40d7884e",
   "metadata": {},
   "outputs": [
    {
     "data": {
      "text/plain": [
       "array([ 0.10727873,  0.12091621,  0.08229597,  0.05865442, -0.1114599 ,\n",
       "        0.09554342, -0.04247409, -0.0284574 , -0.07086258,  0.00806196,\n",
       "        0.12925455, -0.03226688, -0.25392041,  0.09925461, -0.03169821,\n",
       "        0.18604326, -0.14002146,  0.01173743, -0.13043907,  0.24217048,\n",
       "        0.03827167, -0.05176198, -0.0806288 ,  0.04103308, -0.13365648,\n",
       "       -0.15912386, -0.25394527,  0.18801211,  0.07809239, -0.06851695,\n",
       "        0.06544948,  0.26806129,  0.04659215,  0.23735979,  0.44157829,\n",
       "        0.02642437, -0.24278154,  0.40020961,  0.0657304 ,  0.25710868,\n",
       "        0.28142067,  0.55471929, -0.1497622 , -0.1003718 ,  0.38030845,\n",
       "        0.21773078,  0.1173437 , -0.16103823, -0.01126979,  0.06029256,\n",
       "       -0.12637239,  0.083548  ,  0.01097385,  0.06822418,  0.05263259,\n",
       "        0.36223025,  0.02723788, -0.07996844, -0.00680792])"
      ]
     },
     "execution_count": 29,
     "metadata": {},
     "output_type": "execute_result"
    }
   ],
   "source": [
    "tsla_ln_ret = tsla_ln_ret[1:-1].copy()\n",
    "tsla_ln_ret"
   ]
  },
  {
   "cell_type": "code",
   "execution_count": 30,
   "id": "72bb57be",
   "metadata": {},
   "outputs": [
    {
     "data": {
      "text/plain": [
       "0.0019953857529041285"
      ]
     },
     "execution_count": 30,
     "metadata": {},
     "output_type": "execute_result"
    }
   ],
   "source": [
    "# Get the variance for SPX by itself.\n",
    "\n",
    "m1 = np.array([spx_ln_ret, tsla_ln_ret])\n",
    "var = np.var(spx_ln_ret)\n",
    "var"
   ]
  },
  {
   "cell_type": "code",
   "execution_count": 31,
   "id": "6bfce1ae",
   "metadata": {},
   "outputs": [
    {
     "data": {
      "text/plain": [
       "array([[-3.89305940e-04,  9.05014056e-03,  1.15097184e-02,\n",
       "         4.80228255e-03,  1.91639615e-02,  5.46343056e-04,\n",
       "         1.91189572e-02,  2.19455989e-02,  2.76955153e-02,\n",
       "         9.78360390e-03,  5.46574178e-02, -3.97261156e-02,\n",
       "        -2.72525130e-02,  2.71511175e-03,  2.13782024e-02,\n",
       "         4.83071350e-03,  3.53879800e-02,  2.98143217e-02,\n",
       "         4.28510672e-03, -7.19293491e-02,  1.77017768e-02,\n",
       "        -9.62652871e-02,  7.57421548e-02,  2.92955930e-02,\n",
       "         1.77655418e-02,  3.85603364e-02, -6.80408889e-02,\n",
       "         6.66583195e-02,  1.30427675e-02, -1.82573077e-02,\n",
       "         1.70352405e-02,  2.02258196e-02,  3.34802916e-02,\n",
       "         2.81887410e-02, -1.62941659e-03, -8.78595209e-02,\n",
       "        -1.33667769e-01,  1.19420896e-01,  4.42864902e-02,\n",
       "         1.82213810e-02,  5.36367784e-02,  6.77191021e-02,\n",
       "        -4.00181032e-02, -2.80556803e-02,  1.02146448e-01,\n",
       "         3.64489973e-02, -1.11991168e-02,  2.57568997e-02,\n",
       "         4.15628087e-02,  5.10973221e-02,  5.47150655e-03,\n",
       "         2.19708400e-02,  2.24932292e-02,  2.85780510e-02,\n",
       "        -4.87377630e-02,  6.68582098e-02, -8.36865110e-03,\n",
       "         4.26886113e-02, -2.19182963e-02],\n",
       "       [ 1.07278731e-01,  1.20916207e-01,  8.22959713e-02,\n",
       "         5.86544228e-02, -1.11459895e-01,  9.55434186e-02,\n",
       "        -4.24740884e-02, -2.84574008e-02, -7.08625811e-02,\n",
       "         8.06195918e-03,  1.29254555e-01, -3.22668772e-02,\n",
       "        -2.53920410e-01,  9.92546076e-02, -3.16982112e-02,\n",
       "         1.86043260e-01, -1.40021464e-01,  1.17374306e-02,\n",
       "        -1.30439066e-01,  2.42170485e-01,  3.82716675e-02,\n",
       "        -5.17619789e-02, -8.06288031e-02,  4.10330810e-02,\n",
       "        -1.33656479e-01, -1.59123860e-01, -2.53945275e-01,\n",
       "         1.88012106e-01,  7.80923857e-02, -6.85169460e-02,\n",
       "         6.54494797e-02,  2.68061285e-01,  4.65921504e-02,\n",
       "         2.37359790e-01,  4.41578292e-01,  2.64243694e-02,\n",
       "        -2.42781543e-01,  4.00209608e-01,  6.57304040e-02,\n",
       "         2.57108682e-01,  2.81420672e-01,  5.54719289e-01,\n",
       "        -1.49762203e-01, -1.00371802e-01,  3.80308453e-01,\n",
       "         2.17730779e-01,  1.17343701e-01, -1.61038226e-01,\n",
       "        -1.12697903e-02,  6.02925621e-02, -1.26372388e-01,\n",
       "         8.35480006e-02,  1.09738461e-02,  6.82241840e-02,\n",
       "         5.26325945e-02,  3.62230254e-01,  2.72378753e-02,\n",
       "        -7.99684404e-02, -6.80792412e-03]])"
      ]
     },
     "execution_count": 31,
     "metadata": {},
     "output_type": "execute_result"
    }
   ],
   "source": [
    "m1"
   ]
  },
  {
   "cell_type": "code",
   "execution_count": 32,
   "id": "62f72d98",
   "metadata": {},
   "outputs": [
    {
     "data": {
      "text/plain": [
       "array([[0.00202979, 0.00354849],\n",
       "       [0.00354849, 0.03002502]])"
      ]
     },
     "execution_count": 32,
     "metadata": {},
     "output_type": "execute_result"
    }
   ],
   "source": [
    "cov_mat = np.cov(m1)\n",
    "cov_mat"
   ]
  },
  {
   "cell_type": "code",
   "execution_count": 33,
   "id": "d9a82023",
   "metadata": {},
   "outputs": [
    {
     "data": {
      "text/plain": [
       "0.0035484879000732047"
      ]
     },
     "execution_count": 33,
     "metadata": {},
     "output_type": "execute_result"
    }
   ],
   "source": [
    "cov = cov_mat[0][1]\n",
    "cov"
   ]
  },
  {
   "cell_type": "code",
   "execution_count": 34,
   "id": "c07182b8",
   "metadata": {},
   "outputs": [
    {
     "data": {
      "text/plain": [
       "1.7783468158518507"
      ]
     },
     "execution_count": 34,
     "metadata": {},
     "output_type": "execute_result"
    }
   ],
   "source": [
    "beta = cov / var\n",
    "beta"
   ]
  },
  {
   "cell_type": "markdown",
   "id": "221f7656",
   "metadata": {},
   "source": [
    "# Let's take a look at the plot of SPX returns vs TSLA"
   ]
  },
  {
   "cell_type": "code",
   "execution_count": 35,
   "id": "69045faa",
   "metadata": {},
   "outputs": [
    {
     "data": {
      "text/plain": [
       "<AxesSubplot:>"
      ]
     },
     "execution_count": 35,
     "metadata": {},
     "output_type": "execute_result"
    },
    {
     "data": {
      "image/png": "[encoded data removed]",
      "text/plain": [
       "<Figure size 432x288 with 1 Axes>"
      ]
     },
     "metadata": {},
     "output_type": "display_data"
    }
   ],
   "source": [
    "sns.regplot(x=spx_ln_ret, y=tsla_ln_ret)"
   ]
  },
  {
   "cell_type": "markdown",
   "id": "e1402d61",
   "metadata": {},
   "source": [
    "# Calculating $\\alpha$\n",
    "\n",
    "You're going to figure this out as part of the homework."
   ]
  },
  {
   "cell_type": "markdown",
   "id": "a34aa3ad",
   "metadata": {},
   "source": [
    "# Correlation \n",
    "\n",
    "Helpful overviews: \n",
    "* https://www.statisticshowto.com/probability-and-statistics/correlation-analysis/\n",
    "* https://www.investopedia.com/ask/answers/032515/what-does-it-mean-if-correlation-coefficient-positive-negative-or-zero.asp"
   ]
  },
  {
   "cell_type": "code",
   "execution_count": 36,
   "id": "9ba885da",
   "metadata": {},
   "outputs": [
    {
     "data": {
      "text/html": [
       "<div>\n",
       "<style scoped>\n",
       "    .dataframe tbody tr th:only-of-type {\n",
       "        vertical-align: middle;\n",
       "    }\n",
       "\n",
       "    .dataframe tbody tr th {\n",
       "        vertical-align: top;\n",
       "    }\n",
       "\n",
       "    .dataframe thead th {\n",
       "        text-align: right;\n",
       "    }\n",
       "</style>\n",
       "<table border=\"1\" class=\"dataframe\">\n",
       "  <thead>\n",
       "    <tr style=\"text-align: right;\">\n",
       "      <th>Symbols</th>\n",
       "      <th>AAPL</th>\n",
       "      <th>TSLA</th>\n",
       "      <th>GLD</th>\n",
       "      <th>WFC</th>\n",
       "      <th>IBM</th>\n",
       "      <th>BTC-USD</th>\n",
       "      <th>^GSPC</th>\n",
       "    </tr>\n",
       "    <tr>\n",
       "      <th>Date</th>\n",
       "      <th></th>\n",
       "      <th></th>\n",
       "      <th></th>\n",
       "      <th></th>\n",
       "      <th></th>\n",
       "      <th></th>\n",
       "      <th></th>\n",
       "    </tr>\n",
       "  </thead>\n",
       "  <tbody>\n",
       "    <tr>\n",
       "      <th>2017-01-01</th>\n",
       "      <td>28.556141</td>\n",
       "      <td>50.386002</td>\n",
       "      <td>115.550003</td>\n",
       "      <td>48.528637</td>\n",
       "      <td>132.651108</td>\n",
       "      <td>970.403015</td>\n",
       "      <td>2278.870117</td>\n",
       "    </tr>\n",
       "    <tr>\n",
       "      <th>2017-02-01</th>\n",
       "      <td>32.236557</td>\n",
       "      <td>49.998001</td>\n",
       "      <td>119.230003</td>\n",
       "      <td>49.863972</td>\n",
       "      <td>136.679611</td>\n",
       "      <td>1179.969971</td>\n",
       "      <td>2363.639893</td>\n",
       "    </tr>\n",
       "    <tr>\n",
       "      <th>2017-03-01</th>\n",
       "      <td>33.952705</td>\n",
       "      <td>55.660000</td>\n",
       "      <td>118.720001</td>\n",
       "      <td>48.277096</td>\n",
       "      <td>133.408844</td>\n",
       "      <td>1071.790039</td>\n",
       "      <td>2362.719971</td>\n",
       "    </tr>\n",
       "    <tr>\n",
       "      <th>2017-04-01</th>\n",
       "      <td>33.950344</td>\n",
       "      <td>62.813999</td>\n",
       "      <td>120.769997</td>\n",
       "      <td>46.698513</td>\n",
       "      <td>122.798332</td>\n",
       "      <td>1347.890015</td>\n",
       "      <td>2384.199951</td>\n",
       "    </tr>\n",
       "    <tr>\n",
       "      <th>2017-05-01</th>\n",
       "      <td>36.103409</td>\n",
       "      <td>68.202003</td>\n",
       "      <td>120.620003</td>\n",
       "      <td>44.356644</td>\n",
       "      <td>116.930023</td>\n",
       "      <td>2286.409912</td>\n",
       "      <td>2411.800049</td>\n",
       "    </tr>\n",
       "  </tbody>\n",
       "</table>\n",
       "</div>"
      ],
      "text/plain": [
       "Symbols          AAPL       TSLA         GLD        WFC         IBM  \\\n",
       "Date                                                                  \n",
       "2017-01-01  28.556141  50.386002  115.550003  48.528637  132.651108   \n",
       "2017-02-01  32.236557  49.998001  119.230003  49.863972  136.679611   \n",
       "2017-03-01  33.952705  55.660000  118.720001  48.277096  133.408844   \n",
       "2017-04-01  33.950344  62.813999  120.769997  46.698513  122.798332   \n",
       "2017-05-01  36.103409  68.202003  120.620003  44.356644  116.930023   \n",
       "\n",
       "Symbols         BTC-USD        ^GSPC  \n",
       "Date                                  \n",
       "2017-01-01   970.403015  2278.870117  \n",
       "2017-02-01  1179.969971  2363.639893  \n",
       "2017-03-01  1071.790039  2362.719971  \n",
       "2017-04-01  1347.890015  2384.199951  \n",
       "2017-05-01  2286.409912  2411.800049  "
      ]
     },
     "execution_count": 36,
     "metadata": {},
     "output_type": "execute_result"
    }
   ],
   "source": [
    "import pandas_datareader as pdr # you'll need to pip install this first\n",
    "import datetime as dt\n",
    "import matplotlib.pyplot as plt \n",
    " \n",
    "tickers = ['AAPL', 'TSLA', 'GLD', 'WFC', 'IBM', 'BTC-USD', '^GSPC']\n",
    "start = dt.datetime(2017, 1, 1)\n",
    "end = dt.datetime(2022, 1, 1)\n",
    " \n",
    "df = pdr.get_data_yahoo(tickers, start, end, interval=\"m\")\n",
    "price_df = df['Adj Close']\n",
    "price_df.head()"
   ]
  },
  {
   "cell_type": "code",
   "execution_count": 37,
   "id": "40d62903",
   "metadata": {},
   "outputs": [
    {
     "data": {
      "text/html": [
       "<div>\n",
       "<style scoped>\n",
       "    .dataframe tbody tr th:only-of-type {\n",
       "        vertical-align: middle;\n",
       "    }\n",
       "\n",
       "    .dataframe tbody tr th {\n",
       "        vertical-align: top;\n",
       "    }\n",
       "\n",
       "    .dataframe thead th {\n",
       "        text-align: right;\n",
       "    }\n",
       "</style>\n",
       "<table border=\"1\" class=\"dataframe\">\n",
       "  <thead>\n",
       "    <tr style=\"text-align: right;\">\n",
       "      <th>Symbols</th>\n",
       "      <th>AAPL</th>\n",
       "      <th>TSLA</th>\n",
       "      <th>GLD</th>\n",
       "      <th>WFC</th>\n",
       "      <th>IBM</th>\n",
       "      <th>BTC-USD</th>\n",
       "      <th>^GSPC</th>\n",
       "    </tr>\n",
       "    <tr>\n",
       "      <th>Date</th>\n",
       "      <th></th>\n",
       "      <th></th>\n",
       "      <th></th>\n",
       "      <th></th>\n",
       "      <th></th>\n",
       "      <th></th>\n",
       "      <th></th>\n",
       "    </tr>\n",
       "  </thead>\n",
       "  <tbody>\n",
       "    <tr>\n",
       "      <th>2017-01-01</th>\n",
       "      <td>NaN</td>\n",
       "      <td>NaN</td>\n",
       "      <td>NaN</td>\n",
       "      <td>NaN</td>\n",
       "      <td>NaN</td>\n",
       "      <td>NaN</td>\n",
       "      <td>NaN</td>\n",
       "    </tr>\n",
       "    <tr>\n",
       "      <th>2017-02-01</th>\n",
       "      <td>0.121229</td>\n",
       "      <td>-0.007730</td>\n",
       "      <td>0.031351</td>\n",
       "      <td>0.027145</td>\n",
       "      <td>0.029917</td>\n",
       "      <td>0.195533</td>\n",
       "      <td>0.036523</td>\n",
       "    </tr>\n",
       "    <tr>\n",
       "      <th>2017-03-01</th>\n",
       "      <td>0.051867</td>\n",
       "      <td>0.107279</td>\n",
       "      <td>-0.004287</td>\n",
       "      <td>-0.032341</td>\n",
       "      <td>-0.024221</td>\n",
       "      <td>-0.096159</td>\n",
       "      <td>-0.000389</td>\n",
       "    </tr>\n",
       "    <tr>\n",
       "      <th>2017-04-01</th>\n",
       "      <td>-0.000070</td>\n",
       "      <td>0.120916</td>\n",
       "      <td>0.017120</td>\n",
       "      <td>-0.033245</td>\n",
       "      <td>-0.082875</td>\n",
       "      <td>0.229210</td>\n",
       "      <td>0.009050</td>\n",
       "    </tr>\n",
       "    <tr>\n",
       "      <th>2017-05-01</th>\n",
       "      <td>0.061488</td>\n",
       "      <td>0.082296</td>\n",
       "      <td>-0.001243</td>\n",
       "      <td>-0.051450</td>\n",
       "      <td>-0.048968</td>\n",
       "      <td>0.528442</td>\n",
       "      <td>0.011510</td>\n",
       "    </tr>\n",
       "  </tbody>\n",
       "</table>\n",
       "</div>"
      ],
      "text/plain": [
       "Symbols         AAPL      TSLA       GLD       WFC       IBM   BTC-USD  \\\n",
       "Date                                                                     \n",
       "2017-01-01       NaN       NaN       NaN       NaN       NaN       NaN   \n",
       "2017-02-01  0.121229 -0.007730  0.031351  0.027145  0.029917  0.195533   \n",
       "2017-03-01  0.051867  0.107279 -0.004287 -0.032341 -0.024221 -0.096159   \n",
       "2017-04-01 -0.000070  0.120916  0.017120 -0.033245 -0.082875  0.229210   \n",
       "2017-05-01  0.061488  0.082296 -0.001243 -0.051450 -0.048968  0.528442   \n",
       "\n",
       "Symbols        ^GSPC  \n",
       "Date                  \n",
       "2017-01-01       NaN  \n",
       "2017-02-01  0.036523  \n",
       "2017-03-01 -0.000389  \n",
       "2017-04-01  0.009050  \n",
       "2017-05-01  0.011510  "
      ]
     },
     "execution_count": 37,
     "metadata": {},
     "output_type": "execute_result"
    }
   ],
   "source": [
    "ret_df = np.log(price_df/price_df.shift())\n",
    "ret_df.head()"
   ]
  },
  {
   "cell_type": "code",
   "execution_count": 38,
   "id": "a06ef9d0",
   "metadata": {},
   "outputs": [
    {
     "data": {
      "text/html": [
       "<div>\n",
       "<style scoped>\n",
       "    .dataframe tbody tr th:only-of-type {\n",
       "        vertical-align: middle;\n",
       "    }\n",
       "\n",
       "    .dataframe tbody tr th {\n",
       "        vertical-align: top;\n",
       "    }\n",
       "\n",
       "    .dataframe thead th {\n",
       "        text-align: right;\n",
       "    }\n",
       "</style>\n",
       "<table border=\"1\" class=\"dataframe\">\n",
       "  <thead>\n",
       "    <tr style=\"text-align: right;\">\n",
       "      <th>Symbols</th>\n",
       "      <th>AAPL</th>\n",
       "      <th>TSLA</th>\n",
       "      <th>GLD</th>\n",
       "      <th>WFC</th>\n",
       "      <th>IBM</th>\n",
       "      <th>BTC-USD</th>\n",
       "      <th>^GSPC</th>\n",
       "    </tr>\n",
       "    <tr>\n",
       "      <th>Symbols</th>\n",
       "      <th></th>\n",
       "      <th></th>\n",
       "      <th></th>\n",
       "      <th></th>\n",
       "      <th></th>\n",
       "      <th></th>\n",
       "      <th></th>\n",
       "    </tr>\n",
       "  </thead>\n",
       "  <tbody>\n",
       "    <tr>\n",
       "      <th>AAPL</th>\n",
       "      <td>1.000000</td>\n",
       "      <td>0.515729</td>\n",
       "      <td>0.198509</td>\n",
       "      <td>0.173612</td>\n",
       "      <td>0.316201</td>\n",
       "      <td>0.265576</td>\n",
       "      <td>0.644576</td>\n",
       "    </tr>\n",
       "    <tr>\n",
       "      <th>TSLA</th>\n",
       "      <td>0.515729</td>\n",
       "      <td>1.000000</td>\n",
       "      <td>0.221481</td>\n",
       "      <td>0.236859</td>\n",
       "      <td>0.091504</td>\n",
       "      <td>0.223170</td>\n",
       "      <td>0.461219</td>\n",
       "    </tr>\n",
       "    <tr>\n",
       "      <th>GLD</th>\n",
       "      <td>0.198509</td>\n",
       "      <td>0.221481</td>\n",
       "      <td>1.000000</td>\n",
       "      <td>-0.159952</td>\n",
       "      <td>0.015733</td>\n",
       "      <td>0.089110</td>\n",
       "      <td>0.133034</td>\n",
       "    </tr>\n",
       "    <tr>\n",
       "      <th>WFC</th>\n",
       "      <td>0.173612</td>\n",
       "      <td>0.236859</td>\n",
       "      <td>-0.159952</td>\n",
       "      <td>1.000000</td>\n",
       "      <td>0.431528</td>\n",
       "      <td>0.135028</td>\n",
       "      <td>0.608024</td>\n",
       "    </tr>\n",
       "    <tr>\n",
       "      <th>IBM</th>\n",
       "      <td>0.316201</td>\n",
       "      <td>0.091504</td>\n",
       "      <td>0.015733</td>\n",
       "      <td>0.431528</td>\n",
       "      <td>1.000000</td>\n",
       "      <td>-0.031455</td>\n",
       "      <td>0.663111</td>\n",
       "    </tr>\n",
       "    <tr>\n",
       "      <th>BTC-USD</th>\n",
       "      <td>0.265576</td>\n",
       "      <td>0.223170</td>\n",
       "      <td>0.089110</td>\n",
       "      <td>0.135028</td>\n",
       "      <td>-0.031455</td>\n",
       "      <td>1.000000</td>\n",
       "      <td>0.279979</td>\n",
       "    </tr>\n",
       "    <tr>\n",
       "      <th>^GSPC</th>\n",
       "      <td>0.644576</td>\n",
       "      <td>0.461219</td>\n",
       "      <td>0.133034</td>\n",
       "      <td>0.608024</td>\n",
       "      <td>0.663111</td>\n",
       "      <td>0.279979</td>\n",
       "      <td>1.000000</td>\n",
       "    </tr>\n",
       "  </tbody>\n",
       "</table>\n",
       "</div>"
      ],
      "text/plain": [
       "Symbols      AAPL      TSLA       GLD       WFC       IBM   BTC-USD     ^GSPC\n",
       "Symbols                                                                      \n",
       "AAPL     1.000000  0.515729  0.198509  0.173612  0.316201  0.265576  0.644576\n",
       "TSLA     0.515729  1.000000  0.221481  0.236859  0.091504  0.223170  0.461219\n",
       "GLD      0.198509  0.221481  1.000000 -0.159952  0.015733  0.089110  0.133034\n",
       "WFC      0.173612  0.236859 -0.159952  1.000000  0.431528  0.135028  0.608024\n",
       "IBM      0.316201  0.091504  0.015733  0.431528  1.000000 -0.031455  0.663111\n",
       "BTC-USD  0.265576  0.223170  0.089110  0.135028 -0.031455  1.000000  0.279979\n",
       "^GSPC    0.644576  0.461219  0.133034  0.608024  0.663111  0.279979  1.000000"
      ]
     },
     "execution_count": 38,
     "metadata": {},
     "output_type": "execute_result"
    }
   ],
   "source": [
    "corr_df = ret_df.corr()\n",
    "corr_df"
   ]
  },
  {
   "cell_type": "code",
   "execution_count": 39,
   "id": "c49d50d5",
   "metadata": {},
   "outputs": [
    {
     "data": {
      "text/plain": [
       "<Figure size 432x288 with 0 Axes>"
      ]
     },
     "execution_count": 39,
     "metadata": {},
     "output_type": "execute_result"
    },
    {
     "data": {
      "image/png": "[encoded data removed]",
      "text/plain": [
       "<Figure size 936x576 with 2 Axes>"
      ]
     },
     "metadata": {},
     "output_type": "display_data"
    },
    {
     "data": {
      "text/plain": [
       "<Figure size 432x288 with 0 Axes>"
      ]
     },
     "metadata": {},
     "output_type": "display_data"
    }
   ],
   "source": [
    "plt.figure(figsize=(13, 8))\n",
    "sns.heatmap(corr_df, annot=True, cmap='RdYlGn')\n",
    "plt.figure()"
   ]
  },
  {
   "cell_type": "markdown",
   "id": "cfc436d7",
   "metadata": {},
   "source": [
    "# Value at Risk\n",
    "\n",
    "General Reference: https://www.investopedia.com/articles/04/092904.asp\n",
    "\n",
    "With Excel and Python: https://blog.quantinsti.com/calculating-value-at-risk-in-excel-python/"
   ]
  },
  {
   "cell_type": "markdown",
   "id": "4d729f4e",
   "metadata": {},
   "source": [
    "## Historical method\n",
    "\n",
    "- Import daily data and calculate the daily returns\n",
    "- Sort the returns\n",
    "- Calculate the VaR for 90%, 95%, or 99% confidence levels (quantile function)\n"
   ]
  },
  {
   "cell_type": "code",
   "execution_count": 40,
   "id": "82ecccd6",
   "metadata": {},
   "outputs": [
    {
     "data": {
      "text/html": [
       "<div>\n",
       "<style scoped>\n",
       "    .dataframe tbody tr th:only-of-type {\n",
       "        vertical-align: middle;\n",
       "    }\n",
       "\n",
       "    .dataframe tbody tr th {\n",
       "        vertical-align: top;\n",
       "    }\n",
       "\n",
       "    .dataframe thead th {\n",
       "        text-align: right;\n",
       "    }\n",
       "</style>\n",
       "<table border=\"1\" class=\"dataframe\">\n",
       "  <thead>\n",
       "    <tr style=\"text-align: right;\">\n",
       "      <th>Symbols</th>\n",
       "      <th>TSLA</th>\n",
       "    </tr>\n",
       "    <tr>\n",
       "      <th>Date</th>\n",
       "      <th></th>\n",
       "    </tr>\n",
       "  </thead>\n",
       "  <tbody>\n",
       "    <tr>\n",
       "      <th>2017-01-03</th>\n",
       "      <td>43.397999</td>\n",
       "    </tr>\n",
       "    <tr>\n",
       "      <th>2017-01-04</th>\n",
       "      <td>45.397999</td>\n",
       "    </tr>\n",
       "    <tr>\n",
       "      <th>2017-01-05</th>\n",
       "      <td>45.349998</td>\n",
       "    </tr>\n",
       "    <tr>\n",
       "      <th>2017-01-06</th>\n",
       "      <td>45.801998</td>\n",
       "    </tr>\n",
       "    <tr>\n",
       "      <th>2017-01-09</th>\n",
       "      <td>46.256001</td>\n",
       "    </tr>\n",
       "  </tbody>\n",
       "</table>\n",
       "</div>"
      ],
      "text/plain": [
       "Symbols          TSLA\n",
       "Date                 \n",
       "2017-01-03  43.397999\n",
       "2017-01-04  45.397999\n",
       "2017-01-05  45.349998\n",
       "2017-01-06  45.801998\n",
       "2017-01-09  46.256001"
      ]
     },
     "execution_count": 40,
     "metadata": {},
     "output_type": "execute_result"
    }
   ],
   "source": [
    "# Import daily data\n",
    "tickers = ['TSLA']\n",
    "start = dt.datetime(2017, 1, 1)\n",
    "end = dt.datetime(2022, 1, 1)\n",
    " \n",
    "df = pdr.get_data_yahoo(tickers, start, end, interval=\"d\")\n",
    "price_df = df['Adj Close']\n",
    "price_df.head()"
   ]
  },
  {
   "cell_type": "code",
   "execution_count": 41,
   "id": "78ab9036",
   "metadata": {},
   "outputs": [
    {
     "data": {
      "text/html": [
       "<div>\n",
       "<style scoped>\n",
       "    .dataframe tbody tr th:only-of-type {\n",
       "        vertical-align: middle;\n",
       "    }\n",
       "\n",
       "    .dataframe tbody tr th {\n",
       "        vertical-align: top;\n",
       "    }\n",
       "\n",
       "    .dataframe thead th {\n",
       "        text-align: right;\n",
       "    }\n",
       "</style>\n",
       "<table border=\"1\" class=\"dataframe\">\n",
       "  <thead>\n",
       "    <tr style=\"text-align: right;\">\n",
       "      <th>Symbols</th>\n",
       "      <th>TSLA</th>\n",
       "    </tr>\n",
       "    <tr>\n",
       "      <th>Date</th>\n",
       "      <th></th>\n",
       "    </tr>\n",
       "  </thead>\n",
       "  <tbody>\n",
       "    <tr>\n",
       "      <th>2017-01-04</th>\n",
       "      <td>0.045055</td>\n",
       "    </tr>\n",
       "    <tr>\n",
       "      <th>2017-01-05</th>\n",
       "      <td>-0.001058</td>\n",
       "    </tr>\n",
       "    <tr>\n",
       "      <th>2017-01-06</th>\n",
       "      <td>0.009918</td>\n",
       "    </tr>\n",
       "    <tr>\n",
       "      <th>2017-01-09</th>\n",
       "      <td>0.009863</td>\n",
       "    </tr>\n",
       "    <tr>\n",
       "      <th>2017-01-10</th>\n",
       "      <td>-0.006115</td>\n",
       "    </tr>\n",
       "  </tbody>\n",
       "</table>\n",
       "</div>"
      ],
      "text/plain": [
       "Symbols         TSLA\n",
       "Date                \n",
       "2017-01-04  0.045055\n",
       "2017-01-05 -0.001058\n",
       "2017-01-06  0.009918\n",
       "2017-01-09  0.009863\n",
       "2017-01-10 -0.006115"
      ]
     },
     "execution_count": 41,
     "metadata": {},
     "output_type": "execute_result"
    }
   ],
   "source": [
    "# Calculate daily returns (and dropna to get rid of the first NaN)\n",
    "ret_df = np.log(price_df/price_df.shift())\n",
    "\n",
    "ret_df.dropna(inplace=True)\n",
    "\n",
    "ret_df.head()"
   ]
  },
  {
   "cell_type": "code",
   "execution_count": 42,
   "id": "618b47e4",
   "metadata": {},
   "outputs": [
    {
     "data": {
      "image/png": "[encoded data removed]",
      "text/plain": [
       "<Figure size 432x288 with 1 Axes>"
      ]
     },
     "metadata": {},
     "output_type": "display_data"
    }
   ],
   "source": [
    "plt.hist(ret_df, bins=40)\n",
    "plt.xlabel('ln Returns')\n",
    "plt.ylabel('Frequency')\n",
    "plt.grid(True)\n",
    "plt.show()"
   ]
  },
  {
   "cell_type": "code",
   "execution_count": 43,
   "id": "543b6a8b",
   "metadata": {},
   "outputs": [
    {
     "data": {
      "text/html": [
       "<div>\n",
       "<style scoped>\n",
       "    .dataframe tbody tr th:only-of-type {\n",
       "        vertical-align: middle;\n",
       "    }\n",
       "\n",
       "    .dataframe tbody tr th {\n",
       "        vertical-align: top;\n",
       "    }\n",
       "\n",
       "    .dataframe thead th {\n",
       "        text-align: right;\n",
       "    }\n",
       "</style>\n",
       "<table border=\"1\" class=\"dataframe\">\n",
       "  <thead>\n",
       "    <tr style=\"text-align: right;\">\n",
       "      <th>Symbols</th>\n",
       "      <th>TSLA</th>\n",
       "    </tr>\n",
       "    <tr>\n",
       "      <th>Date</th>\n",
       "      <th></th>\n",
       "    </tr>\n",
       "  </thead>\n",
       "  <tbody>\n",
       "    <tr>\n",
       "      <th>2020-09-08</th>\n",
       "      <td>-0.236518</td>\n",
       "    </tr>\n",
       "    <tr>\n",
       "      <th>2020-03-16</th>\n",
       "      <td>-0.205522</td>\n",
       "    </tr>\n",
       "    <tr>\n",
       "      <th>2020-02-05</th>\n",
       "      <td>-0.188450</td>\n",
       "    </tr>\n",
       "    <tr>\n",
       "      <th>2020-03-18</th>\n",
       "      <td>-0.174763</td>\n",
       "    </tr>\n",
       "    <tr>\n",
       "      <th>2018-09-28</th>\n",
       "      <td>-0.149679</td>\n",
       "    </tr>\n",
       "  </tbody>\n",
       "</table>\n",
       "</div>"
      ],
      "text/plain": [
       "Symbols         TSLA\n",
       "Date                \n",
       "2020-09-08 -0.236518\n",
       "2020-03-16 -0.205522\n",
       "2020-02-05 -0.188450\n",
       "2020-03-18 -0.174763\n",
       "2018-09-28 -0.149679"
      ]
     },
     "execution_count": 43,
     "metadata": {},
     "output_type": "execute_result"
    }
   ],
   "source": [
    "asset = 'TSLA'\n",
    "ret_df.sort_values(asset, inplace=True, ascending=True)\n",
    "ret_df.head()"
   ]
  },
  {
   "cell_type": "code",
   "execution_count": 44,
   "id": "255cabfd",
   "metadata": {},
   "outputs": [
    {
     "data": {
      "text/html": [
       "<div>\n",
       "<style scoped>\n",
       "    .dataframe tbody tr th:only-of-type {\n",
       "        vertical-align: middle;\n",
       "    }\n",
       "\n",
       "    .dataframe tbody tr th {\n",
       "        vertical-align: top;\n",
       "    }\n",
       "\n",
       "    .dataframe thead th {\n",
       "        text-align: right;\n",
       "    }\n",
       "</style>\n",
       "<table border=\"1\" class=\"dataframe\">\n",
       "  <thead>\n",
       "    <tr style=\"text-align: right;\">\n",
       "      <th>Symbols</th>\n",
       "      <th>TSLA</th>\n",
       "    </tr>\n",
       "    <tr>\n",
       "      <th>Date</th>\n",
       "      <th></th>\n",
       "    </tr>\n",
       "  </thead>\n",
       "  <tbody>\n",
       "    <tr>\n",
       "      <th>2018-10-01</th>\n",
       "      <td>0.159966</td>\n",
       "    </tr>\n",
       "    <tr>\n",
       "      <th>2019-10-24</th>\n",
       "      <td>0.162707</td>\n",
       "    </tr>\n",
       "    <tr>\n",
       "      <th>2020-03-19</th>\n",
       "      <td>0.168794</td>\n",
       "    </tr>\n",
       "    <tr>\n",
       "      <th>2021-03-09</th>\n",
       "      <td>0.179327</td>\n",
       "    </tr>\n",
       "    <tr>\n",
       "      <th>2020-02-03</th>\n",
       "      <td>0.181445</td>\n",
       "    </tr>\n",
       "  </tbody>\n",
       "</table>\n",
       "</div>"
      ],
      "text/plain": [
       "Symbols         TSLA\n",
       "Date                \n",
       "2018-10-01  0.159966\n",
       "2019-10-24  0.162707\n",
       "2020-03-19  0.168794\n",
       "2021-03-09  0.179327\n",
       "2020-02-03  0.181445"
      ]
     },
     "execution_count": 44,
     "metadata": {},
     "output_type": "execute_result"
    }
   ],
   "source": [
    "ret_df.tail()"
   ]
  },
  {
   "cell_type": "code",
   "execution_count": 45,
   "id": "b5809790",
   "metadata": {},
   "outputs": [
    {
     "name": "stdout",
     "output_type": "stream",
     "text": [
      "Following are based on TSLA history.\n",
      "  90% confidence level: loss of 3.445%\n",
      "  95% confidence level: loss of 5.017%\n",
      "  99% confidence level: loss of 9.576%\n"
     ]
    }
   ],
   "source": [
    "# Calculating VaR with the quantile function\n",
    "ln_var_90 = ret_df[asset].quantile(0.10)\n",
    "ln_var_95 = ret_df[asset].quantile(0.05)\n",
    "ln_var_99 = ret_df[asset].quantile(0.01)\n",
    "\n",
    "var_90 = np.exp(ln_var_90)\n",
    "var_95 = np.exp(ln_var_95)\n",
    "var_99 = np.exp(ln_var_99)\n",
    "\n",
    "print(f'Following are based on {asset} history.')\n",
    "print(f'  90% confidence level: loss of {(1.0-var_90):.3%}')\n",
    "print(f'  95% confidence level: loss of {(1.0-var_95):.3%}')\n",
    "print(f'  99% confidence level: loss of {(1.0-var_99):.3%}')"
   ]
  },
  {
   "cell_type": "markdown",
   "id": "24bb6b3b",
   "metadata": {},
   "source": [
    "## Variance-covariance method\n",
    "\n",
    "- Import the daily data\n",
    "- Calculate mean and standard deviation\n",
    "- Calculate VaR using .ppf (point percentile function)"
   ]
  },
  {
   "cell_type": "code",
   "execution_count": 46,
   "id": "25727e57",
   "metadata": {},
   "outputs": [
    {
     "data": {
      "image/png": "[encoded data removed]",
      "text/plain": [
       "<Figure size 432x288 with 1 Axes>"
      ]
     },
     "metadata": {},
     "output_type": "display_data"
    }
   ],
   "source": [
    "from scipy.stats import norm\n",
    "\n",
    "mean = np.mean(ret_df[asset])\n",
    "std_dev = np.std(ret_df[asset])\n",
    "ret_df[asset].hist(bins=40, density=True, histtype='stepfilled', alpha=0.5)\n",
    "x = np.linspace(mean - 3 * std_dev, mean + 3 * std_dev, 100)\n",
    "\n",
    "plt.plot(x, norm.pdf(x, mean, std_dev), 'r')\n",
    "plt.show()"
   ]
  },
  {
   "cell_type": "code",
   "execution_count": 47,
   "id": "a130b667",
   "metadata": {},
   "outputs": [
    {
     "name": "stdout",
     "output_type": "stream",
     "text": [
      "Following are based on the normal curve.\n",
      "  90% confidence level: loss of 4.497%\n",
      "  95% confidence level: loss of 5.802%\n",
      "  99% confidence level: loss of 8.203%\n"
     ]
    }
   ],
   "source": [
    "ln_var_90 = norm.ppf(0.10, mean, std_dev)\n",
    "ln_var_95 = norm.ppf(0.05, mean, std_dev)\n",
    "ln_var_99 = norm.ppf(0.01, mean, std_dev)\n",
    "\n",
    "var_90 = np.exp(ln_var_90)\n",
    "var_95 = np.exp(ln_var_95)\n",
    "var_99 = np.exp(ln_var_99)\n",
    "\n",
    "print(f'Following are based on the normal curve.')\n",
    "print(f'  90% confidence level: loss of {(1.0-var_90):.3%}')\n",
    "print(f'  95% confidence level: loss of {(1.0-var_95):.3%}')\n",
    "print(f'  99% confidence level: loss of {(1.0-var_99):.3%}')"
   ]
  },
  {
   "cell_type": "markdown",
   "id": "c918e71c",
   "metadata": {},
   "source": [
    "# Pythonic\n",
    "## first, some features that are no longer Pythonic\n",
    "\n",
    "Guido (BDFL) says:\n",
    "    \n",
    "About 12 years ago, Python acquired lambda, reduce(), filter() and map(), courtesy of (I believe) a Lisp hacker who missed them and submitted working patches. But, despite of the PR value, I think these features should be cut from Python 3000.\n",
    "\n",
    "- https://www.artima.com/weblogs/viewpost.jsp?thread=98196\n",
    "- lambda Reference: https://docs.python.org/3/tutorial/controlflow.html?highlight=lambda"
   ]
  },
  {
   "cell_type": "code",
   "execution_count": 48,
   "id": "68a105ab",
   "metadata": {},
   "outputs": [
    {
     "data": {
      "text/plain": [
       "<filter at 0x2212df225e0>"
      ]
     },
     "execution_count": 48,
     "metadata": {},
     "output_type": "execute_result"
    }
   ],
   "source": [
    "def is_even(x: int) -> bool:\n",
    "    return (x % 2 == 0) # \"x mod 2 equals 0\"\n",
    "\n",
    "nums = list(range(10)) # [0, 1, 2, 3, 4, 5, 6, 7, 8, 9]\n",
    "\n",
    "evens = filter(lambda x: is_even(x), nums)\n",
    "evens"
   ]
  },
  {
   "cell_type": "code",
   "execution_count": 49,
   "id": "97cd59c6",
   "metadata": {},
   "outputs": [
    {
     "data": {
      "text/plain": [
       "[0, 2, 4, 6, 8]"
      ]
     },
     "execution_count": 49,
     "metadata": {},
     "output_type": "execute_result"
    }
   ],
   "source": [
    "list(evens)"
   ]
  },
  {
   "cell_type": "code",
   "execution_count": 50,
   "id": "e4b39f02",
   "metadata": {},
   "outputs": [],
   "source": [
    "## List comprehension is more pythonic than filter + lambda"
   ]
  },
  {
   "cell_type": "code",
   "execution_count": 51,
   "id": "88062ae4",
   "metadata": {},
   "outputs": [
    {
     "data": {
      "text/plain": [
       "[0, 2, 4, 6, 8]"
      ]
     },
     "execution_count": 51,
     "metadata": {},
     "output_type": "execute_result"
    }
   ],
   "source": [
    "[x for x in nums if is_even(x)]"
   ]
  },
  {
   "cell_type": "markdown",
   "id": "ae21d627",
   "metadata": {},
   "source": [
    "## map\n",
    "\n",
    "```python\n",
    "map(built_in_or_user_function, iterable)\n",
    "```\n",
    "\n",
    "Helpful examples: https://www.guru99.com/python-map-function.html\n",
    "\n",
    "### Again, list comprehension may be more comprehensible"
   ]
  },
  {
   "cell_type": "code",
   "execution_count": 52,
   "id": "ec5bddf4",
   "metadata": {},
   "outputs": [
    {
     "data": {
      "text/plain": [
       "[0, 1, 4, 9, 16, 25, 36, 49, 64, 81]"
      ]
     },
     "execution_count": 52,
     "metadata": {},
     "output_type": "execute_result"
    }
   ],
   "source": [
    "def square(x: int) -> int:\n",
    "    return x * x\n",
    "\n",
    "squares = map(square, nums)\n",
    "list(squares)"
   ]
  },
  {
   "cell_type": "code",
   "execution_count": 53,
   "id": "c8846767",
   "metadata": {},
   "outputs": [
    {
     "data": {
      "text/plain": [
       "[0, 1, 4, 9, 16, 25, 36, 49, 64, 81]"
      ]
     },
     "execution_count": 53,
     "metadata": {},
     "output_type": "execute_result"
    }
   ],
   "source": [
    "[square(x) for x in nums]"
   ]
  },
  {
   "cell_type": "markdown",
   "id": "dbd9e641",
   "metadata": {},
   "source": [
    "## reduce has been migrated\n",
    "\n",
    "Look up functools.reduce() if you want to."
   ]
  },
  {
   "cell_type": "markdown",
   "id": "fe9573f8",
   "metadata": {},
   "source": [
    "## More on dictionaries\n",
    "\n",
    "Helpful examples: https://realpython.com/python-dicts/\n",
    "\n",
    "Recall this code from a few minutes ago:"
   ]
  },
  {
   "cell_type": "code",
   "execution_count": 54,
   "id": "cc68c426",
   "metadata": {},
   "outputs": [
    {
     "name": "stdout",
     "output_type": "stream",
     "text": [
      "Following are based on the normal curve.\n",
      "  90% confidence level: loss of 4.497%\n",
      "  95% confidence level: loss of 5.802%\n",
      "  99% confidence level: loss of 8.203%\n"
     ]
    }
   ],
   "source": [
    "ln_var_90 = norm.ppf(0.10, mean, std_dev)\n",
    "ln_var_95 = norm.ppf(0.05, mean, std_dev)\n",
    "ln_var_99 = norm.ppf(0.01, mean, std_dev)\n",
    "\n",
    "var_90 = np.exp(ln_var_90)\n",
    "var_95 = np.exp(ln_var_95)\n",
    "var_99 = np.exp(ln_var_99)\n",
    "\n",
    "print(f'Following are based on the normal curve.')\n",
    "print(f'  90% confidence level: loss of {(1.0-var_90):.3%}')\n",
    "print(f'  95% confidence level: loss of {(1.0-var_95):.3%}')\n",
    "print(f'  99% confidence level: loss of {(1.0-var_99):.3%}')"
   ]
  },
  {
   "cell_type": "markdown",
   "id": "59eb942b",
   "metadata": {},
   "source": [
    "### Let's convert it to a dictionary\n",
    "\n",
    "key is 90, 95, or 99. value is some transformation.\n",
    "\n",
    "Let's write a function first."
   ]
  },
  {
   "cell_type": "code",
   "execution_count": 55,
   "id": "2ede2848",
   "metadata": {},
   "outputs": [
    {
     "name": "stdout",
     "output_type": "stream",
     "text": [
      "  95% confidence level: loss of 5.802%\n"
     ]
    }
   ],
   "source": [
    "def VaR(conf_level: int, mean: float, std_dev: float) -> float:\n",
    "    tail = 1.0 - (conf_level / 100.0)\n",
    "    ln_VaR = norm.ppf(tail, mean, std_dev)\n",
    "    return 1.0 - np.exp(ln_VaR)\n",
    "print(f'  95% confidence level: loss of {(VaR(95, mean, std_dev)):.3%}')"
   ]
  },
  {
   "cell_type": "markdown",
   "id": "e1b38078",
   "metadata": {},
   "source": [
    "### Dictionary comprehension"
   ]
  },
  {
   "cell_type": "code",
   "execution_count": 56,
   "id": "61c40dd0",
   "metadata": {},
   "outputs": [
    {
     "data": {
      "text/plain": [
       "{90: 0.04496831442311067, 95: 0.058022232781191896, 99: 0.08202986029503578}"
      ]
     },
     "execution_count": 56,
     "metadata": {},
     "output_type": "execute_result"
    }
   ],
   "source": [
    "var_dict = {conf_level : VaR(conf_level, mean, std_dev) for conf_level in [90, 95, 99]}\n",
    "var_dict"
   ]
  },
  {
   "cell_type": "markdown",
   "id": "05a9f0c0",
   "metadata": {},
   "source": [
    "### Walking through the key, value pairs\n",
    "\n",
    "items() is your friend"
   ]
  },
  {
   "cell_type": "code",
   "execution_count": 57,
   "id": "59790c78",
   "metadata": {},
   "outputs": [
    {
     "name": "stdout",
     "output_type": "stream",
     "text": [
      "Following are based on the normal curve.\n",
      "  90% confidence level: loss of 4.497%\n",
      "  95% confidence level: loss of 5.802%\n",
      "  99% confidence level: loss of 8.203%\n"
     ]
    }
   ],
   "source": [
    "print(f'Following are based on the normal curve.')\n",
    "for conf_level, var in var_dict.items():\n",
    "    print(f'  {conf_level}% confidence level: loss of {var:.3%}'  )"
   ]
  },
  {
   "cell_type": "markdown",
   "id": "67a050ea",
   "metadata": {},
   "source": [
    "### Just the keys? Just the values?"
   ]
  },
  {
   "cell_type": "code",
   "execution_count": 58,
   "id": "60cbe9fb",
   "metadata": {},
   "outputs": [
    {
     "name": "stdout",
     "output_type": "stream",
     "text": [
      "Keys are: dict_keys([90, 95, 99])\n",
      "Vals are: dict_values([0.04496831442311067, 0.058022232781191896, 0.08202986029503578])\n"
     ]
    }
   ],
   "source": [
    "print(f'Keys are: {var_dict.keys()}')\n",
    "print(f'Vals are: {var_dict.values()}')"
   ]
  },
  {
   "cell_type": "markdown",
   "id": "a3efac3f",
   "metadata": {},
   "source": [
    "### Updating a value\n"
   ]
  },
  {
   "cell_type": "code",
   "execution_count": 59,
   "id": "3926539b",
   "metadata": {},
   "outputs": [],
   "source": [
    "var_dict[90] = 42"
   ]
  },
  {
   "cell_type": "markdown",
   "id": "6db45332",
   "metadata": {},
   "source": [
    "### Accessing the value at a key"
   ]
  },
  {
   "cell_type": "code",
   "execution_count": 60,
   "id": "f6c73dd4",
   "metadata": {},
   "outputs": [
    {
     "data": {
      "text/plain": [
       "42"
      ]
     },
     "execution_count": 60,
     "metadata": {},
     "output_type": "execute_result"
    }
   ],
   "source": [
    "var_dict[90]"
   ]
  },
  {
   "cell_type": "markdown",
   "id": "7dc8e4d2",
   "metadata": {},
   "source": [
    "### Deleting a key"
   ]
  },
  {
   "cell_type": "code",
   "execution_count": 61,
   "id": "ef01c0cb",
   "metadata": {},
   "outputs": [
    {
     "name": "stdout",
     "output_type": "stream",
     "text": [
      "  95% confidence level: loss of 5.802%\n",
      "  99% confidence level: loss of 8.203%\n"
     ]
    }
   ],
   "source": [
    "del var_dict[90]\n",
    "for conf_level, var in var_dict.items():\n",
    "    print(f'  {conf_level}% confidence level: loss of {var:.3%}')"
   ]
  },
  {
   "cell_type": "markdown",
   "id": "304e5743",
   "metadata": {},
   "source": [
    "### Addng a new key"
   ]
  },
  {
   "cell_type": "code",
   "execution_count": 62,
   "id": "adb364ee",
   "metadata": {},
   "outputs": [
    {
     "name": "stdout",
     "output_type": "stream",
     "text": [
      "  95% confidence level: loss of 5.802%\n",
      "  99% confidence level: loss of 8.203%\n",
      "  50% confidence level: loss of 50.000%\n"
     ]
    }
   ],
   "source": [
    "var_dict[50] = 0.5\n",
    "for conf_level, var in var_dict.items():\n",
    "    print(f'  {conf_level}% confidence level: loss of {var:.3%}')"
   ]
  },
  {
   "cell_type": "code",
   "execution_count": 63,
   "id": "ce18442f",
   "metadata": {},
   "outputs": [],
   "source": [
    "### pop both retrieves the value at the key and removes that key, value pair"
   ]
  },
  {
   "cell_type": "code",
   "execution_count": 64,
   "id": "893f1fba",
   "metadata": {},
   "outputs": [
    {
     "name": "stdout",
     "output_type": "stream",
     "text": [
      "Just removed 0.5\n",
      "  95% confidence level: loss of 5.802%\n",
      "  99% confidence level: loss of 8.203%\n"
     ]
    }
   ],
   "source": [
    "old_50 = var_dict.pop(50)\n",
    "print(f'Just removed {old_50}')\n",
    "for conf_level, var in var_dict.items():\n",
    "    print(f'  {conf_level}% confidence level: loss of {var:.3%}')"
   ]
  },
  {
   "cell_type": "markdown",
   "id": "f9dd0a05",
   "metadata": {},
   "source": [
    "### Can use update() on dictionaries"
   ]
  },
  {
   "cell_type": "code",
   "execution_count": 65,
   "id": "756243e9",
   "metadata": {},
   "outputs": [
    {
     "data": {
      "text/plain": [
       "{90: 0.04496831442311067, 98: 0.07250107590522992}"
      ]
     },
     "execution_count": 65,
     "metadata": {},
     "output_type": "execute_result"
    }
   ],
   "source": [
    "new_dict = {conf_level : VaR(conf_level, mean, std_dev) for conf_level in [90, 98]}\n",
    "new_dict"
   ]
  },
  {
   "cell_type": "code",
   "execution_count": 66,
   "id": "342ebf53",
   "metadata": {},
   "outputs": [
    {
     "name": "stdout",
     "output_type": "stream",
     "text": [
      "  95% confidence level: loss of 5.802%\n",
      "  99% confidence level: loss of 8.203%\n",
      "  90% confidence level: loss of 4.497%\n",
      "  98% confidence level: loss of 7.250%\n"
     ]
    }
   ],
   "source": [
    "var_dict.update(new_dict) # replaces existing key 90 and adds new key 98\n",
    "for conf_level, var in var_dict.items():\n",
    "    print(f'  {conf_level}% confidence level: loss of {var:.3%}')"
   ]
  },
  {
   "cell_type": "markdown",
   "id": "5a97850d",
   "metadata": {},
   "source": [
    "### Note that Python maintains insertion order\n",
    "\n",
    "### How to sort by keys\n",
    "\n",
    "(Side note: Look at the age of the Stackoverflow answers! Make sure the answers work for Python 3.)\n",
    "\n",
    "Helpful: https://stackoverflow.com/questions/11089655/sorting-dictionary-python-3"
   ]
  },
  {
   "cell_type": "code",
   "execution_count": 67,
   "id": "09dcb5d3",
   "metadata": {},
   "outputs": [
    {
     "name": "stdout",
     "output_type": "stream",
     "text": [
      "  90% confidence level: loss of 4.497%\n",
      "  95% confidence level: loss of 5.802%\n",
      "  98% confidence level: loss of 7.250%\n",
      "  99% confidence level: loss of 8.203%\n"
     ]
    }
   ],
   "source": [
    "sorted_vars = {k: var_dict[k] for k in sorted(var_dict)}\n",
    "for conf_level, var in sorted_vars.items():\n",
    "    print(f'  {conf_level}% confidence level: loss of {var:.3%}')"
   ]
  },
  {
   "cell_type": "markdown",
   "id": "f161d7af",
   "metadata": {},
   "source": [
    "### KeyError when I ask for a missing key"
   ]
  },
  {
   "cell_type": "code",
   "execution_count": 68,
   "id": "7c44fe59",
   "metadata": {},
   "outputs": [
    {
     "ename": "KeyError",
     "evalue": "1",
     "output_type": "error",
     "traceback": [
      "\u001b[1;31m---------------------------------------------------------------------------\u001b[0m",
      "\u001b[1;31mKeyError\u001b[0m                                  Traceback (most recent call last)",
      "\u001b[1;32m~\\AppData\\Local\\Temp/ipykernel_36936/2512828858.py\u001b[0m in \u001b[0;36m<module>\u001b[1;34m\u001b[0m\n\u001b[1;32m----> 1\u001b[1;33m \u001b[0mvar_dict\u001b[0m\u001b[1;33m.\u001b[0m\u001b[0mpop\u001b[0m\u001b[1;33m(\u001b[0m\u001b[1;36m1\u001b[0m\u001b[1;33m)\u001b[0m\u001b[1;33m\u001b[0m\u001b[1;33m\u001b[0m\u001b[0m\n\u001b[0m",
      "\u001b[1;31mKeyError\u001b[0m: 1"
     ]
    }
   ],
   "source": [
    "var_dict.pop(1)"
   ]
  },
  {
   "cell_type": "markdown",
   "id": "baabf372",
   "metadata": {},
   "source": [
    "### Can surround with try / except to catch the KeyError"
   ]
  },
  {
   "cell_type": "code",
   "execution_count": 69,
   "id": "73b7bc06",
   "metadata": {},
   "outputs": [
    {
     "name": "stdout",
     "output_type": "stream",
     "text": [
      "At 95% confidence: Loss of 5.802%\n",
      "(Sorry, no 96% confidence level in the dictionary)\n",
      "(Sorry, no 97% confidence level in the dictionary)\n",
      "At 98% confidence: Loss of 7.250%\n",
      "At 99% confidence: Loss of 8.203%\n"
     ]
    }
   ],
   "source": [
    "looking_for = [95, 96, 97, 98, 99]\n",
    "for conf_level in looking_for:\n",
    "    try:\n",
    "        print(f'At {conf_level}% confidence: Loss of {var_dict[conf_level]:.3%}')\n",
    "    except KeyError:\n",
    "        print(f'(Sorry, no {conf_level}% confidence level in the dictionary)')\n",
    "        "
   ]
  },
  {
   "cell_type": "markdown",
   "id": "ac10a4d8",
   "metadata": {},
   "source": [
    "## Word counter with regular dictionary tools\n",
    "\n",
    "Basic idea: Add 1 to the existing dictionary entry. If there's a KeyError, then this is the first word.\n",
    "\n",
    "Text extracted from \"Green Eggs and Ham\" (by Dr. Seuss)"
   ]
  },
  {
   "cell_type": "code",
   "execution_count": 70,
   "id": "7d1f0517",
   "metadata": {},
   "outputs": [],
   "source": [
    "green_eggs = [\n",
    "    'do', 'you', 'like', 'green', 'eggs', 'and', 'ham',\n",
    "    'i', 'do', 'not', 'like', 'them', 'sam-i-am',\n",
    "    'i', 'do', 'not', 'like', 'green', 'eggs', 'and', 'ham',\n",
    "    'would', 'you', 'like', 'them', 'here', 'or', 'there',\n",
    "    'i', 'would', 'not', 'like', 'them', 'here', 'or', 'there',\n",
    "    'i', 'would', 'not', 'like', 'them', 'anywhere',\n",
    "    'i', 'do', 'not', 'like', 'green', 'eggs', 'and', 'ham',\n",
    "    'i', 'do', 'not', 'like', 'them', 'sam-i-am']"
   ]
  },
  {
   "cell_type": "code",
   "execution_count": 71,
   "id": "c14b7b84",
   "metadata": {},
   "outputs": [
    {
     "name": "stdout",
     "output_type": "stream",
     "text": [
      "{'do': 5, 'you': 2, 'like': 8, 'green': 3, 'eggs': 3, 'and': 3, 'ham': 3, 'i': 6, 'not': 6, 'them': 5, 'sam-i-am': 2, 'would': 3, 'here': 2, 'or': 2, 'there': 2, 'anywhere': 1}\n"
     ]
    }
   ],
   "source": [
    "d = {}\n",
    "for w in green_eggs:\n",
    "    try:\n",
    "        d[w] += 1\n",
    "    except KeyError:\n",
    "        d[w] = 1\n",
    "print (d)"
   ]
  },
  {
   "cell_type": "markdown",
   "id": "939fb230",
   "metadata": {},
   "source": [
    "### Printing the dictionary sorted by value"
   ]
  },
  {
   "cell_type": "code",
   "execution_count": 75,
   "id": "bb00b072",
   "metadata": {},
   "outputs": [
    {
     "name": "stdout",
     "output_type": "stream",
     "text": [
      "  like       -  8\n",
      "  i          -  6\n",
      "  not        -  6\n",
      "  do         -  5\n",
      "  them       -  5\n",
      "  green      -  3\n",
      "  eggs       -  3\n",
      "  and        -  3\n",
      "  ham        -  3\n",
      "  would      -  3\n",
      "  you        -  2\n",
      "  sam-i-am   -  2\n",
      "  here       -  2\n",
      "  or         -  2\n",
      "  there      -  2\n",
      "  anywhere   -  1\n"
     ]
    }
   ],
   "source": [
    "for w in sorted(d, key=d.get, reverse=True):\n",
    "    print(f'  {w:10s} - {d[w]:2d}')"
   ]
  },
  {
   "cell_type": "markdown",
   "id": "420fb95e",
   "metadata": {},
   "source": [
    "## Word counter with defaultdict\n",
    "\n",
    "Basic idea: use a subclass of dict with the behavior that we create a dictionary entry with an int value (instead of throwing a KeyError)\n",
    "\n",
    "Remember: the subclass inherits behaviors and variables from the parent class."
   ]
  },
  {
   "cell_type": "code",
   "execution_count": 73,
   "id": "4f49f76f",
   "metadata": {},
   "outputs": [
    {
     "name": "stdout",
     "output_type": "stream",
     "text": [
      "defaultdict(<class 'int'>, {'do': 5, 'you': 2, 'like': 8, 'green': 3, 'eggs': 3, 'and': 3, 'ham': 3, 'i': 6, 'not': 6, 'them': 5, 'sam-i-am': 2, 'would': 3, 'here': 2, 'or': 2, 'there': 2, 'anywhere': 1})\n"
     ]
    }
   ],
   "source": [
    "from collections import defaultdict\n",
    "d2 = defaultdict(int)\n",
    "for w in green_eggs:\n",
    "    d2[w] += 1\n",
    "print(d2)"
   ]
  },
  {
   "cell_type": "code",
   "execution_count": 76,
   "id": "0c928db8",
   "metadata": {},
   "outputs": [
    {
     "name": "stdout",
     "output_type": "stream",
     "text": [
      "  like       -  8\n",
      "  i          -  6\n",
      "  not        -  6\n",
      "  do         -  5\n",
      "  them       -  5\n",
      "  green      -  3\n",
      "  eggs       -  3\n",
      "  and        -  3\n",
      "  ham        -  3\n",
      "  would      -  3\n",
      "  you        -  2\n",
      "  sam-i-am   -  2\n",
      "  here       -  2\n",
      "  or         -  2\n",
      "  there      -  2\n",
      "  anywhere   -  1\n"
     ]
    }
   ],
   "source": [
    "for w in sorted(d, key=d2.get, reverse=True):\n",
    "    print(f'  {w:10s} - {d2[w]:2d}')"
   ]
  }
 ],
 "metadata": {
  "kernelspec": {
   "display_name": "Python 3 (ipykernel)",
   "language": "python",
   "name": "python3"
  },
  "language_info": {
   "codemirror_mode": {
    "name": "ipython",
    "version": 3
   },
   "file_extension": ".py",
   "mimetype": "text/x-python",
   "name": "python",
   "nbconvert_exporter": "python",
   "pygments_lexer": "ipython3",
   "version": "3.9.7"
  }
 },
 "nbformat": 4,
 "nbformat_minor": 5
}
