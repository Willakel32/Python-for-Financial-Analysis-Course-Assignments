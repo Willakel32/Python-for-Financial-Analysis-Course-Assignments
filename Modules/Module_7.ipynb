{
 "cells": [
  {
   "cell_type": "markdown",
   "id": "2383419a",
   "metadata": {},
   "source": [
    "# Module 7"
   ]
  },
  {
   "cell_type": "code",
   "execution_count": 28,
   "id": "ef752d96",
   "metadata": {},
   "outputs": [
    {
     "name": "stdout",
     "output_type": "stream",
     "text": [
      "Read in 1828 records from BTC-USD.csv.\n"
     ]
    },
    {
     "data": {
      "text/html": [
       "<div>\n",
       "<style scoped>\n",
       "    .dataframe tbody tr th:only-of-type {\n",
       "        vertical-align: middle;\n",
       "    }\n",
       "\n",
       "    .dataframe tbody tr th {\n",
       "        vertical-align: top;\n",
       "    }\n",
       "\n",
       "    .dataframe thead th {\n",
       "        text-align: right;\n",
       "    }\n",
       "</style>\n",
       "<table border=\"1\" class=\"dataframe\">\n",
       "  <thead>\n",
       "    <tr style=\"text-align: right;\">\n",
       "      <th></th>\n",
       "      <th>Date</th>\n",
       "      <th>Open</th>\n",
       "      <th>High</th>\n",
       "      <th>Low</th>\n",
       "      <th>Close</th>\n",
       "      <th>Adj Close</th>\n",
       "      <th>Volume</th>\n",
       "    </tr>\n",
       "  </thead>\n",
       "  <tbody>\n",
       "    <tr>\n",
       "      <th>1823</th>\n",
       "      <td>1/8/2022</td>\n",
       "      <td>41561.464840</td>\n",
       "      <td>42228.941410</td>\n",
       "      <td>40672.277340</td>\n",
       "      <td>41733.941410</td>\n",
       "      <td>41733.941410</td>\n",
       "      <td>2.806636e+10</td>\n",
       "    </tr>\n",
       "    <tr>\n",
       "      <th>1824</th>\n",
       "      <td>1/9/2022</td>\n",
       "      <td>41734.726560</td>\n",
       "      <td>42663.949220</td>\n",
       "      <td>41338.160160</td>\n",
       "      <td>41911.601560</td>\n",
       "      <td>41911.601560</td>\n",
       "      <td>2.129438e+10</td>\n",
       "    </tr>\n",
       "    <tr>\n",
       "      <th>1825</th>\n",
       "      <td>1/10/2022</td>\n",
       "      <td>41910.230470</td>\n",
       "      <td>42199.484380</td>\n",
       "      <td>39796.570310</td>\n",
       "      <td>41821.261720</td>\n",
       "      <td>41821.261720</td>\n",
       "      <td>3.210423e+10</td>\n",
       "    </tr>\n",
       "    <tr>\n",
       "      <th>1826</th>\n",
       "      <td>1/11/2022</td>\n",
       "      <td>41819.507813</td>\n",
       "      <td>43001.156250</td>\n",
       "      <td>41407.753906</td>\n",
       "      <td>42735.855469</td>\n",
       "      <td>42735.855469</td>\n",
       "      <td>2.632765e+10</td>\n",
       "    </tr>\n",
       "    <tr>\n",
       "      <th>1827</th>\n",
       "      <td>1/12/2022</td>\n",
       "      <td>42742.179688</td>\n",
       "      <td>44135.367188</td>\n",
       "      <td>42528.988281</td>\n",
       "      <td>43949.101563</td>\n",
       "      <td>43949.101563</td>\n",
       "      <td>3.349994e+10</td>\n",
       "    </tr>\n",
       "  </tbody>\n",
       "</table>\n",
       "</div>"
      ],
      "text/plain": [
       "           Date          Open          High           Low         Close  \\\n",
       "1823   1/8/2022  41561.464840  42228.941410  40672.277340  41733.941410   \n",
       "1824   1/9/2022  41734.726560  42663.949220  41338.160160  41911.601560   \n",
       "1825  1/10/2022  41910.230470  42199.484380  39796.570310  41821.261720   \n",
       "1826  1/11/2022  41819.507813  43001.156250  41407.753906  42735.855469   \n",
       "1827  1/12/2022  42742.179688  44135.367188  42528.988281  43949.101563   \n",
       "\n",
       "         Adj Close        Volume  \n",
       "1823  41733.941410  2.806636e+10  \n",
       "1824  41911.601560  2.129438e+10  \n",
       "1825  41821.261720  3.210423e+10  \n",
       "1826  42735.855469  2.632765e+10  \n",
       "1827  43949.101563  3.349994e+10  "
      ]
     },
     "execution_count": 28,
     "metadata": {},
     "output_type": "execute_result"
    }
   ],
   "source": [
    "import pandas as pd\n",
    "import numpy as np\n",
    "filename = 'BTC-USD.csv'\n",
    "btc_df = pd.read_csv(filename, header=0)\n",
    "print(f'Read in {len(btc_df)} records from {filename}.')\n",
    "btc_df.tail()"
   ]
  },
  {
   "cell_type": "markdown",
   "id": "9a2c4a05",
   "metadata": {},
   "source": [
    "## Lag function shifts down (or up) by a given number of rows\n",
    "\n",
    "Reference: https://pandas.pydata.org/pandas-docs/stable/reference/api/pandas.DataFrame.shift.html"
   ]
  },
  {
   "cell_type": "code",
   "execution_count": 29,
   "id": "b1a42a3c",
   "metadata": {},
   "outputs": [
    {
     "data": {
      "text/html": [
       "<div>\n",
       "<style scoped>\n",
       "    .dataframe tbody tr th:only-of-type {\n",
       "        vertical-align: middle;\n",
       "    }\n",
       "\n",
       "    .dataframe tbody tr th {\n",
       "        vertical-align: top;\n",
       "    }\n",
       "\n",
       "    .dataframe thead th {\n",
       "        text-align: right;\n",
       "    }\n",
       "</style>\n",
       "<table border=\"1\" class=\"dataframe\">\n",
       "  <thead>\n",
       "    <tr style=\"text-align: right;\">\n",
       "      <th></th>\n",
       "      <th>Date</th>\n",
       "      <th>Close</th>\n",
       "      <th>Volume</th>\n",
       "      <th>Close_lag1</th>\n",
       "    </tr>\n",
       "  </thead>\n",
       "  <tbody>\n",
       "    <tr>\n",
       "      <th>0</th>\n",
       "      <td>1/11/2017</td>\n",
       "      <td>777.757019</td>\n",
       "      <td>310928992.0</td>\n",
       "      <td>NaN</td>\n",
       "    </tr>\n",
       "    <tr>\n",
       "      <th>1</th>\n",
       "      <td>1/12/2017</td>\n",
       "      <td>804.833984</td>\n",
       "      <td>222326000.0</td>\n",
       "      <td>777.757019</td>\n",
       "    </tr>\n",
       "    <tr>\n",
       "      <th>2</th>\n",
       "      <td>1/13/2017</td>\n",
       "      <td>823.984009</td>\n",
       "      <td>168968000.0</td>\n",
       "      <td>804.833984</td>\n",
       "    </tr>\n",
       "    <tr>\n",
       "      <th>3</th>\n",
       "      <td>1/14/2017</td>\n",
       "      <td>818.411987</td>\n",
       "      <td>93063296.0</td>\n",
       "      <td>823.984009</td>\n",
       "    </tr>\n",
       "    <tr>\n",
       "      <th>4</th>\n",
       "      <td>1/15/2017</td>\n",
       "      <td>821.797974</td>\n",
       "      <td>71013600.0</td>\n",
       "      <td>818.411987</td>\n",
       "    </tr>\n",
       "  </tbody>\n",
       "</table>\n",
       "</div>"
      ],
      "text/plain": [
       "        Date       Close       Volume  Close_lag1\n",
       "0  1/11/2017  777.757019  310928992.0         NaN\n",
       "1  1/12/2017  804.833984  222326000.0  777.757019\n",
       "2  1/13/2017  823.984009  168968000.0  804.833984\n",
       "3  1/14/2017  818.411987   93063296.0  823.984009\n",
       "4  1/15/2017  821.797974   71013600.0  818.411987"
      ]
     },
     "execution_count": 29,
     "metadata": {},
     "output_type": "execute_result"
    }
   ],
   "source": [
    "btc_df.drop(columns=['Open', 'High', 'Low', 'Adj Close'], inplace=True)\n",
    "btc_df['Close_lag1'] = btc_df.Close.shift(periods=1)\n",
    "btc_df.head()"
   ]
  },
  {
   "cell_type": "code",
   "execution_count": 31,
   "id": "5ceab72d",
   "metadata": {},
   "outputs": [
    {
     "data": {
      "text/plain": [
       "Date           object\n",
       "Close         float64\n",
       "Volume        float64\n",
       "Close_lag1    float64\n",
       "dtype: object"
      ]
     },
     "execution_count": 31,
     "metadata": {},
     "output_type": "execute_result"
    }
   ],
   "source": [
    "btc_df.dtypes\n",
    "#btc_df.to_numeric()"
   ]
  },
  {
   "cell_type": "code",
   "execution_count": 33,
   "id": "60681329",
   "metadata": {},
   "outputs": [
    {
     "data": {
      "text/html": [
       "<div>\n",
       "<style scoped>\n",
       "    .dataframe tbody tr th:only-of-type {\n",
       "        vertical-align: middle;\n",
       "    }\n",
       "\n",
       "    .dataframe tbody tr th {\n",
       "        vertical-align: top;\n",
       "    }\n",
       "\n",
       "    .dataframe thead th {\n",
       "        text-align: right;\n",
       "    }\n",
       "</style>\n",
       "<table border=\"1\" class=\"dataframe\">\n",
       "  <thead>\n",
       "    <tr style=\"text-align: right;\">\n",
       "      <th></th>\n",
       "      <th>Date</th>\n",
       "      <th>Close</th>\n",
       "      <th>Volume</th>\n",
       "      <th>Close_lag1</th>\n",
       "    </tr>\n",
       "  </thead>\n",
       "  <tbody>\n",
       "    <tr>\n",
       "      <th>0</th>\n",
       "      <td>2017-01-11</td>\n",
       "      <td>777.757019</td>\n",
       "      <td>310928992.0</td>\n",
       "      <td>NaN</td>\n",
       "    </tr>\n",
       "    <tr>\n",
       "      <th>1</th>\n",
       "      <td>2017-01-12</td>\n",
       "      <td>804.833984</td>\n",
       "      <td>222326000.0</td>\n",
       "      <td>777.757019</td>\n",
       "    </tr>\n",
       "    <tr>\n",
       "      <th>2</th>\n",
       "      <td>2017-01-13</td>\n",
       "      <td>823.984009</td>\n",
       "      <td>168968000.0</td>\n",
       "      <td>804.833984</td>\n",
       "    </tr>\n",
       "    <tr>\n",
       "      <th>3</th>\n",
       "      <td>2017-01-14</td>\n",
       "      <td>818.411987</td>\n",
       "      <td>93063296.0</td>\n",
       "      <td>823.984009</td>\n",
       "    </tr>\n",
       "    <tr>\n",
       "      <th>4</th>\n",
       "      <td>2017-01-15</td>\n",
       "      <td>821.797974</td>\n",
       "      <td>71013600.0</td>\n",
       "      <td>818.411987</td>\n",
       "    </tr>\n",
       "  </tbody>\n",
       "</table>\n",
       "</div>"
      ],
      "text/plain": [
       "        Date       Close       Volume  Close_lag1\n",
       "0 2017-01-11  777.757019  310928992.0         NaN\n",
       "1 2017-01-12  804.833984  222326000.0  777.757019\n",
       "2 2017-01-13  823.984009  168968000.0  804.833984\n",
       "3 2017-01-14  818.411987   93063296.0  823.984009\n",
       "4 2017-01-15  821.797974   71013600.0  818.411987"
      ]
     },
     "execution_count": 33,
     "metadata": {},
     "output_type": "execute_result"
    }
   ],
   "source": [
    "btc_df['Date'] = pd.to_datetime(btc_df['Date'])\n",
    "btc_df.dtypes\n",
    "btc_df.head()"
   ]
  },
  {
   "cell_type": "markdown",
   "id": "40e8940b",
   "metadata": {},
   "source": [
    "# The lag makes calculating return easy\n",
    "\n",
    "Looks like an equation.\n",
    "\n",
    "Don't have to go row by row."
   ]
  },
  {
   "cell_type": "code",
   "execution_count": 34,
   "id": "1a8e21e9",
   "metadata": {},
   "outputs": [],
   "source": [
    "btc_df['ret_daily'] = btc_df.Close / btc_df.Close_lag1"
   ]
  },
  {
   "cell_type": "markdown",
   "id": "76bb9841",
   "metadata": {},
   "source": [
    "## Percentages\n",
    "\n",
    "If $r$ is the rate of return, the percentage is expressed\n",
    "\n",
    "${(1 - r)} * 100$"
   ]
  },
  {
   "cell_type": "code",
   "execution_count": 35,
   "id": "7bef34b1",
   "metadata": {},
   "outputs": [
    {
     "data": {
      "text/html": [
       "<div>\n",
       "<style scoped>\n",
       "    .dataframe tbody tr th:only-of-type {\n",
       "        vertical-align: middle;\n",
       "    }\n",
       "\n",
       "    .dataframe tbody tr th {\n",
       "        vertical-align: top;\n",
       "    }\n",
       "\n",
       "    .dataframe thead th {\n",
       "        text-align: right;\n",
       "    }\n",
       "</style>\n",
       "<table border=\"1\" class=\"dataframe\">\n",
       "  <thead>\n",
       "    <tr style=\"text-align: right;\">\n",
       "      <th></th>\n",
       "      <th>Date</th>\n",
       "      <th>Close</th>\n",
       "      <th>Volume</th>\n",
       "      <th>Close_lag1</th>\n",
       "      <th>ret_daily</th>\n",
       "      <th>ret_pct</th>\n",
       "    </tr>\n",
       "  </thead>\n",
       "  <tbody>\n",
       "    <tr>\n",
       "      <th>1823</th>\n",
       "      <td>2022-01-08</td>\n",
       "      <td>41733.941410</td>\n",
       "      <td>2.806636e+10</td>\n",
       "      <td>41557.902340</td>\n",
       "      <td>1.004236</td>\n",
       "      <td>0.423600</td>\n",
       "    </tr>\n",
       "    <tr>\n",
       "      <th>1824</th>\n",
       "      <td>2022-01-09</td>\n",
       "      <td>41911.601560</td>\n",
       "      <td>2.129438e+10</td>\n",
       "      <td>41733.941410</td>\n",
       "      <td>1.004257</td>\n",
       "      <td>0.425697</td>\n",
       "    </tr>\n",
       "    <tr>\n",
       "      <th>1825</th>\n",
       "      <td>2022-01-10</td>\n",
       "      <td>41821.261720</td>\n",
       "      <td>3.210423e+10</td>\n",
       "      <td>41911.601560</td>\n",
       "      <td>0.997845</td>\n",
       "      <td>-0.215549</td>\n",
       "    </tr>\n",
       "    <tr>\n",
       "      <th>1826</th>\n",
       "      <td>2022-01-11</td>\n",
       "      <td>42735.855469</td>\n",
       "      <td>2.632765e+10</td>\n",
       "      <td>41821.261720</td>\n",
       "      <td>1.021869</td>\n",
       "      <td>2.186911</td>\n",
       "    </tr>\n",
       "    <tr>\n",
       "      <th>1827</th>\n",
       "      <td>2022-01-12</td>\n",
       "      <td>43949.101563</td>\n",
       "      <td>3.349994e+10</td>\n",
       "      <td>42735.855469</td>\n",
       "      <td>1.028389</td>\n",
       "      <td>2.838942</td>\n",
       "    </tr>\n",
       "  </tbody>\n",
       "</table>\n",
       "</div>"
      ],
      "text/plain": [
       "           Date         Close        Volume    Close_lag1  ret_daily   ret_pct\n",
       "1823 2022-01-08  41733.941410  2.806636e+10  41557.902340   1.004236  0.423600\n",
       "1824 2022-01-09  41911.601560  2.129438e+10  41733.941410   1.004257  0.425697\n",
       "1825 2022-01-10  41821.261720  3.210423e+10  41911.601560   0.997845 -0.215549\n",
       "1826 2022-01-11  42735.855469  2.632765e+10  41821.261720   1.021869  2.186911\n",
       "1827 2022-01-12  43949.101563  3.349994e+10  42735.855469   1.028389  2.838942"
      ]
     },
     "execution_count": 35,
     "metadata": {},
     "output_type": "execute_result"
    }
   ],
   "source": [
    "btc_df['ret_pct'] = (btc_df['ret_daily'] - 1.0) * 100\n",
    "btc_df.tail()"
   ]
  },
  {
   "cell_type": "markdown",
   "id": "8bd2aab3",
   "metadata": {},
   "source": [
    "## When is a year equal to 252 days?\n",
    "\n",
    "That's how many trading days we have in a year.\n",
    "\n",
    "Instead of shifting by 1, we can shift by 252 to get an annual return."
   ]
  },
  {
   "cell_type": "code",
   "execution_count": 36,
   "id": "3a94585d",
   "metadata": {},
   "outputs": [
    {
     "data": {
      "text/html": [
       "<div>\n",
       "<style scoped>\n",
       "    .dataframe tbody tr th:only-of-type {\n",
       "        vertical-align: middle;\n",
       "    }\n",
       "\n",
       "    .dataframe tbody tr th {\n",
       "        vertical-align: top;\n",
       "    }\n",
       "\n",
       "    .dataframe thead th {\n",
       "        text-align: right;\n",
       "    }\n",
       "</style>\n",
       "<table border=\"1\" class=\"dataframe\">\n",
       "  <thead>\n",
       "    <tr style=\"text-align: right;\">\n",
       "      <th></th>\n",
       "      <th>Date</th>\n",
       "      <th>Close</th>\n",
       "      <th>Volume</th>\n",
       "      <th>Close_lag1</th>\n",
       "      <th>ret_daily</th>\n",
       "      <th>ret_pct</th>\n",
       "      <th>Close_lag252</th>\n",
       "      <th>ret_annual</th>\n",
       "    </tr>\n",
       "  </thead>\n",
       "  <tbody>\n",
       "    <tr>\n",
       "      <th>230</th>\n",
       "      <td>2017-08-29</td>\n",
       "      <td>4579.020020</td>\n",
       "      <td>2.486080e+09</td>\n",
       "      <td>4382.660156</td>\n",
       "      <td>1.044804</td>\n",
       "      <td>4.480381</td>\n",
       "      <td>NaN</td>\n",
       "      <td>NaN</td>\n",
       "    </tr>\n",
       "    <tr>\n",
       "      <th>231</th>\n",
       "      <td>2017-08-30</td>\n",
       "      <td>4565.299805</td>\n",
       "      <td>1.937850e+09</td>\n",
       "      <td>4579.020020</td>\n",
       "      <td>0.997004</td>\n",
       "      <td>-0.299632</td>\n",
       "      <td>NaN</td>\n",
       "      <td>NaN</td>\n",
       "    </tr>\n",
       "    <tr>\n",
       "      <th>232</th>\n",
       "      <td>2017-08-31</td>\n",
       "      <td>4703.390137</td>\n",
       "      <td>1.944930e+09</td>\n",
       "      <td>4565.299805</td>\n",
       "      <td>1.030248</td>\n",
       "      <td>3.024781</td>\n",
       "      <td>NaN</td>\n",
       "      <td>NaN</td>\n",
       "    </tr>\n",
       "    <tr>\n",
       "      <th>233</th>\n",
       "      <td>2017-09-01</td>\n",
       "      <td>4892.009766</td>\n",
       "      <td>2.599080e+09</td>\n",
       "      <td>4703.390137</td>\n",
       "      <td>1.040103</td>\n",
       "      <td>4.010291</td>\n",
       "      <td>NaN</td>\n",
       "      <td>NaN</td>\n",
       "    </tr>\n",
       "    <tr>\n",
       "      <th>234</th>\n",
       "      <td>2017-09-02</td>\n",
       "      <td>4578.770020</td>\n",
       "      <td>2.722140e+09</td>\n",
       "      <td>4892.009766</td>\n",
       "      <td>0.935969</td>\n",
       "      <td>-6.403089</td>\n",
       "      <td>NaN</td>\n",
       "      <td>NaN</td>\n",
       "    </tr>\n",
       "    <tr>\n",
       "      <th>235</th>\n",
       "      <td>2017-09-03</td>\n",
       "      <td>4582.959961</td>\n",
       "      <td>1.933190e+09</td>\n",
       "      <td>4578.770020</td>\n",
       "      <td>1.000915</td>\n",
       "      <td>0.091508</td>\n",
       "      <td>NaN</td>\n",
       "      <td>NaN</td>\n",
       "    </tr>\n",
       "    <tr>\n",
       "      <th>236</th>\n",
       "      <td>2017-09-04</td>\n",
       "      <td>4236.310059</td>\n",
       "      <td>2.987330e+09</td>\n",
       "      <td>4582.959961</td>\n",
       "      <td>0.924361</td>\n",
       "      <td>-7.563887</td>\n",
       "      <td>NaN</td>\n",
       "      <td>NaN</td>\n",
       "    </tr>\n",
       "    <tr>\n",
       "      <th>237</th>\n",
       "      <td>2017-09-05</td>\n",
       "      <td>4376.529785</td>\n",
       "      <td>2.697970e+09</td>\n",
       "      <td>4236.310059</td>\n",
       "      <td>1.033099</td>\n",
       "      <td>3.309950</td>\n",
       "      <td>NaN</td>\n",
       "      <td>NaN</td>\n",
       "    </tr>\n",
       "    <tr>\n",
       "      <th>238</th>\n",
       "      <td>2017-09-06</td>\n",
       "      <td>4597.120117</td>\n",
       "      <td>2.172100e+09</td>\n",
       "      <td>4376.529785</td>\n",
       "      <td>1.050403</td>\n",
       "      <td>5.040302</td>\n",
       "      <td>NaN</td>\n",
       "      <td>NaN</td>\n",
       "    </tr>\n",
       "    <tr>\n",
       "      <th>239</th>\n",
       "      <td>2017-09-07</td>\n",
       "      <td>4599.879883</td>\n",
       "      <td>1.844620e+09</td>\n",
       "      <td>4597.120117</td>\n",
       "      <td>1.000600</td>\n",
       "      <td>0.060032</td>\n",
       "      <td>NaN</td>\n",
       "      <td>NaN</td>\n",
       "    </tr>\n",
       "    <tr>\n",
       "      <th>240</th>\n",
       "      <td>2017-09-08</td>\n",
       "      <td>4228.750000</td>\n",
       "      <td>2.700890e+09</td>\n",
       "      <td>4599.879883</td>\n",
       "      <td>0.919317</td>\n",
       "      <td>-8.068252</td>\n",
       "      <td>NaN</td>\n",
       "      <td>NaN</td>\n",
       "    </tr>\n",
       "    <tr>\n",
       "      <th>241</th>\n",
       "      <td>2017-09-09</td>\n",
       "      <td>4226.060059</td>\n",
       "      <td>1.386230e+09</td>\n",
       "      <td>4228.750000</td>\n",
       "      <td>0.999364</td>\n",
       "      <td>-0.063611</td>\n",
       "      <td>NaN</td>\n",
       "      <td>NaN</td>\n",
       "    </tr>\n",
       "    <tr>\n",
       "      <th>242</th>\n",
       "      <td>2017-09-10</td>\n",
       "      <td>4122.939941</td>\n",
       "      <td>1.679090e+09</td>\n",
       "      <td>4226.060059</td>\n",
       "      <td>0.975599</td>\n",
       "      <td>-2.440101</td>\n",
       "      <td>NaN</td>\n",
       "      <td>NaN</td>\n",
       "    </tr>\n",
       "    <tr>\n",
       "      <th>243</th>\n",
       "      <td>2017-09-11</td>\n",
       "      <td>4161.270020</td>\n",
       "      <td>1.557330e+09</td>\n",
       "      <td>4122.939941</td>\n",
       "      <td>1.009297</td>\n",
       "      <td>0.929678</td>\n",
       "      <td>NaN</td>\n",
       "      <td>NaN</td>\n",
       "    </tr>\n",
       "    <tr>\n",
       "      <th>244</th>\n",
       "      <td>2017-09-12</td>\n",
       "      <td>4130.810059</td>\n",
       "      <td>1.864530e+09</td>\n",
       "      <td>4161.270020</td>\n",
       "      <td>0.992680</td>\n",
       "      <td>-0.731987</td>\n",
       "      <td>NaN</td>\n",
       "      <td>NaN</td>\n",
       "    </tr>\n",
       "    <tr>\n",
       "      <th>245</th>\n",
       "      <td>2017-09-13</td>\n",
       "      <td>3882.590088</td>\n",
       "      <td>2.219410e+09</td>\n",
       "      <td>4130.810059</td>\n",
       "      <td>0.939910</td>\n",
       "      <td>-6.008990</td>\n",
       "      <td>NaN</td>\n",
       "      <td>NaN</td>\n",
       "    </tr>\n",
       "    <tr>\n",
       "      <th>246</th>\n",
       "      <td>2017-09-14</td>\n",
       "      <td>3154.949951</td>\n",
       "      <td>2.716310e+09</td>\n",
       "      <td>3882.590088</td>\n",
       "      <td>0.812589</td>\n",
       "      <td>-18.741101</td>\n",
       "      <td>NaN</td>\n",
       "      <td>NaN</td>\n",
       "    </tr>\n",
       "    <tr>\n",
       "      <th>247</th>\n",
       "      <td>2017-09-15</td>\n",
       "      <td>3637.520020</td>\n",
       "      <td>4.148070e+09</td>\n",
       "      <td>3154.949951</td>\n",
       "      <td>1.152956</td>\n",
       "      <td>15.295649</td>\n",
       "      <td>NaN</td>\n",
       "      <td>NaN</td>\n",
       "    </tr>\n",
       "    <tr>\n",
       "      <th>248</th>\n",
       "      <td>2017-09-16</td>\n",
       "      <td>3625.040039</td>\n",
       "      <td>1.818400e+09</td>\n",
       "      <td>3637.520020</td>\n",
       "      <td>0.996569</td>\n",
       "      <td>-0.343090</td>\n",
       "      <td>NaN</td>\n",
       "      <td>NaN</td>\n",
       "    </tr>\n",
       "    <tr>\n",
       "      <th>249</th>\n",
       "      <td>2017-09-17</td>\n",
       "      <td>3582.879883</td>\n",
       "      <td>1.239150e+09</td>\n",
       "      <td>3625.040039</td>\n",
       "      <td>0.988370</td>\n",
       "      <td>-1.163026</td>\n",
       "      <td>NaN</td>\n",
       "      <td>NaN</td>\n",
       "    </tr>\n",
       "    <tr>\n",
       "      <th>250</th>\n",
       "      <td>2017-09-18</td>\n",
       "      <td>4065.199951</td>\n",
       "      <td>1.943210e+09</td>\n",
       "      <td>3582.879883</td>\n",
       "      <td>1.134618</td>\n",
       "      <td>13.461798</td>\n",
       "      <td>NaN</td>\n",
       "      <td>NaN</td>\n",
       "    </tr>\n",
       "    <tr>\n",
       "      <th>251</th>\n",
       "      <td>2017-09-19</td>\n",
       "      <td>3924.969971</td>\n",
       "      <td>1.563980e+09</td>\n",
       "      <td>4065.199951</td>\n",
       "      <td>0.965505</td>\n",
       "      <td>-3.449522</td>\n",
       "      <td>NaN</td>\n",
       "      <td>NaN</td>\n",
       "    </tr>\n",
       "    <tr>\n",
       "      <th>252</th>\n",
       "      <td>2017-09-20</td>\n",
       "      <td>3905.949951</td>\n",
       "      <td>1.213830e+09</td>\n",
       "      <td>3924.969971</td>\n",
       "      <td>0.995154</td>\n",
       "      <td>-0.484590</td>\n",
       "      <td>777.757019</td>\n",
       "      <td>5.022070</td>\n",
       "    </tr>\n",
       "    <tr>\n",
       "      <th>253</th>\n",
       "      <td>2017-09-21</td>\n",
       "      <td>3631.040039</td>\n",
       "      <td>1.411480e+09</td>\n",
       "      <td>3905.949951</td>\n",
       "      <td>0.929618</td>\n",
       "      <td>-7.038234</td>\n",
       "      <td>804.833984</td>\n",
       "      <td>4.511539</td>\n",
       "    </tr>\n",
       "    <tr>\n",
       "      <th>254</th>\n",
       "      <td>2017-09-22</td>\n",
       "      <td>3630.699951</td>\n",
       "      <td>1.194830e+09</td>\n",
       "      <td>3631.040039</td>\n",
       "      <td>0.999906</td>\n",
       "      <td>-0.009366</td>\n",
       "      <td>823.984009</td>\n",
       "      <td>4.406275</td>\n",
       "    </tr>\n",
       "    <tr>\n",
       "      <th>255</th>\n",
       "      <td>2017-09-23</td>\n",
       "      <td>3792.399902</td>\n",
       "      <td>9.281140e+08</td>\n",
       "      <td>3630.699951</td>\n",
       "      <td>1.044537</td>\n",
       "      <td>4.453685</td>\n",
       "      <td>818.411987</td>\n",
       "      <td>4.633852</td>\n",
       "    </tr>\n",
       "    <tr>\n",
       "      <th>256</th>\n",
       "      <td>2017-09-24</td>\n",
       "      <td>3682.840088</td>\n",
       "      <td>7.680150e+08</td>\n",
       "      <td>3792.399902</td>\n",
       "      <td>0.971111</td>\n",
       "      <td>-2.888931</td>\n",
       "      <td>821.797974</td>\n",
       "      <td>4.481442</td>\n",
       "    </tr>\n",
       "    <tr>\n",
       "      <th>257</th>\n",
       "      <td>2017-09-25</td>\n",
       "      <td>3926.070068</td>\n",
       "      <td>1.374210e+09</td>\n",
       "      <td>3682.840088</td>\n",
       "      <td>1.066044</td>\n",
       "      <td>6.604413</td>\n",
       "      <td>831.533997</td>\n",
       "      <td>4.721479</td>\n",
       "    </tr>\n",
       "    <tr>\n",
       "      <th>258</th>\n",
       "      <td>2017-09-26</td>\n",
       "      <td>3892.350098</td>\n",
       "      <td>1.043740e+09</td>\n",
       "      <td>3926.070068</td>\n",
       "      <td>0.991411</td>\n",
       "      <td>-0.858873</td>\n",
       "      <td>907.937988</td>\n",
       "      <td>4.287022</td>\n",
       "    </tr>\n",
       "    <tr>\n",
       "      <th>259</th>\n",
       "      <td>2017-09-27</td>\n",
       "      <td>4200.669922</td>\n",
       "      <td>1.686880e+09</td>\n",
       "      <td>3892.350098</td>\n",
       "      <td>1.079212</td>\n",
       "      <td>7.921174</td>\n",
       "      <td>886.617981</td>\n",
       "      <td>4.737858</td>\n",
       "    </tr>\n",
       "    <tr>\n",
       "      <th>260</th>\n",
       "      <td>2017-09-28</td>\n",
       "      <td>4174.729980</td>\n",
       "      <td>1.712320e+09</td>\n",
       "      <td>4200.669922</td>\n",
       "      <td>0.993825</td>\n",
       "      <td>-0.617519</td>\n",
       "      <td>899.072998</td>\n",
       "      <td>4.643372</td>\n",
       "    </tr>\n",
       "    <tr>\n",
       "      <th>261</th>\n",
       "      <td>2017-09-29</td>\n",
       "      <td>4163.069824</td>\n",
       "      <td>1.367050e+09</td>\n",
       "      <td>4174.729980</td>\n",
       "      <td>0.997207</td>\n",
       "      <td>-0.279303</td>\n",
       "      <td>895.026001</td>\n",
       "      <td>4.651340</td>\n",
       "    </tr>\n",
       "    <tr>\n",
       "      <th>262</th>\n",
       "      <td>2017-09-30</td>\n",
       "      <td>4338.709961</td>\n",
       "      <td>1.207450e+09</td>\n",
       "      <td>4163.069824</td>\n",
       "      <td>1.042190</td>\n",
       "      <td>4.219005</td>\n",
       "      <td>921.789001</td>\n",
       "      <td>4.706836</td>\n",
       "    </tr>\n",
       "    <tr>\n",
       "      <th>263</th>\n",
       "      <td>2017-10-01</td>\n",
       "      <td>4403.740234</td>\n",
       "      <td>1.208210e+09</td>\n",
       "      <td>4338.709961</td>\n",
       "      <td>1.014988</td>\n",
       "      <td>1.498839</td>\n",
       "      <td>924.672974</td>\n",
       "      <td>4.762484</td>\n",
       "    </tr>\n",
       "    <tr>\n",
       "      <th>264</th>\n",
       "      <td>2017-10-02</td>\n",
       "      <td>4409.319824</td>\n",
       "      <td>1.431730e+09</td>\n",
       "      <td>4403.740234</td>\n",
       "      <td>1.001267</td>\n",
       "      <td>0.126701</td>\n",
       "      <td>921.012024</td>\n",
       "      <td>4.787473</td>\n",
       "    </tr>\n",
       "    <tr>\n",
       "      <th>265</th>\n",
       "      <td>2017-10-03</td>\n",
       "      <td>4317.479980</td>\n",
       "      <td>1.288020e+09</td>\n",
       "      <td>4409.319824</td>\n",
       "      <td>0.979171</td>\n",
       "      <td>-2.082857</td>\n",
       "      <td>892.687012</td>\n",
       "      <td>4.836499</td>\n",
       "    </tr>\n",
       "    <tr>\n",
       "      <th>266</th>\n",
       "      <td>2017-10-04</td>\n",
       "      <td>4229.359863</td>\n",
       "      <td>1.116770e+09</td>\n",
       "      <td>4317.479980</td>\n",
       "      <td>0.979590</td>\n",
       "      <td>-2.041008</td>\n",
       "      <td>901.541992</td>\n",
       "      <td>4.691251</td>\n",
       "    </tr>\n",
       "    <tr>\n",
       "      <th>267</th>\n",
       "      <td>2017-10-05</td>\n",
       "      <td>4328.410156</td>\n",
       "      <td>1.161770e+09</td>\n",
       "      <td>4229.359863</td>\n",
       "      <td>1.023420</td>\n",
       "      <td>2.341969</td>\n",
       "      <td>917.585999</td>\n",
       "      <td>4.717171</td>\n",
       "    </tr>\n",
       "    <tr>\n",
       "      <th>268</th>\n",
       "      <td>2017-10-06</td>\n",
       "      <td>4370.810059</td>\n",
       "      <td>1.069940e+09</td>\n",
       "      <td>4328.410156</td>\n",
       "      <td>1.009796</td>\n",
       "      <td>0.979572</td>\n",
       "      <td>919.750000</td>\n",
       "      <td>4.752172</td>\n",
       "    </tr>\n",
       "    <tr>\n",
       "      <th>269</th>\n",
       "      <td>2017-10-07</td>\n",
       "      <td>4426.890137</td>\n",
       "      <td>9.069280e+08</td>\n",
       "      <td>4370.810059</td>\n",
       "      <td>1.012831</td>\n",
       "      <td>1.283059</td>\n",
       "      <td>921.590027</td>\n",
       "      <td>4.803535</td>\n",
       "    </tr>\n",
       "  </tbody>\n",
       "</table>\n",
       "</div>"
      ],
      "text/plain": [
       "          Date        Close        Volume   Close_lag1  ret_daily    ret_pct  \\\n",
       "230 2017-08-29  4579.020020  2.486080e+09  4382.660156   1.044804   4.480381   \n",
       "231 2017-08-30  4565.299805  1.937850e+09  4579.020020   0.997004  -0.299632   \n",
       "232 2017-08-31  4703.390137  1.944930e+09  4565.299805   1.030248   3.024781   \n",
       "233 2017-09-01  4892.009766  2.599080e+09  4703.390137   1.040103   4.010291   \n",
       "234 2017-09-02  4578.770020  2.722140e+09  4892.009766   0.935969  -6.403089   \n",
       "235 2017-09-03  4582.959961  1.933190e+09  4578.770020   1.000915   0.091508   \n",
       "236 2017-09-04  4236.310059  2.987330e+09  4582.959961   0.924361  -7.563887   \n",
       "237 2017-09-05  4376.529785  2.697970e+09  4236.310059   1.033099   3.309950   \n",
       "238 2017-09-06  4597.120117  2.172100e+09  4376.529785   1.050403   5.040302   \n",
       "239 2017-09-07  4599.879883  1.844620e+09  4597.120117   1.000600   0.060032   \n",
       "240 2017-09-08  4228.750000  2.700890e+09  4599.879883   0.919317  -8.068252   \n",
       "241 2017-09-09  4226.060059  1.386230e+09  4228.750000   0.999364  -0.063611   \n",
       "242 2017-09-10  4122.939941  1.679090e+09  4226.060059   0.975599  -2.440101   \n",
       "243 2017-09-11  4161.270020  1.557330e+09  4122.939941   1.009297   0.929678   \n",
       "244 2017-09-12  4130.810059  1.864530e+09  4161.270020   0.992680  -0.731987   \n",
       "245 2017-09-13  3882.590088  2.219410e+09  4130.810059   0.939910  -6.008990   \n",
       "246 2017-09-14  3154.949951  2.716310e+09  3882.590088   0.812589 -18.741101   \n",
       "247 2017-09-15  3637.520020  4.148070e+09  3154.949951   1.152956  15.295649   \n",
       "248 2017-09-16  3625.040039  1.818400e+09  3637.520020   0.996569  -0.343090   \n",
       "249 2017-09-17  3582.879883  1.239150e+09  3625.040039   0.988370  -1.163026   \n",
       "250 2017-09-18  4065.199951  1.943210e+09  3582.879883   1.134618  13.461798   \n",
       "251 2017-09-19  3924.969971  1.563980e+09  4065.199951   0.965505  -3.449522   \n",
       "252 2017-09-20  3905.949951  1.213830e+09  3924.969971   0.995154  -0.484590   \n",
       "253 2017-09-21  3631.040039  1.411480e+09  3905.949951   0.929618  -7.038234   \n",
       "254 2017-09-22  3630.699951  1.194830e+09  3631.040039   0.999906  -0.009366   \n",
       "255 2017-09-23  3792.399902  9.281140e+08  3630.699951   1.044537   4.453685   \n",
       "256 2017-09-24  3682.840088  7.680150e+08  3792.399902   0.971111  -2.888931   \n",
       "257 2017-09-25  3926.070068  1.374210e+09  3682.840088   1.066044   6.604413   \n",
       "258 2017-09-26  3892.350098  1.043740e+09  3926.070068   0.991411  -0.858873   \n",
       "259 2017-09-27  4200.669922  1.686880e+09  3892.350098   1.079212   7.921174   \n",
       "260 2017-09-28  4174.729980  1.712320e+09  4200.669922   0.993825  -0.617519   \n",
       "261 2017-09-29  4163.069824  1.367050e+09  4174.729980   0.997207  -0.279303   \n",
       "262 2017-09-30  4338.709961  1.207450e+09  4163.069824   1.042190   4.219005   \n",
       "263 2017-10-01  4403.740234  1.208210e+09  4338.709961   1.014988   1.498839   \n",
       "264 2017-10-02  4409.319824  1.431730e+09  4403.740234   1.001267   0.126701   \n",
       "265 2017-10-03  4317.479980  1.288020e+09  4409.319824   0.979171  -2.082857   \n",
       "266 2017-10-04  4229.359863  1.116770e+09  4317.479980   0.979590  -2.041008   \n",
       "267 2017-10-05  4328.410156  1.161770e+09  4229.359863   1.023420   2.341969   \n",
       "268 2017-10-06  4370.810059  1.069940e+09  4328.410156   1.009796   0.979572   \n",
       "269 2017-10-07  4426.890137  9.069280e+08  4370.810059   1.012831   1.283059   \n",
       "\n",
       "     Close_lag252  ret_annual  \n",
       "230           NaN         NaN  \n",
       "231           NaN         NaN  \n",
       "232           NaN         NaN  \n",
       "233           NaN         NaN  \n",
       "234           NaN         NaN  \n",
       "235           NaN         NaN  \n",
       "236           NaN         NaN  \n",
       "237           NaN         NaN  \n",
       "238           NaN         NaN  \n",
       "239           NaN         NaN  \n",
       "240           NaN         NaN  \n",
       "241           NaN         NaN  \n",
       "242           NaN         NaN  \n",
       "243           NaN         NaN  \n",
       "244           NaN         NaN  \n",
       "245           NaN         NaN  \n",
       "246           NaN         NaN  \n",
       "247           NaN         NaN  \n",
       "248           NaN         NaN  \n",
       "249           NaN         NaN  \n",
       "250           NaN         NaN  \n",
       "251           NaN         NaN  \n",
       "252    777.757019    5.022070  \n",
       "253    804.833984    4.511539  \n",
       "254    823.984009    4.406275  \n",
       "255    818.411987    4.633852  \n",
       "256    821.797974    4.481442  \n",
       "257    831.533997    4.721479  \n",
       "258    907.937988    4.287022  \n",
       "259    886.617981    4.737858  \n",
       "260    899.072998    4.643372  \n",
       "261    895.026001    4.651340  \n",
       "262    921.789001    4.706836  \n",
       "263    924.672974    4.762484  \n",
       "264    921.012024    4.787473  \n",
       "265    892.687012    4.836499  \n",
       "266    901.541992    4.691251  \n",
       "267    917.585999    4.717171  \n",
       "268    919.750000    4.752172  \n",
       "269    921.590027    4.803535  "
      ]
     },
     "execution_count": 36,
     "metadata": {},
     "output_type": "execute_result"
    }
   ],
   "source": [
    "btc_df['Close_lag252'] = btc_df.Close.shift(periods=252)\n",
    "btc_df['ret_annual'] = btc_df.Close / btc_df.Close_lag252\n",
    "btc_df.head(270).tail(40)"
   ]
  },
  {
   "cell_type": "markdown",
   "id": "1963105a",
   "metadata": {},
   "source": [
    "## Add ln returns\n",
    "\n",
    "Remember, $log_{10} (x) $ is different from natural log $ln(x)$.\n",
    "\n",
    "$e^x$ and $ln(x)$ are inverses, so $e^{ln(x)}$ = $ln(e^x) = x$\n",
    "\n",
    "Numpy has log10, log2, and log (our fav, natural logarithm)\n",
    "\n",
    "Examples: https://www.geeksforgeeks.org/log-and-natural-logarithmic-value-of-a-column-in-pandas-python/"
   ]
  },
  {
   "cell_type": "code",
   "execution_count": 37,
   "id": "c2cda8d7",
   "metadata": {},
   "outputs": [
    {
     "data": {
      "text/html": [
       "<div>\n",
       "<style scoped>\n",
       "    .dataframe tbody tr th:only-of-type {\n",
       "        vertical-align: middle;\n",
       "    }\n",
       "\n",
       "    .dataframe tbody tr th {\n",
       "        vertical-align: top;\n",
       "    }\n",
       "\n",
       "    .dataframe thead th {\n",
       "        text-align: right;\n",
       "    }\n",
       "</style>\n",
       "<table border=\"1\" class=\"dataframe\">\n",
       "  <thead>\n",
       "    <tr style=\"text-align: right;\">\n",
       "      <th></th>\n",
       "      <th>Date</th>\n",
       "      <th>Close</th>\n",
       "      <th>Volume</th>\n",
       "      <th>Close_lag1</th>\n",
       "      <th>ret_daily</th>\n",
       "      <th>ret_pct</th>\n",
       "      <th>Close_lag252</th>\n",
       "      <th>ret_annual</th>\n",
       "      <th>ret_daily_ln</th>\n",
       "    </tr>\n",
       "  </thead>\n",
       "  <tbody>\n",
       "    <tr>\n",
       "      <th>0</th>\n",
       "      <td>2017-01-11</td>\n",
       "      <td>777.757019</td>\n",
       "      <td>310928992.0</td>\n",
       "      <td>NaN</td>\n",
       "      <td>NaN</td>\n",
       "      <td>NaN</td>\n",
       "      <td>NaN</td>\n",
       "      <td>NaN</td>\n",
       "      <td>NaN</td>\n",
       "    </tr>\n",
       "    <tr>\n",
       "      <th>1</th>\n",
       "      <td>2017-01-12</td>\n",
       "      <td>804.833984</td>\n",
       "      <td>222326000.0</td>\n",
       "      <td>777.757019</td>\n",
       "      <td>1.034814</td>\n",
       "      <td>3.481417</td>\n",
       "      <td>NaN</td>\n",
       "      <td>NaN</td>\n",
       "      <td>0.034222</td>\n",
       "    </tr>\n",
       "    <tr>\n",
       "      <th>2</th>\n",
       "      <td>2017-01-13</td>\n",
       "      <td>823.984009</td>\n",
       "      <td>168968000.0</td>\n",
       "      <td>804.833984</td>\n",
       "      <td>1.023794</td>\n",
       "      <td>2.379376</td>\n",
       "      <td>NaN</td>\n",
       "      <td>NaN</td>\n",
       "      <td>0.023515</td>\n",
       "    </tr>\n",
       "    <tr>\n",
       "      <th>3</th>\n",
       "      <td>2017-01-14</td>\n",
       "      <td>818.411987</td>\n",
       "      <td>93063296.0</td>\n",
       "      <td>823.984009</td>\n",
       "      <td>0.993238</td>\n",
       "      <td>-0.676229</td>\n",
       "      <td>NaN</td>\n",
       "      <td>NaN</td>\n",
       "      <td>-0.006785</td>\n",
       "    </tr>\n",
       "    <tr>\n",
       "      <th>4</th>\n",
       "      <td>2017-01-15</td>\n",
       "      <td>821.797974</td>\n",
       "      <td>71013600.0</td>\n",
       "      <td>818.411987</td>\n",
       "      <td>1.004137</td>\n",
       "      <td>0.413726</td>\n",
       "      <td>NaN</td>\n",
       "      <td>NaN</td>\n",
       "      <td>0.004129</td>\n",
       "    </tr>\n",
       "  </tbody>\n",
       "</table>\n",
       "</div>"
      ],
      "text/plain": [
       "        Date       Close       Volume  Close_lag1  ret_daily   ret_pct  \\\n",
       "0 2017-01-11  777.757019  310928992.0         NaN        NaN       NaN   \n",
       "1 2017-01-12  804.833984  222326000.0  777.757019   1.034814  3.481417   \n",
       "2 2017-01-13  823.984009  168968000.0  804.833984   1.023794  2.379376   \n",
       "3 2017-01-14  818.411987   93063296.0  823.984009   0.993238 -0.676229   \n",
       "4 2017-01-15  821.797974   71013600.0  818.411987   1.004137  0.413726   \n",
       "\n",
       "   Close_lag252  ret_annual  ret_daily_ln  \n",
       "0           NaN         NaN           NaN  \n",
       "1           NaN         NaN      0.034222  \n",
       "2           NaN         NaN      0.023515  \n",
       "3           NaN         NaN     -0.006785  \n",
       "4           NaN         NaN      0.004129  "
      ]
     },
     "execution_count": 37,
     "metadata": {},
     "output_type": "execute_result"
    }
   ],
   "source": [
    "btc_df['ret_daily_ln'] = np.log(btc_df['ret_daily'])\n",
    "btc_df.head()"
   ]
  },
  {
   "cell_type": "markdown",
   "id": "b80f75a2",
   "metadata": {},
   "source": [
    "## Side bar about compounded interest\n",
    "\n",
    "Let's think about simple interest: 5% annually.\n",
    "\n",
    "If I started with $100...\n",
    "\n",
    "* Year 0: $100\n",
    "* Year 1: $105 ( = 100 * .05)\n",
    "* Year 2: $110.25\n",
    "* Year 3: $115.7625"
   ]
  },
  {
   "cell_type": "code",
   "execution_count": 38,
   "id": "2a85a41c",
   "metadata": {},
   "outputs": [
    {
     "data": {
      "text/plain": [
       "[100.0, 105.0, 110.25, 115.76250000000002]"
      ]
     },
     "execution_count": 38,
     "metadata": {},
     "output_type": "execute_result"
    }
   ],
   "source": [
    "# In Python\n",
    "bal = 100\n",
    "r = 0.05\n",
    "t = 3\n",
    "[bal*(1 + r)**i for i in range(t+1)]"
   ]
  },
  {
   "cell_type": "code",
   "execution_count": 39,
   "id": "10160fa1",
   "metadata": {},
   "outputs": [
    {
     "data": {
      "text/plain": [
       "[100.0,\n",
       " 101.25,\n",
       " 102.515625,\n",
       " 103.79707031249998,\n",
       " 105.09453369140623,\n",
       " 106.4082153625488,\n",
       " 107.73831805458065,\n",
       " 109.08504703026291,\n",
       " 110.4486101181412,\n",
       " 111.82921774461796,\n",
       " 113.22708296642567,\n",
       " 114.64242150350599,\n",
       " 116.07545177229981]"
      ]
     },
     "execution_count": 39,
     "metadata": {},
     "output_type": "execute_result"
    }
   ],
   "source": [
    "# What if we compound quarterly?\n",
    "per = 4\n",
    "[bal*(1 + r / per) ** i for i in range(t*per + 1)]"
   ]
  },
  {
   "cell_type": "code",
   "execution_count": 40,
   "id": "b5034ca3",
   "metadata": {},
   "outputs": [
    {
     "data": {
      "text/plain": [
       "[115.97276371344039,\n",
       " 115.99595826618308,\n",
       " 116.01915745783631,\n",
       " 116.04236128932787,\n",
       " 116.06556976158573,\n",
       " 116.08878287553806,\n",
       " 116.11200063211315,\n",
       " 116.13522303223958,\n",
       " 116.15845007684602,\n",
       " 116.18168176686139]"
      ]
     },
     "execution_count": 40,
     "metadata": {},
     "output_type": "execute_result"
    }
   ],
   "source": [
    "# What if we compounded daily?\n",
    "per = 250\n",
    "l = [bal*(1 + r / per) ** i for i in range(t*per + 1)]\n",
    "l[-10:]"
   ]
  },
  {
   "cell_type": "markdown",
   "id": "004573ea",
   "metadata": {},
   "source": [
    "## Here's why Euler's number is so handy...\n",
    "\n",
    "If we had continuously compounding periods, we could use *e* (Euler's number) to get the final amount."
   ]
  },
  {
   "cell_type": "code",
   "execution_count": 41,
   "id": "022e7b21",
   "metadata": {},
   "outputs": [
    {
     "data": {
      "text/plain": [
       "116.1834242728283"
      ]
     },
     "execution_count": 41,
     "metadata": {},
     "output_type": "execute_result"
    }
   ],
   "source": [
    "from math import exp\n",
    "bal*exp(r*t)"
   ]
  },
  {
   "cell_type": "markdown",
   "id": "5fff1c78",
   "metadata": {},
   "source": [
    "## Natural logarithm goes the opposite direction\n",
    "\n",
    "It gets us t (time). \n",
    "\n",
    "How long would it take you to double your money at 8%? \n",
    "\n",
    "$e^{rt} = 2$\n",
    "\n",
    "$rt = ln 2$\n",
    "\n",
    "$t = {ln 2} / r$"
   ]
  },
  {
   "cell_type": "code",
   "execution_count": 42,
   "id": "cd5f8f49",
   "metadata": {},
   "outputs": [
    {
     "data": {
      "text/plain": [
       "8.664339756999317"
      ]
     },
     "execution_count": 42,
     "metadata": {},
     "output_type": "execute_result"
    }
   ],
   "source": [
    "r = 0.08\n",
    "t = np.log(2) / r\n",
    "t"
   ]
  },
  {
   "cell_type": "code",
   "execution_count": 43,
   "id": "18cb6b84",
   "metadata": {},
   "outputs": [
    {
     "data": {
      "text/plain": [
       "2.0"
      ]
     },
     "execution_count": 43,
     "metadata": {},
     "output_type": "execute_result"
    }
   ],
   "source": [
    "# Check my math with exponents\n",
    "exp(r * t)"
   ]
  },
  {
   "cell_type": "code",
   "execution_count": 44,
   "id": "22bdbb0a",
   "metadata": {},
   "outputs": [
    {
     "data": {
      "text/plain": [
       "[177.58446902974066,\n",
       " 181.13615841033547,\n",
       " 184.7588815785422,\n",
       " 188.45405921011303,\n",
       " 192.2231403943153,\n",
       " 196.0676032022016,\n",
       " 199.98895526624565,\n",
       " 203.98873437157056]"
      ]
     },
     "execution_count": 44,
     "metadata": {},
     "output_type": "execute_result"
    }
   ],
   "source": [
    "# Check my math in Python\n",
    "bal = 100\n",
    "r = 0.08\n",
    "t = 9\n",
    "per = 4\n",
    "l = [bal*(1 + r / per) ** i for i in range(t*per + 1)]\n",
    "l[-8:]"
   ]
  },
  {
   "cell_type": "code",
   "execution_count": 45,
   "id": "a1d434e6",
   "metadata": {},
   "outputs": [
    {
     "data": {
      "text/html": [
       "<div>\n",
       "<style scoped>\n",
       "    .dataframe tbody tr th:only-of-type {\n",
       "        vertical-align: middle;\n",
       "    }\n",
       "\n",
       "    .dataframe tbody tr th {\n",
       "        vertical-align: top;\n",
       "    }\n",
       "\n",
       "    .dataframe thead th {\n",
       "        text-align: right;\n",
       "    }\n",
       "</style>\n",
       "<table border=\"1\" class=\"dataframe\">\n",
       "  <thead>\n",
       "    <tr style=\"text-align: right;\">\n",
       "      <th></th>\n",
       "      <th>Close</th>\n",
       "      <th>Volume</th>\n",
       "      <th>Close_lag1</th>\n",
       "      <th>ret_daily</th>\n",
       "      <th>ret_pct</th>\n",
       "      <th>Close_lag252</th>\n",
       "      <th>ret_annual</th>\n",
       "      <th>ret_daily_ln</th>\n",
       "    </tr>\n",
       "  </thead>\n",
       "  <tbody>\n",
       "    <tr>\n",
       "      <th>count</th>\n",
       "      <td>1828.000000</td>\n",
       "      <td>1.828000e+03</td>\n",
       "      <td>1827.000000</td>\n",
       "      <td>1827.000000</td>\n",
       "      <td>1827.000000</td>\n",
       "      <td>1576.000000</td>\n",
       "      <td>1576.000000</td>\n",
       "      <td>1827.000000</td>\n",
       "    </tr>\n",
       "    <tr>\n",
       "      <th>mean</th>\n",
       "      <td>15769.416661</td>\n",
       "      <td>2.128344e+10</td>\n",
       "      <td>15753.992641</td>\n",
       "      <td>1.003081</td>\n",
       "      <td>0.308146</td>\n",
       "      <td>10826.106921</td>\n",
       "      <td>2.403514</td>\n",
       "      <td>0.002208</td>\n",
       "    </tr>\n",
       "    <tr>\n",
       "      <th>std</th>\n",
       "      <td>17101.968664</td>\n",
       "      <td>2.118092e+10</td>\n",
       "      <td>17093.928334</td>\n",
       "      <td>0.041585</td>\n",
       "      <td>4.158469</td>\n",
       "      <td>12145.484927</td>\n",
       "      <td>2.417649</td>\n",
       "      <td>0.041870</td>\n",
       "    </tr>\n",
       "    <tr>\n",
       "      <th>min</th>\n",
       "      <td>777.757019</td>\n",
       "      <td>6.085170e+07</td>\n",
       "      <td>777.757019</td>\n",
       "      <td>0.628305</td>\n",
       "      <td>-37.169539</td>\n",
       "      <td>777.757019</td>\n",
       "      <td>0.346876</td>\n",
       "      <td>-0.464730</td>\n",
       "    </tr>\n",
       "    <tr>\n",
       "      <th>25%</th>\n",
       "      <td>5721.322388</td>\n",
       "      <td>4.664405e+09</td>\n",
       "      <td>5717.054932</td>\n",
       "      <td>0.984565</td>\n",
       "      <td>-1.543504</td>\n",
       "      <td>4536.942383</td>\n",
       "      <td>0.898448</td>\n",
       "      <td>-0.015555</td>\n",
       "    </tr>\n",
       "    <tr>\n",
       "      <th>50%</th>\n",
       "      <td>8723.863282</td>\n",
       "      <td>1.671208e+10</td>\n",
       "      <td>8723.786133</td>\n",
       "      <td>1.002322</td>\n",
       "      <td>0.232216</td>\n",
       "      <td>7899.024902</td>\n",
       "      <td>1.551324</td>\n",
       "      <td>0.002319</td>\n",
       "    </tr>\n",
       "    <tr>\n",
       "      <th>75%</th>\n",
       "      <td>14975.499760</td>\n",
       "      <td>3.281401e+10</td>\n",
       "      <td>14903.526860</td>\n",
       "      <td>1.021591</td>\n",
       "      <td>2.159124</td>\n",
       "      <td>10399.980472</td>\n",
       "      <td>3.021406</td>\n",
       "      <td>0.021361</td>\n",
       "    </tr>\n",
       "    <tr>\n",
       "      <th>max</th>\n",
       "      <td>67566.828130</td>\n",
       "      <td>3.509680e+11</td>\n",
       "      <td>67566.828130</td>\n",
       "      <td>1.252472</td>\n",
       "      <td>25.247169</td>\n",
       "      <td>63503.457030</td>\n",
       "      <td>17.438791</td>\n",
       "      <td>0.225119</td>\n",
       "    </tr>\n",
       "  </tbody>\n",
       "</table>\n",
       "</div>"
      ],
      "text/plain": [
       "              Close        Volume    Close_lag1    ret_daily      ret_pct  \\\n",
       "count   1828.000000  1.828000e+03   1827.000000  1827.000000  1827.000000   \n",
       "mean   15769.416661  2.128344e+10  15753.992641     1.003081     0.308146   \n",
       "std    17101.968664  2.118092e+10  17093.928334     0.041585     4.158469   \n",
       "min      777.757019  6.085170e+07    777.757019     0.628305   -37.169539   \n",
       "25%     5721.322388  4.664405e+09   5717.054932     0.984565    -1.543504   \n",
       "50%     8723.863282  1.671208e+10   8723.786133     1.002322     0.232216   \n",
       "75%    14975.499760  3.281401e+10  14903.526860     1.021591     2.159124   \n",
       "max    67566.828130  3.509680e+11  67566.828130     1.252472    25.247169   \n",
       "\n",
       "       Close_lag252   ret_annual  ret_daily_ln  \n",
       "count   1576.000000  1576.000000   1827.000000  \n",
       "mean   10826.106921     2.403514      0.002208  \n",
       "std    12145.484927     2.417649      0.041870  \n",
       "min      777.757019     0.346876     -0.464730  \n",
       "25%     4536.942383     0.898448     -0.015555  \n",
       "50%     7899.024902     1.551324      0.002319  \n",
       "75%    10399.980472     3.021406      0.021361  \n",
       "max    63503.457030    17.438791      0.225119  "
      ]
     },
     "execution_count": 45,
     "metadata": {},
     "output_type": "execute_result"
    }
   ],
   "source": [
    "btc_df.describe()"
   ]
  },
  {
   "cell_type": "markdown",
   "id": "1dca6503",
   "metadata": {},
   "source": [
    "# What is a normal distribution?\n",
    "\n",
    "General: https://www.statisticshowto.com/probability-and-statistics/normal-distributions/\n",
    "\n",
    "Following plot from: https://matplotlib.org/stable/gallery/pyplots/pyplot_text.htm"
   ]
  },
  {
   "cell_type": "code",
   "execution_count": 46,
   "id": "e1e04fe9",
   "metadata": {},
   "outputs": [
    {
     "data": {
      "image/png": "[encoded data removed]",
      "text/plain": [
       "<Figure size 432x288 with 1 Axes>"
      ]
     },
     "metadata": {
      "needs_background": "light"
     },
     "output_type": "display_data"
    }
   ],
   "source": [
    "import numpy as np\n",
    "import matplotlib.pyplot as plt\n",
    "\n",
    "# Fixing random state for reproducibility\n",
    "np.random.seed(42)\n",
    "\n",
    "mu, sigma = 100, 15\n",
    "x = mu + sigma * np.random.randn(10000)\n",
    "\n",
    "# the histogram of the data\n",
    "n, bins, patches = plt.hist(x, 50, density=True, facecolor='g', alpha=0.75)\n",
    "\n",
    "\n",
    "plt.xlabel('IQ')\n",
    "plt.ylabel('Probability')\n",
    "plt.title('Histogram of IQ')\n",
    "plt.text(60, .025, r'$\\mu=100,\\ \\sigma=15$')\n",
    "plt.xlim(40, 160)\n",
    "plt.ylim(0, 0.03)\n",
    "plt.grid(True)\n",
    "plt.show()"
   ]
  },
  {
   "cell_type": "markdown",
   "id": "15882e17",
   "metadata": {},
   "source": [
    "# Calculating volatility\n",
    "\n",
    "Investopedia: https://www.investopedia.com/terms/v/volatility.asp\n",
    "\n",
    "## NumPy\n",
    "We can use std() on an array.\n",
    "        "
   ]
  },
  {
   "cell_type": "code",
   "execution_count": 47,
   "id": "95f4f151",
   "metadata": {},
   "outputs": [],
   "source": [
    "import numpy as np\n",
    "prices = np.arange(1,11)"
   ]
  },
  {
   "cell_type": "code",
   "execution_count": 48,
   "id": "e4c00680",
   "metadata": {},
   "outputs": [
    {
     "data": {
      "text/plain": [
       "array([ 1,  2,  3,  4,  5,  6,  7,  8,  9, 10])"
      ]
     },
     "execution_count": 48,
     "metadata": {},
     "output_type": "execute_result"
    }
   ],
   "source": [
    "prices"
   ]
  },
  {
   "cell_type": "code",
   "execution_count": 49,
   "id": "c0159492",
   "metadata": {},
   "outputs": [
    {
     "data": {
      "text/plain": [
       "2.8722813232690143"
      ]
     },
     "execution_count": 49,
     "metadata": {},
     "output_type": "execute_result"
    }
   ],
   "source": [
    "prices.std()"
   ]
  },
  {
   "cell_type": "markdown",
   "id": "8d9f6276",
   "metadata": {},
   "source": [
    "## Pandas"
   ]
  },
  {
   "cell_type": "code",
   "execution_count": 50,
   "id": "dfd971a5",
   "metadata": {},
   "outputs": [
    {
     "data": {
      "text/html": [
       "<div>\n",
       "<style scoped>\n",
       "    .dataframe tbody tr th:only-of-type {\n",
       "        vertical-align: middle;\n",
       "    }\n",
       "\n",
       "    .dataframe tbody tr th {\n",
       "        vertical-align: top;\n",
       "    }\n",
       "\n",
       "    .dataframe thead th {\n",
       "        text-align: right;\n",
       "    }\n",
       "</style>\n",
       "<table border=\"1\" class=\"dataframe\">\n",
       "  <thead>\n",
       "    <tr style=\"text-align: right;\">\n",
       "      <th></th>\n",
       "      <th>prices</th>\n",
       "    </tr>\n",
       "  </thead>\n",
       "  <tbody>\n",
       "    <tr>\n",
       "      <th>0</th>\n",
       "      <td>1</td>\n",
       "    </tr>\n",
       "    <tr>\n",
       "      <th>1</th>\n",
       "      <td>2</td>\n",
       "    </tr>\n",
       "    <tr>\n",
       "      <th>2</th>\n",
       "      <td>3</td>\n",
       "    </tr>\n",
       "    <tr>\n",
       "      <th>3</th>\n",
       "      <td>4</td>\n",
       "    </tr>\n",
       "    <tr>\n",
       "      <th>4</th>\n",
       "      <td>5</td>\n",
       "    </tr>\n",
       "    <tr>\n",
       "      <th>5</th>\n",
       "      <td>6</td>\n",
       "    </tr>\n",
       "    <tr>\n",
       "      <th>6</th>\n",
       "      <td>7</td>\n",
       "    </tr>\n",
       "    <tr>\n",
       "      <th>7</th>\n",
       "      <td>8</td>\n",
       "    </tr>\n",
       "    <tr>\n",
       "      <th>8</th>\n",
       "      <td>9</td>\n",
       "    </tr>\n",
       "    <tr>\n",
       "      <th>9</th>\n",
       "      <td>10</td>\n",
       "    </tr>\n",
       "  </tbody>\n",
       "</table>\n",
       "</div>"
      ],
      "text/plain": [
       "   prices\n",
       "0       1\n",
       "1       2\n",
       "2       3\n",
       "3       4\n",
       "4       5\n",
       "5       6\n",
       "6       7\n",
       "7       8\n",
       "8       9\n",
       "9      10"
      ]
     },
     "execution_count": 50,
     "metadata": {},
     "output_type": "execute_result"
    }
   ],
   "source": [
    "import pandas as pd\n",
    "df = pd.DataFrame({'prices': prices})\n",
    "df"
   ]
  },
  {
   "cell_type": "code",
   "execution_count": 51,
   "id": "39f3820f",
   "metadata": {},
   "outputs": [
    {
     "data": {
      "text/plain": [
       "prices    3.02765\n",
       "dtype: float64"
      ]
     },
     "execution_count": 51,
     "metadata": {},
     "output_type": "execute_result"
    }
   ],
   "source": [
    "df.std() # 3.02765"
   ]
  },
  {
   "cell_type": "code",
   "execution_count": 52,
   "id": "332dec6b",
   "metadata": {},
   "outputs": [
    {
     "data": {
      "text/plain": [
       "prices    2.872281\n",
       "dtype: float64"
      ]
     },
     "execution_count": 52,
     "metadata": {},
     "output_type": "execute_result"
    }
   ],
   "source": [
    "df.std(ddof=0)"
   ]
  },
  {
   "cell_type": "markdown",
   "id": "14bf1ce1",
   "metadata": {},
   "source": [
    "## Back to BTC and its standard deviation.\n",
    "\n"
   ]
  },
  {
   "cell_type": "code",
   "execution_count": 53,
   "id": "64dad9d5",
   "metadata": {},
   "outputs": [
    {
     "data": {
      "text/plain": [
       "count    1827.000000\n",
       "mean        0.308146\n",
       "std         4.158469\n",
       "min       -37.169539\n",
       "25%        -1.543504\n",
       "50%         0.232216\n",
       "75%         2.159124\n",
       "max        25.247169\n",
       "Name: ret_pct, dtype: float64"
      ]
     },
     "execution_count": 53,
     "metadata": {},
     "output_type": "execute_result"
    }
   ],
   "source": [
    "btc_df['ret_pct'].describe()"
   ]
  },
  {
   "cell_type": "code",
   "execution_count": 58,
   "id": "5b5a6efb",
   "metadata": {},
   "outputs": [],
   "source": [
    "btc_sd = btc_df['ret_pct'].std(ddof=0)\n",
    "btc_mean = btc_df['ret_pct'].mean()"
   ]
  },
  {
   "cell_type": "code",
   "execution_count": 62,
   "id": "f3a73e2d",
   "metadata": {},
   "outputs": [
    {
     "name": "stdout",
     "output_type": "stream",
     "text": [
      "68% of the daily returns for btc will be between -3.8492% and 4.4655%\n"
     ]
    }
   ],
   "source": [
    "print(f'68% of the daily returns for btc will be between {btc_mean - btc_sd:.4f}% and {btc_mean + btc_sd:.4f}%')"
   ]
  },
  {
   "cell_type": "markdown",
   "id": "7b7ccb5b",
   "metadata": {},
   "source": [
    "# Defining your own functions\n",
    "\n",
    "Really basic: https://www.guru99.com/functions-in-python.html\n",
    "\n",
    "More extensive: https://realpython.com/defining-your-own-python-function/#functions-in-python"
   ]
  },
  {
   "cell_type": "markdown",
   "id": "c413eadc",
   "metadata": {},
   "source": [
    "## Functions in Python\n",
    "\n",
    "Math: $y = ln(x)$\n",
    "\n",
    "Python:\n",
    "```\n",
    "y = log(x)\n",
    "```\n",
    "\n",
    "Both take zero or more arguments manipulate them somehow, and return a value."
   ]
  },
  {
   "cell_type": "code",
   "execution_count": 65,
   "id": "299a1554",
   "metadata": {},
   "outputs": [
    {
     "name": "stdout",
     "output_type": "stream",
     "text": [
      "list [2, 'hello', 3.14, 3.141592653589793] is of length 4\n"
     ]
    }
   ],
   "source": [
    "a = [2, 'hello', 3.14, np.pi]\n",
    "a_len = len(a)  # argument of list a returns how many els in that list\n",
    "print(f'list {a} is of length {a_len}') "
   ]
  },
  {
   "cell_type": "markdown",
   "id": "da44d628",
   "metadata": {},
   "source": [
    "## Abstraction and reusability\n",
    "\n",
    "### Abstraction of functionality\n",
    "\n",
    "Principal: Don't Repeat Yourself.\n",
    "\n",
    "## Avoid code smell\n",
    "\n",
    "Don't make me cut and paste.\n",
    "\n",
    "## Namespaces\n",
    "\n",
    "What happens in Vegas"
   ]
  },
  {
   "cell_type": "code",
   "execution_count": 67,
   "id": "5474ede7",
   "metadata": {},
   "outputs": [
    {
     "name": "stdout",
     "output_type": "stream",
     "text": [
      "Twice 5 is 10\n",
      "42\n",
      "Twice -3 is -6\n"
     ]
    }
   ],
   "source": [
    "def double(n):\n",
    "    return n+n\n",
    "\n",
    "double_me = 5\n",
    "print(f'Twice {double_me} is {double(double_me)}')\n",
    "\n",
    "print(double(21))\n",
    "\n",
    "x = -3\n",
    "y = double(x)\n",
    "print(f'Twice {x} is {y}')"
   ]
  },
  {
   "cell_type": "markdown",
   "id": "5112bd7e",
   "metadata": {},
   "source": [
    "## What's wrong with cut and paste?\n",
    "\n",
    "A nightmare to substitute a second bond's parameters."
   ]
  },
  {
   "cell_type": "code",
   "execution_count": 74,
   "id": "62a5712a",
   "metadata": {},
   "outputs": [
    {
     "name": "stdout",
     "output_type": "stream",
     "text": [
      "1163.5143334459713\n"
     ]
    }
   ],
   "source": [
    "annual_coupon_payment = 1000.0 * 0.06\n",
    "n = 10 * 2\n",
    "coupon_rate_per_payment = 1.0 + 0.04 / 2\n",
    "coupon_pv = annual_coupon_payment / 0.04 * (1.0 - coupon_rate_per_payment ** (-n))\n",
    "bond_pv = 1000.0 * coupon_rate_per_payment ** (-n)\n",
    "print(coupon_pv + bond_pv)"
   ]
  },
  {
   "cell_type": "code",
   "execution_count": 69,
   "id": "c2fc1133",
   "metadata": {},
   "outputs": [
    {
     "name": "stdout",
     "output_type": "stream",
     "text": [
      "Bond price is $1163.51\n"
     ]
    }
   ],
   "source": [
    "def calc_bond_price(face_value: float, coupon_rate: float, market_interest:float, years_to_maturity:int, payments_per_year:int=2) -> float:\n",
    "    \"\"\"\n",
    "    Calculate the bond price.\n",
    "    :param face_value: Bond face value, for example, 1000.00\n",
    "    :param coupon_rate: Bond's declared coupon rate, e.g., .06 (which would be 6%)\n",
    "    :param market_interest: Current market interest rate, e.g., 0.04 (for 4%)\n",
    "    :param years_to_maturity: years to maturity, e.g., 10 (for 10 years)\n",
    "    :param payments_per_year: payments per year, e.g., 2 (for semiannual)\n",
    "    :return: a float of the bond price.\n",
    "    \"\"\"\n",
    "    annual_coupon_payment = face_value * coupon_rate\n",
    "    n = years_to_maturity * payments_per_year\n",
    "    coupon_rate_per_payment = 1.0 + market_interest / payments_per_year\n",
    "    coupon_pv = annual_coupon_payment / market_interest * (1.0 - coupon_rate_per_payment ** (-n))\n",
    "    bond_pv = face_value * coupon_rate_per_payment ** (-n)\n",
    "    return coupon_pv + bond_pv\n",
    "\n",
    "bond_price = calc_bond_price(1000.0, 0.06, 0.04, 10, 2)\n",
    "print(f'Bond price is ${bond_price:.2f}')"
   ]
  },
  {
   "cell_type": "code",
   "execution_count": 75,
   "id": "bd4287a1",
   "metadata": {},
   "outputs": [
    {
     "name": "stdout",
     "output_type": "stream",
     "text": [
      "Calculated price: 1163.51\n",
      "Calculated price: 919.99\n",
      "Calculated price: 1000.00\n"
     ]
    }
   ],
   "source": [
    "# Imagine doing these three bonds with a cut and paste.\n",
    "\n",
    "bond1 = (1000.0, 0.06, 0.04, 10, 2) # see last week's homework\n",
    "bond2 = (1000.0, 0.10, 0.11359, 10, 2) # see https://dqydj.com/bond-pricing-calculator/\n",
    "bond3 = (970.0, 40.0/970.0, 0.0375, 10, 2) # see https://www.brandonrenfro.com/bond-price-calculator/\n",
    "\n",
    "bond_list = (bond1, bond2, bond3)\n",
    "for fv, coup, mkt, years, compound_freq, in bond_list:\n",
    "    price = calc_bond_price(face_value=fv, coupon_rate=coup, market_interest=mkt, years_to_maturity=years, payments_per_year=compound_freq)\n",
    "    print(f'Calculated price: {price:.2f}')"
   ]
  },
  {
   "cell_type": "markdown",
   "id": "9cb7bd70",
   "metadata": {},
   "source": [
    "## A closer look at the function definition\n",
    "\n",
    "```\n",
    "def calc_bond_price(face_value: float, coupon_rate: float, market_interest:float, years_to_maturity:int, payments_per_year:int=2) -> float:\n",
    "```\n",
    "\n",
    "* def tells us the definition is coming\n",
    "* calc_bond_price is the name\n",
    "* can take 4 or 5 arguments (one has a default)\n",
    "** face_value\n",
    "** coupon_rate\n",
    "** market_interest\n",
    "** years_to_maturity\n",
    "** payments_per_year (optional and defaults to 2 if missing)\n",
    "* We can specify the argument types with annotations.\n",
    "* We'll return a float.\n"
   ]
  },
  {
   "cell_type": "markdown",
   "id": "76856be2",
   "metadata": {},
   "source": [
    "## When calling the function, you can go by position or by keyword\n",
    "\n",
    "I prefer keywords because they have saved me when I've altered the function."
   ]
  },
  {
   "cell_type": "code",
   "execution_count": 76,
   "id": "b3a99e19",
   "metadata": {},
   "outputs": [
    {
     "data": {
      "text/plain": [
       "1163.5143334459713"
      ]
     },
     "execution_count": 76,
     "metadata": {},
     "output_type": "execute_result"
    }
   ],
   "source": [
    "calc_bond_price(1000.0, 0.06, 0.04, 10, 2)"
   ]
  },
  {
   "cell_type": "code",
   "execution_count": 77,
   "id": "9abf1391",
   "metadata": {},
   "outputs": [
    {
     "data": {
      "text/plain": [
       "1163.5143334459713"
      ]
     },
     "execution_count": 77,
     "metadata": {},
     "output_type": "execute_result"
    }
   ],
   "source": [
    "# Following goes with default of semiannual (payments_per_year=2)\n",
    "calc_bond_price(face_value=1000.0, coupon_rate=0.06, market_interest=0.04, years_to_maturity=10)"
   ]
  },
  {
   "cell_type": "markdown",
   "id": "cd4a76e2",
   "metadata": {},
   "source": [
    "## Do we pass-by-value or pass-by-reference?\n",
    "\n",
    "Or... what happens when my function changes an argument passed to it?"
   ]
  },
  {
   "cell_type": "code",
   "execution_count": 86,
   "id": "899c1685",
   "metadata": {},
   "outputs": [
    {
     "name": "stdout",
     "output_type": "stream",
     "text": [
      "3 4\n"
     ]
    }
   ],
   "source": [
    "def increment(x: int) -> int:\n",
    "    x += 1  # What happens in Vegas...\n",
    "    return x\n",
    "y = increment(3) # I'd better not change 3 !\n",
    "print(3, y)"
   ]
  },
  {
   "cell_type": "code",
   "execution_count": 83,
   "id": "3cef3882",
   "metadata": {},
   "outputs": [
    {
     "name": "stdout",
     "output_type": "stream",
     "text": [
      "3 4\n"
     ]
    }
   ],
   "source": [
    "t = 3\n",
    "y = increment(t)\n",
    "print(t, y) # Relief that t was unchanged. Only x changed, but that was within increment.\n"
   ]
  },
  {
   "cell_type": "code",
   "execution_count": 85,
   "id": "80696203",
   "metadata": {},
   "outputs": [
    {
     "name": "stdout",
     "output_type": "stream",
     "text": [
      "Popped off 3.141592653589793. List is: [2, 'hello', 3.14]\n"
     ]
    }
   ],
   "source": [
    "def haircut(lst: list):\n",
    "    off_the_top = lst.pop() # What happens in Vegas sometimes stay in Vegas.\n",
    "    return off_the_top\n",
    "\n",
    "a = [2, 'hello', 3.14, np.pi]\n",
    "top = haircut(a)\n",
    "print(f'Popped off {top}. List is: {a}')   # As a side effect, haircut changes lst passed to it."
   ]
  },
  {
   "cell_type": "markdown",
   "id": "835a67c3",
   "metadata": {},
   "source": [
    "## We passed something immutable (an int) to increment.\n",
    "\n",
    "It didn't change. It acted like a pass-by-value.\n",
    "\n",
    "## We passed something mutable (a list) to haircut.\n",
    "\n",
    "It changed the list. It acted like a pass-by-reference."
   ]
  },
  {
   "cell_type": "markdown",
   "id": "53644aae",
   "metadata": {},
   "source": [
    "## the return statement\n",
    "\n",
    "This returns a value back to the caller.\n",
    "\n",
    "It can be as simple as an int or as complex as you want it to be.\n",
    "\n",
    "It's usually a single value, like an int or a None, but can be a tuple.\n",
    "\n",
    "Return can be an early exit. \n",
    "* No need to keep on going if there's an error\n",
    "* No need to keep on searching if you've found something.\n"
   ]
  },
  {
   "cell_type": "markdown",
   "id": "add8fe86",
   "metadata": {},
   "source": [
    "## Docstring\n",
    "\n",
    "Functions are first-class objects."
   ]
  },
  {
   "cell_type": "code",
   "execution_count": 88,
   "id": "4fd57416",
   "metadata": {},
   "outputs": [
    {
     "data": {
      "text/plain": [
       "<function __main__.calc_bond_price(face_value: float, coupon_rate: float, market_interest: float, years_to_maturity: int, payments_per_year: int = 2) -> float>"
      ]
     },
     "execution_count": 88,
     "metadata": {},
     "output_type": "execute_result"
    }
   ],
   "source": [
    "calc_bond_price"
   ]
  },
  {
   "cell_type": "code",
   "execution_count": 91,
   "id": "68cce902",
   "metadata": {},
   "outputs": [
    {
     "name": "stdout",
     "output_type": "stream",
     "text": [
      "\n",
      "    Calculate the bond price.\n",
      "    :param face_value: Bond face value, for example, 1000.00\n",
      "    :param coupon_rate: Bond's declared coupon rate, e.g., .06 (which would be 6%)\n",
      "    :param market_interest: Current market interest rate, e.g., 0.04 (for 4%)\n",
      "    :param years_to_maturity: years to maturity, e.g., 10 (for 10 years)\n",
      "    :param payments_per_year: payments per year, e.g., 2 (for semiannual)\n",
      "    :return: a float of the bond price.\n",
      "    \n"
     ]
    }
   ],
   "source": [
    "print(calc_bond_price.__doc__)"
   ]
  },
  {
   "cell_type": "markdown",
   "id": "7fd0ffa7",
   "metadata": {},
   "source": [
    "# Exceptions\n",
    "\n",
    "Try to make them as narrow as possible.\n",
    "\n",
    "Recall our simple dictionary from Module 4.\n",
    "\n",
    "Examples: https://realpython.com/python-exceptions/\n",
    "\n",
    "Reference: https://docs.python.org/3/library/exceptions.html"
   ]
  },
  {
   "cell_type": "code",
   "execution_count": 92,
   "id": "633c4009",
   "metadata": {},
   "outputs": [
    {
     "data": {
      "text/plain": [
       "{'one': 'un', 'two': 'deux', 'three': 'trois', 'four': 'quatre'}"
      ]
     },
     "execution_count": 92,
     "metadata": {},
     "output_type": "execute_result"
    }
   ],
   "source": [
    "# empty dictionary\n",
    "d1 = {}\n",
    "english = ['one', 'two', 'three', 'four']\n",
    "french = ['un', 'deux', 'trois', 'quatre']\n",
    "for eng, fr in zip(english, french):\n",
    "    d1[eng] = fr\n",
    "d1"
   ]
  },
  {
   "cell_type": "code",
   "execution_count": 95,
   "id": "ebf4f579",
   "metadata": {},
   "outputs": [
    {
     "ename": "KeyError",
     "evalue": "'five'",
     "output_type": "error",
     "traceback": [
      "\u001b[1;31m---------------------------------------------------------------------------\u001b[0m",
      "\u001b[1;31mKeyError\u001b[0m                                  Traceback (most recent call last)",
      "\u001b[1;32m~\\AppData\\Local\\Temp/ipykernel_23028/249822168.py\u001b[0m in \u001b[0;36m<module>\u001b[1;34m\u001b[0m\n\u001b[0;32m      1\u001b[0m \u001b[1;31m# What if we try five?\u001b[0m\u001b[1;33m\u001b[0m\u001b[1;33m\u001b[0m\u001b[0m\n\u001b[0;32m      2\u001b[0m \u001b[0mk\u001b[0m \u001b[1;33m=\u001b[0m \u001b[1;34m'five'\u001b[0m\u001b[1;33m\u001b[0m\u001b[1;33m\u001b[0m\u001b[0m\n\u001b[1;32m----> 3\u001b[1;33m \u001b[0md1\u001b[0m\u001b[1;33m[\u001b[0m\u001b[0mk\u001b[0m\u001b[1;33m]\u001b[0m \u001b[1;31m# KeyError\u001b[0m\u001b[1;33m\u001b[0m\u001b[1;33m\u001b[0m\u001b[0m\n\u001b[0m",
      "\u001b[1;31mKeyError\u001b[0m: 'five'"
     ]
    }
   ],
   "source": [
    "# What if we try five? \n",
    "k = 'five'\n",
    "d1[k] # KeyError"
   ]
  },
  {
   "cell_type": "code",
   "execution_count": 96,
   "id": "58701de4",
   "metadata": {},
   "outputs": [
    {
     "name": "stdout",
     "output_type": "stream",
     "text": [
      "Key five was not found in the dictionary.\n"
     ]
    }
   ],
   "source": [
    "# Use try / except\n",
    "try: \n",
    "    french = d1[k]\n",
    "except KeyError:\n",
    "    print(f'Key {k} was not found in the dictionary.')"
   ]
  },
  {
   "cell_type": "markdown",
   "id": "add0f72a",
   "metadata": {},
   "source": [
    "## Different from a syntax error\n",
    "\n",
    "These can only be found at runtime."
   ]
  },
  {
   "cell_type": "code",
   "execution_count": 100,
   "id": "295f2bf2",
   "metadata": {},
   "outputs": [
    {
     "name": "stdout",
     "output_type": "stream",
     "text": [
      "Inverse of 10 is 0.1\n",
      "Inverse of 1 is 1.0\n",
      "Cannot calculate inverse of 0\n",
      "Inverse of 0.1 is 10.0\n"
     ]
    }
   ],
   "source": [
    "denoms = [10, 1, 0, 0.1]\n",
    "for d in denoms:\n",
    "    try:\n",
    "        inv = 1.0 / d\n",
    "        print(f'Inverse of {d} is {inv}')\n",
    "    except ZeroDivisionError:\n",
    "        print(f'Cannot calculate inverse of {d}')\n",
    "        "
   ]
  },
  {
   "cell_type": "markdown",
   "id": "4915213b",
   "metadata": {},
   "source": [
    "## We can also raise our own exceptions\n",
    "\n",
    "They are caught from specific to general.\n",
    "\n",
    "Suppose we are passed a file, but can only handle CSV, XLS, and XLSX files.\n",
    "\n",
    "Throw an exception if it's another type (say .parquet).\n",
    "\n",
    "Throw a different exception if the file is not found.\n",
    "\n",
    "Reference: https://docs.python.org/3/library/pathlib.html\n"
   ]
  },
  {
   "cell_type": "code",
   "execution_count": 105,
   "id": "1fcc562b",
   "metadata": {},
   "outputs": [],
   "source": [
    "from pathlib import Path\n",
    "def handle_file(file: str) -> pd.DataFrame:\n",
    "    f = Path(file)\n",
    "    ext = f.suffix\n",
    "    if ext not in ['.csv', '.xls', '.xlsx']:\n",
    "        raise NotImplementedError(f'file extension {ext} is not handled yet.')\n",
    "        return None\n",
    "    if not f.exists():\n",
    "        raise FileNotFoundError(f'Cannot find file {file}')\n",
    "        return None\n",
    "    # We found it!\n",
    "    # ... process it here\n",
    "    return f.name\n"
   ]
  },
  {
   "cell_type": "code",
   "execution_count": 106,
   "id": "ee3d5e82",
   "metadata": {},
   "outputs": [
    {
     "name": "stdout",
     "output_type": "stream",
     "text": [
      "Handled file BTC-USD.csv\n",
      "file extension .parquet is not handled yet.\n",
      "Cannot find file cnotfound.xlsx\n"
     ]
    }
   ],
   "source": [
    "files = ['BTC-USD.csv', 'b.parquet', 'cnotfound.xlsx']\n",
    "for fn in files:\n",
    "    try:\n",
    "        f = handle_file(fn)\n",
    "        print(f'Handled file {f}')\n",
    "    except FileNotFoundError as e:\n",
    "        print(e)\n",
    "    except NotImplementedError as e:\n",
    "        print(e)\n",
    "    \n",
    "        "
   ]
  },
  {
   "cell_type": "code",
   "execution_count": null,
   "id": "2e23b9d2",
   "metadata": {},
   "outputs": [],
   "source": []
  }
 ],
 "metadata": {
  "kernelspec": {
   "display_name": "Python 3 (ipykernel)",
   "language": "python",
   "name": "python3"
  },
  "language_info": {
   "codemirror_mode": {
    "name": "ipython",
    "version": 3
   },
   "file_extension": ".py",
   "mimetype": "text/x-python",
   "name": "python",
   "nbconvert_exporter": "python",
   "pygments_lexer": "ipython3",
   "version": "3.9.7"
  }
 },
 "nbformat": 4,
 "nbformat_minor": 5
}
