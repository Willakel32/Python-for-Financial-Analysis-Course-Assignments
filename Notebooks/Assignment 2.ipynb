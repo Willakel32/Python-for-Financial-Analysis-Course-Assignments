{
 "cells": [
  {
   "cell_type": "markdown",
   "id": "1afebf74-7f1b-4371-9f1c-0c34e9c27d4e",
   "metadata": {},
   "source": [
    "# Assignment 2 #"
   ]
  },
  {
   "cell_type": "markdown",
   "id": "7bd36257-0b6c-495c-95c5-e805aeb5f845",
   "metadata": {},
   "source": [
    "### 1. Datetime ###"
   ]
  },
  {
   "cell_type": "code",
   "execution_count": 1,
   "id": "88a5029c-9d3c-4625-a90c-867c11ad594c",
   "metadata": {},
   "outputs": [],
   "source": [
    "import pandas as pd\n",
    "import numpy as np\n",
    "import datetime"
   ]
  },
  {
   "cell_type": "code",
   "execution_count": 4,
   "id": "3fd320dc-bd85-46ec-bfa0-a50fea750875",
   "metadata": {},
   "outputs": [
    {
     "name": "stdout",
     "output_type": "stream",
     "text": [
      "2022-03-20\n"
     ]
    }
   ],
   "source": [
    "equinox = datetime.date(2022,3,20)\n",
    "print(equinox)"
   ]
  },
  {
   "cell_type": "code",
   "execution_count": 7,
   "id": "95e60852-9354-42ff-8935-1186249a3a49",
   "metadata": {},
   "outputs": [
    {
     "name": "stdout",
     "output_type": "stream",
     "text": [
      "Spring is coming\n",
      "Spring has sprung\n"
     ]
    }
   ],
   "source": [
    "def equinox_calc(date):\n",
    "    if date > datetime.date(2022,3,20):\n",
    "        print(\"Spring has sprung\")\n",
    "    else:\n",
    "        print(\"Spring is coming\")\n",
    "date1 = datetime.date(2021,5,12)\n",
    "date2 = datetime.date(2022,4,10)\n",
    "\n",
    "equinox_calc(date1)\n",
    "equinox_calc(date2)"
   ]
  },
  {
   "cell_type": "code",
   "execution_count": 11,
   "id": "e524456a-1a86-4c36-a65b-86f5a5dac871",
   "metadata": {},
   "outputs": [
    {
     "name": "stdout",
     "output_type": "stream",
     "text": [
      "312 Days until the 2022 spring equinox\n",
      "21 Days since the 2022 spring equinox\n"
     ]
    }
   ],
   "source": [
    "def day_diff(date):\n",
    "    if date > equinox:\n",
    "        delta = date - equinox\n",
    "        return (f\"{delta.days} Days since the 2022 spring equinox\")\n",
    "    else:\n",
    "        delta = equinox - date\n",
    "        return (f\"{delta.days} Days until the 2022 spring equinox\")\n",
    "    \n",
    "date1 = datetime.date(2021,5,12)\n",
    "date2 = datetime.date(2022,4,10)\n",
    "\n",
    "print(day_diff(date1))\n",
    "print(day_diff(date2))"
   ]
  },
  {
   "cell_type": "markdown",
   "id": "fb92a3da-c914-4f8e-a213-51c12989f715",
   "metadata": {},
   "source": [
    "### 2. Bond Calculator ###"
   ]
  },
  {
   "cell_type": "code",
   "execution_count": 30,
   "id": "7211725f-bf6c-4733-98cf-c0e70bdfbdcc",
   "metadata": {},
   "outputs": [
    {
     "data": {
      "text/plain": [
       "1162.2179155871004"
      ]
     },
     "execution_count": 30,
     "metadata": {},
     "output_type": "execute_result"
    }
   ],
   "source": [
    "def bond_calculator(face_value,coupon_payment,coupon_freq,IR,YTM):\n",
    "    coupon_per_period = coupon_payment * coupon_freq\n",
    "    price = 0\n",
    "    for i in range(1,YTM):    \n",
    "        price += coupon_per_period / ((1 + IR)**i)\n",
    "    price += (face_value+ coupon_per_period) / ((1+IR)**YTM)\n",
    "    return price\n",
    "\n",
    "bond_calculator(1000,30,2,.04,10)"
   ]
  },
  {
   "cell_type": "code",
   "execution_count": null,
   "id": "3dd9c19c-469d-4786-a3e8-f84189e2baf5",
   "metadata": {},
   "outputs": [],
   "source": []
  }
 ],
 "metadata": {
  "kernelspec": {
   "display_name": "Python 3 (ipykernel)",
   "language": "python",
   "name": "python3"
  },
  "language_info": {
   "codemirror_mode": {
    "name": "ipython",
    "version": 3
   },
   "file_extension": ".py",
   "mimetype": "text/x-python",
   "name": "python",
   "nbconvert_exporter": "python",
   "pygments_lexer": "ipython3",
   "version": "3.9.7"
  }
 },
 "nbformat": 4,
 "nbformat_minor": 5
}
